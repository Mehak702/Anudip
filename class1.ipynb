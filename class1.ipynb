{
 "cells": [
  {
   "cell_type": "code",
   "execution_count": 10,
   "id": "34ffdf49-c5a7-4985-852f-88f919d8a2be",
   "metadata": {},
   "outputs": [
    {
     "name": "stdout",
     "output_type": "stream",
     "text": [
      "hello world\n"
     ]
    }
   ],
   "source": [
    "print(\"hello world\")"
   ]
  },
  {
   "cell_type": "code",
   "execution_count": 11,
   "id": "c922bce4-b30b-4404-ac7c-e607abe3428d",
   "metadata": {},
   "outputs": [
    {
     "name": "stdout",
     "output_type": "stream",
     "text": [
      "hello world\n"
     ]
    }
   ],
   "source": [
    "print('hello', end=' ')\n",
    "print('world')"
   ]
  },
  {
   "cell_type": "code",
   "execution_count": 12,
   "id": "dbbaf127-81e7-4aac-9cdc-b0c6a6ff66f3",
   "metadata": {},
   "outputs": [
    {
     "name": "stdout",
     "output_type": "stream",
     "text": [
      "hello *** dear\n"
     ]
    }
   ],
   "source": [
    "print('hello', end=' *** ')\n",
    "print('dear')"
   ]
  },
  {
   "cell_type": "code",
   "execution_count": 13,
   "id": "b514826f-93a1-486e-a567-bd7998c5272e",
   "metadata": {},
   "outputs": [
    {
     "name": "stdout",
     "output_type": "stream",
     "text": [
      " hello notworld\n",
      "it will be in next line\n"
     ]
    }
   ],
   "source": [
    "print(' hello' , end= ' not')\n",
    "print('world')\n",
    "print('it will be in next line')"
   ]
  },
  {
   "cell_type": "code",
   "execution_count": 16,
   "id": "c59e5120-6e2c-491b-ad36-95eb2e4078fe",
   "metadata": {},
   "outputs": [
    {
     "data": {
      "text/plain": [
       "int"
      ]
     },
     "execution_count": 16,
     "metadata": {},
     "output_type": "execute_result"
    }
   ],
   "source": [
    "age =25\n",
    "type(age)\n"
   ]
  },
  {
   "cell_type": "code",
   "execution_count": 17,
   "id": "92910cbb-9eca-4873-9390-95bf9b4fc405",
   "metadata": {},
   "outputs": [
    {
     "data": {
      "text/plain": [
       "float"
      ]
     },
     "execution_count": 17,
     "metadata": {},
     "output_type": "execute_result"
    }
   ],
   "source": [
    "num= 29.6\n",
    "type(num)"
   ]
  },
  {
   "cell_type": "code",
   "execution_count": 18,
   "id": "fa627ae8-e335-41df-93f4-4cf993f0d52e",
   "metadata": {},
   "outputs": [
    {
     "data": {
      "text/plain": [
       "str"
      ]
     },
     "execution_count": 18,
     "metadata": {},
     "output_type": "execute_result"
    }
   ],
   "source": [
    "name= 'mehak'\n",
    "type(name)\n"
   ]
  },
  {
   "cell_type": "code",
   "execution_count": 19,
   "id": "0d4c8885-0c60-4003-95c4-b317f3ba04d1",
   "metadata": {},
   "outputs": [
    {
     "data": {
      "text/plain": [
       "bool"
      ]
     },
     "execution_count": 19,
     "metadata": {},
     "output_type": "execute_result"
    }
   ],
   "source": [
    "statement = True\n",
    "type(statement)\n"
   ]
  },
  {
   "cell_type": "code",
   "execution_count": 20,
   "id": "a937fa08-6ce6-461e-aed1-295a5e219622",
   "metadata": {},
   "outputs": [
    {
     "data": {
      "text/plain": [
       "complex"
      ]
     },
     "execution_count": 20,
     "metadata": {},
     "output_type": "execute_result"
    }
   ],
   "source": [
    "z= 3+4j\n",
    "type(z)"
   ]
  },
  {
   "cell_type": "code",
   "execution_count": 21,
   "id": "76898f42-b5ee-47dd-8590-3118478c3a1e",
   "metadata": {},
   "outputs": [
    {
     "data": {
      "text/plain": [
       "list"
      ]
     },
     "execution_count": 21,
     "metadata": {},
     "output_type": "execute_result"
    }
   ],
   "source": [
    "lis = ['apple', 5 ,True , 7]\n",
    "type(lis)"
   ]
  },
  {
   "cell_type": "code",
   "execution_count": 22,
   "id": "1a9a7a91-6902-4269-9f78-e4a75e2ebe8c",
   "metadata": {},
   "outputs": [],
   "source": [
    "point= (3,4)\n",
    "color= ('red', 'green', 'blue')\n",
    "person= (\"red\", 90)\n"
   ]
  },
  {
   "cell_type": "code",
   "execution_count": 23,
   "id": "10a8a4e3-5806-4b1c-9e28-726d3cae611c",
   "metadata": {},
   "outputs": [
    {
     "data": {
      "text/plain": [
       "tuple"
      ]
     },
     "execution_count": 23,
     "metadata": {},
     "output_type": "execute_result"
    }
   ],
   "source": [
    "type(point)"
   ]
  },
  {
   "cell_type": "code",
   "execution_count": 24,
   "id": "80957f89-b274-4e01-a8d0-195958e4db17",
   "metadata": {},
   "outputs": [
    {
     "data": {
      "text/plain": [
       "{'apple', 'b', 'banana'}"
      ]
     },
     "execution_count": 24,
     "metadata": {},
     "output_type": "execute_result"
    }
   ],
   "source": [
    "unique_num = {1,2,8,2,9,5}\n",
    "fruits = {'apple','banana','b'}\n",
    "fruits"
   ]
  },
  {
   "cell_type": "code",
   "execution_count": 25,
   "id": "b5bedddc-b962-4b06-9b17-e99a3fcc14a8",
   "metadata": {},
   "outputs": [
    {
     "data": {
      "text/plain": [
       "set"
      ]
     },
     "execution_count": 25,
     "metadata": {},
     "output_type": "execute_result"
    }
   ],
   "source": [
    "type(unique_num)"
   ]
  },
  {
   "cell_type": "code",
   "execution_count": null,
   "id": "4cca739b-a24e-4b32-bd53-5a94a015320d",
   "metadata": {},
   "outputs": [],
   "source": []
  }
 ],
 "metadata": {
  "kernelspec": {
   "display_name": "Python 3 (ipykernel)",
   "language": "python",
   "name": "python3"
  },
  "language_info": {
   "codemirror_mode": {
    "name": "ipython",
    "version": 3
   },
   "file_extension": ".py",
   "mimetype": "text/x-python",
   "name": "python",
   "nbconvert_exporter": "python",
   "pygments_lexer": "ipython3",
   "version": "3.12.7"
  }
 },
 "nbformat": 4,
 "nbformat_minor": 5
}
