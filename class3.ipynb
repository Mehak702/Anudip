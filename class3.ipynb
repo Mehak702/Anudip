{
 "cells": [
  {
   "cell_type": "code",
   "execution_count": 12,
   "id": "2beda899-aab4-439f-add9-982f7a05cab0",
   "metadata": {},
   "outputs": [],
   "source": [
    "int_value= 'mehak'"
   ]
  },
  {
   "cell_type": "code",
   "execution_count": 13,
   "id": "018acee5-7434-49d9-bef9-1ab8b7fcf05e",
   "metadata": {},
   "outputs": [
    {
     "data": {
      "text/plain": [
       "str"
      ]
     },
     "execution_count": 13,
     "metadata": {},
     "output_type": "execute_result"
    }
   ],
   "source": [
    "type(int_value)"
   ]
  },
  {
   "cell_type": "code",
   "execution_count": 14,
   "id": "641aecb4-3936-4b10-bf5a-7e83d43cdf64",
   "metadata": {},
   "outputs": [
    {
     "ename": "ValueError",
     "evalue": "could not convert string to float: 'mehak'",
     "output_type": "error",
     "traceback": [
      "\u001b[1;31m---------------------------------------------------------------------------\u001b[0m",
      "\u001b[1;31mValueError\u001b[0m                                Traceback (most recent call last)",
      "Cell \u001b[1;32mIn[14], line 1\u001b[0m\n\u001b[1;32m----> 1\u001b[0m float_value\u001b[38;5;241m=\u001b[39m\u001b[38;5;28mfloat\u001b[39m(int_value)\n",
      "\u001b[1;31mValueError\u001b[0m: could not convert string to float: 'mehak'"
     ]
    }
   ],
   "source": [
    "float_value=float(int_value)  # we can't conver str to number but can convert number to string "
   ]
  },
  {
   "cell_type": "code",
   "execution_count": 15,
   "id": "d8a9e37b-6529-45eb-ac3a-3a5ea7ed34cc",
   "metadata": {},
   "outputs": [
    {
     "data": {
      "text/plain": [
       "float"
      ]
     },
     "execution_count": 15,
     "metadata": {},
     "output_type": "execute_result"
    }
   ],
   "source": [
    "type(float_value)"
   ]
  },
  {
   "cell_type": "code",
   "execution_count": null,
   "id": "a4d4b935-8b52-4115-8ec7-727997d552ab",
   "metadata": {},
   "outputs": [],
   "source": []
  },
  {
   "cell_type": "code",
   "execution_count": 7,
   "id": "ffdc45e5-acfc-4608-80af-e4fcae2a1674",
   "metadata": {},
   "outputs": [],
   "source": [
    "age_str = '24'"
   ]
  },
  {
   "cell_type": "code",
   "execution_count": 8,
   "id": "172acc25-a2ec-4087-a27f-8ea9cfc796b3",
   "metadata": {},
   "outputs": [
    {
     "data": {
      "text/plain": [
       "str"
      ]
     },
     "execution_count": 8,
     "metadata": {},
     "output_type": "execute_result"
    }
   ],
   "source": [
    "type(age_str)"
   ]
  },
  {
   "cell_type": "code",
   "execution_count": 10,
   "id": "7ddd93d5-2d4d-4de9-8141-4abfc37c7a5d",
   "metadata": {},
   "outputs": [],
   "source": [
    "float_value=float(int_value)"
   ]
  },
  {
   "cell_type": "code",
   "execution_count": 11,
   "id": "ca4ddb83-ad24-4824-be93-54ae2fb457ba",
   "metadata": {},
   "outputs": [
    {
     "data": {
      "text/plain": [
       "float"
      ]
     },
     "execution_count": 11,
     "metadata": {},
     "output_type": "execute_result"
    }
   ],
   "source": [
    "type(float_value)"
   ]
  },
  {
   "cell_type": "code",
   "execution_count": 17,
   "id": "2c998441-5316-40f7-9907-c45664be73f2",
   "metadata": {},
   "outputs": [
    {
     "name": "stdout",
     "output_type": "stream",
     "text": [
      "16.5\n"
     ]
    }
   ],
   "source": [
    "print(6+10.5) #implicit dt"
   ]
  },
  {
   "cell_type": "code",
   "execution_count": 22,
   "id": "65e317fc-db42-4953-b099-0dd60c680526",
   "metadata": {},
   "outputs": [
    {
     "ename": "TypeError",
     "evalue": "unsupported operand type(s) for +: 'int' and 'str'",
     "output_type": "error",
     "traceback": [
      "\u001b[1;31m---------------------------------------------------------------------------\u001b[0m",
      "\u001b[1;31mTypeError\u001b[0m                                 Traceback (most recent call last)",
      "Cell \u001b[1;32mIn[22], line 1\u001b[0m\n\u001b[1;32m----> 1\u001b[0m \u001b[38;5;28mprint\u001b[39m(\u001b[38;5;241m8\u001b[39m \u001b[38;5;241m+\u001b[39m \u001b[38;5;124m'\u001b[39m\u001b[38;5;124m9\u001b[39m\u001b[38;5;124m'\u001b[39m)\n",
      "\u001b[1;31mTypeError\u001b[0m: unsupported operand type(s) for +: 'int' and 'str'"
     ]
    }
   ],
   "source": [
    "print(8 + '9') #implicit don't work here "
   ]
  },
  {
   "cell_type": "code",
   "execution_count": null,
   "id": "db4cec24-5389-4b3d-9fa8-d62d893b84cd",
   "metadata": {},
   "outputs": [],
   "source": [
    "#explicit when programmer write a code to convert "
   ]
  },
  {
   "cell_type": "code",
   "execution_count": 18,
   "id": "343a41ba-3b76-45d6-9586-1e72e44f6f0e",
   "metadata": {},
   "outputs": [],
   "source": [
    "a=10"
   ]
  },
  {
   "cell_type": "code",
   "execution_count": 23,
   "id": "b30f0487-d67b-4124-8265-23f24151b65e",
   "metadata": {},
   "outputs": [],
   "source": [
    "b= str(a)"
   ]
  },
  {
   "cell_type": "code",
   "execution_count": 24,
   "id": "62a70088-ea3c-419a-9c26-570dc36bced6",
   "metadata": {},
   "outputs": [
    {
     "data": {
      "text/plain": [
       "str"
      ]
     },
     "execution_count": 24,
     "metadata": {},
     "output_type": "execute_result"
    }
   ],
   "source": [
    "type(b)"
   ]
  },
  {
   "cell_type": "markdown",
   "id": "2b7186fd-b78a-42ab-99dc-07151f949a70",
   "metadata": {},
   "source": [
    "# syntax"
   ]
  },
  {
   "cell_type": "code",
   "execution_count": 27,
   "id": "12a92a31-ed70-4548-96ef-3972a24b07a7",
   "metadata": {},
   "outputs": [],
   "source": [
    "# it is set of rules that defines the structure of valid statement and expressions in programmingg language "
   ]
  },
  {
   "cell_type": "markdown",
   "id": "b78affa1-13c3-44a7-8b7c-8d81cc8c4fd5",
   "metadata": {},
   "source": [
    "# literals"
   ]
  },
  {
   "cell_type": "code",
   "execution_count": 29,
   "id": "88db8ddf-a004-4995-bea1-e740189d9e33",
   "metadata": {},
   "outputs": [],
   "source": [
    "# it is a fixed value that is directly written into the code "
   ]
  },
  {
   "cell_type": "markdown",
   "id": "82410d3c-340e-47c2-b3e0-629acc110326",
   "metadata": {},
   "source": [
    "# operators in python"
   ]
  },
  {
   "cell_type": "code",
   "execution_count": 30,
   "id": "12da514f-5e53-4d75-87e6-f95e31974f2b",
   "metadata": {},
   "outputs": [],
   "source": [
    "# it is a symbol that performs "
   ]
  },
  {
   "cell_type": "markdown",
   "id": "30527f62-d509-4f9f-9851-49f4735e9185",
   "metadata": {},
   "source": [
    "# arthmetic operators"
   ]
  },
  {
   "cell_type": "markdown",
   "id": "09ed2572-5724-4d52-a344-41ff91ab6ace",
   "metadata": {},
   "source": [
    "## addition + , subtraction - , multiplication * , division /"
   ]
  },
  {
   "cell_type": "code",
   "execution_count": 31,
   "id": "ead3e878-3854-40b9-a072-2882d31b4c72",
   "metadata": {},
   "outputs": [
    {
     "data": {
      "text/plain": [
       "10"
      ]
     },
     "execution_count": 31,
     "metadata": {},
     "output_type": "execute_result"
    }
   ],
   "source": [
    "5+5"
   ]
  },
  {
   "cell_type": "code",
   "execution_count": 35,
   "id": "e8187d04-86e3-46c6-bd34-b3438648c42f",
   "metadata": {},
   "outputs": [],
   "source": [
    "a = 2"
   ]
  },
  {
   "cell_type": "code",
   "execution_count": 36,
   "id": "d2e7a1be-dd16-491c-bdbc-79ef993992f5",
   "metadata": {},
   "outputs": [],
   "source": [
    "b = 6"
   ]
  },
  {
   "cell_type": "code",
   "execution_count": 37,
   "id": "3cd79f80-ed17-40f7-bc33-1f33869556c1",
   "metadata": {},
   "outputs": [
    {
     "data": {
      "text/plain": [
       "8"
      ]
     },
     "execution_count": 37,
     "metadata": {},
     "output_type": "execute_result"
    }
   ],
   "source": [
    "a+b"
   ]
  },
  {
   "cell_type": "code",
   "execution_count": 38,
   "id": "7aa6e16e-edd6-4576-aeaf-561b8fe701b7",
   "metadata": {},
   "outputs": [],
   "source": [
    "a= 4"
   ]
  },
  {
   "cell_type": "code",
   "execution_count": 39,
   "id": "03445a2f-2b0f-4da7-9bd7-2d31175caa4f",
   "metadata": {},
   "outputs": [],
   "source": [
    "b= 5"
   ]
  },
  {
   "cell_type": "code",
   "execution_count": 40,
   "id": "2e412505-cd0c-46d1-9382-bc878a50a62e",
   "metadata": {},
   "outputs": [
    {
     "data": {
      "text/plain": [
       "-1"
      ]
     },
     "execution_count": 40,
     "metadata": {},
     "output_type": "execute_result"
    }
   ],
   "source": [
    "a-b"
   ]
  },
  {
   "cell_type": "code",
   "execution_count": 41,
   "id": "067c086a-01d6-42c5-815b-59fc19c665c9",
   "metadata": {},
   "outputs": [
    {
     "data": {
      "text/plain": [
       "20"
      ]
     },
     "execution_count": 41,
     "metadata": {},
     "output_type": "execute_result"
    }
   ],
   "source": [
    "a*b"
   ]
  },
  {
   "cell_type": "code",
   "execution_count": 44,
   "id": "1df4fa80-d55f-4513-873a-51c30a89f2e7",
   "metadata": {},
   "outputs": [
    {
     "data": {
      "text/plain": [
       "0.8"
      ]
     },
     "execution_count": 44,
     "metadata": {},
     "output_type": "execute_result"
    }
   ],
   "source": [
    "a/b"
   ]
  },
  {
   "cell_type": "code",
   "execution_count": 45,
   "id": "520f37b6-0dde-473a-b9b4-98f296c29a8d",
   "metadata": {},
   "outputs": [
    {
     "data": {
      "text/plain": [
       "6"
      ]
     },
     "execution_count": 45,
     "metadata": {},
     "output_type": "execute_result"
    }
   ],
   "source": [
    "12//2 # the floor division operator divides the first number by the second and returns the largest integer less than or equal to the result "
   ]
  },
  {
   "cell_type": "code",
   "execution_count": 46,
   "id": "d58b16f9-cb3e-4470-9fd8-d1e2e90c3f6f",
   "metadata": {},
   "outputs": [
    {
     "data": {
      "text/plain": [
       "8"
      ]
     },
     "execution_count": 46,
     "metadata": {},
     "output_type": "execute_result"
    }
   ],
   "source": [
    "17//2"
   ]
  },
  {
   "cell_type": "markdown",
   "id": "b7bb929e-727f-4d81-a039-c02cea253db1",
   "metadata": {},
   "source": [
    "### modulus(%)"
   ]
  },
  {
   "cell_type": "code",
   "execution_count": 47,
   "id": "e7239a94-cbcb-4105-a12b-0df56e3a5800",
   "metadata": {},
   "outputs": [],
   "source": [
    "#returns remainder of division of the first number by rhe second "
   ]
  },
  {
   "cell_type": "code",
   "execution_count": 48,
   "id": "b9c17001-f12d-4535-8f46-081ea1961339",
   "metadata": {},
   "outputs": [],
   "source": [
    "result = 10%3"
   ]
  },
  {
   "cell_type": "code",
   "execution_count": 49,
   "id": "332e1e10-dd8a-4697-9d86-71bb99b4c864",
   "metadata": {},
   "outputs": [
    {
     "data": {
      "text/plain": [
       "3.3333333333333335"
      ]
     },
     "execution_count": 49,
     "metadata": {},
     "output_type": "execute_result"
    }
   ],
   "source": [
    "10/3"
   ]
  },
  {
   "cell_type": "code",
   "execution_count": 50,
   "id": "df84d81f-7519-4bdc-b73e-ff48df56516a",
   "metadata": {},
   "outputs": [
    {
     "data": {
      "text/plain": [
       "1"
      ]
     },
     "execution_count": 50,
     "metadata": {},
     "output_type": "execute_result"
    }
   ],
   "source": [
    "result"
   ]
  },
  {
   "cell_type": "markdown",
   "id": "40c7fd1f-adcf-4092-897d-0693fb20cbbf",
   "metadata": {},
   "source": [
    "### exponentiation"
   ]
  },
  {
   "cell_type": "code",
   "execution_count": 51,
   "id": "f4e052bf-b61a-4cae-99c3-d7b389abf5bc",
   "metadata": {},
   "outputs": [],
   "source": [
    "# it raises the first number to the power of the second "
   ]
  },
  {
   "cell_type": "code",
   "execution_count": 52,
   "id": "d3308037-2fe1-4981-87ed-0fdbecaa04e7",
   "metadata": {},
   "outputs": [],
   "source": [
    "result = 3**5"
   ]
  },
  {
   "cell_type": "code",
   "execution_count": 53,
   "id": "69e2cae8-2838-46be-bff5-8e85be6c47d3",
   "metadata": {},
   "outputs": [
    {
     "data": {
      "text/plain": [
       "243"
      ]
     },
     "execution_count": 53,
     "metadata": {},
     "output_type": "execute_result"
    }
   ],
   "source": [
    "result"
   ]
  },
  {
   "cell_type": "code",
   "execution_count": 54,
   "id": "3c34c88d-4f03-4925-ab56-f3f21dd18936",
   "metadata": {},
   "outputs": [
    {
     "data": {
      "text/plain": [
       "243"
      ]
     },
     "execution_count": 54,
     "metadata": {},
     "output_type": "execute_result"
    }
   ],
   "source": [
    "3*3*3*3*3"
   ]
  },
  {
   "cell_type": "code",
   "execution_count": 56,
   "id": "5c6725ec-f45a-4675-bf20-b481f3bb08b0",
   "metadata": {},
   "outputs": [],
   "source": [
    "\n",
    "result = 5 + 3 * 3 - 8 / 4 \n",
    "# 1st () > / > * > + > -"
   ]
  },
  {
   "cell_type": "code",
   "execution_count": 57,
   "id": "18f8af27-cd9e-4531-addf-52869f6099c9",
   "metadata": {},
   "outputs": [
    {
     "data": {
      "text/plain": [
       "12.0"
      ]
     },
     "execution_count": 57,
     "metadata": {},
     "output_type": "execute_result"
    }
   ],
   "source": [
    "result"
   ]
  },
  {
   "cell_type": "markdown",
   "id": "bd2c290f-e909-43c0-ad49-b15a168e49d4",
   "metadata": {},
   "source": [
    "### exercise "
   ]
  },
  {
   "cell_type": "code",
   "execution_count": 58,
   "id": "f885d4d8-3b6a-4ee2-9b89-240ab88eebd9",
   "metadata": {},
   "outputs": [
    {
     "data": {
      "text/plain": [
       "86.6"
      ]
     },
     "execution_count": 58,
     "metadata": {},
     "output_type": "execute_result"
    }
   ],
   "source": [
    "(85+90+78+92+88)/5"
   ]
  },
  {
   "cell_type": "code",
   "execution_count": 59,
   "id": "c7928f37-2e01-42a9-aa8f-a7b40b66a043",
   "metadata": {},
   "outputs": [],
   "source": [
    "scores = [85+90+78+92+88]"
   ]
  },
  {
   "cell_type": "code",
   "execution_count": 60,
   "id": "dc850a26-34c5-4c05-a7d5-833bdd6eac87",
   "metadata": {},
   "outputs": [],
   "source": [
    "total_score = sum(scores)"
   ]
  },
  {
   "cell_type": "code",
   "execution_count": 61,
   "id": "813a6b5e-f402-4c81-9251-ea2981380226",
   "metadata": {},
   "outputs": [
    {
     "data": {
      "text/plain": [
       "433"
      ]
     },
     "execution_count": 61,
     "metadata": {},
     "output_type": "execute_result"
    }
   ],
   "source": [
    "total_score"
   ]
  },
  {
   "cell_type": "code",
   "execution_count": 62,
   "id": "3c7994b1-083b-41e7-b075-a25e2d32a722",
   "metadata": {},
   "outputs": [
    {
     "data": {
      "text/plain": [
       "86.6"
      ]
     },
     "execution_count": 62,
     "metadata": {},
     "output_type": "execute_result"
    }
   ],
   "source": [
    "433/5"
   ]
  },
  {
   "cell_type": "code",
   "execution_count": 63,
   "id": "86740de1-c611-4269-8d5c-d298c1c75e42",
   "metadata": {},
   "outputs": [
    {
     "data": {
      "text/plain": [
       "1"
      ]
     },
     "execution_count": 63,
     "metadata": {},
     "output_type": "execute_result"
    }
   ],
   "source": [
    "len(scores)"
   ]
  },
  {
   "cell_type": "code",
   "execution_count": 64,
   "id": "ab9e3ca8-593f-4275-8498-dfc910c7341b",
   "metadata": {},
   "outputs": [
    {
     "data": {
      "text/plain": [
       "500"
      ]
     },
     "execution_count": 64,
     "metadata": {},
     "output_type": "execute_result"
    }
   ],
   "source": [
    "1200-350-150-200"
   ]
  },
  {
   "cell_type": "code",
   "execution_count": 65,
   "id": "99bbfcbc-f3da-4424-a3d1-430ace41fbb3",
   "metadata": {},
   "outputs": [
    {
     "data": {
      "text/plain": [
       "15.0"
      ]
     },
     "execution_count": 65,
     "metadata": {},
     "output_type": "execute_result"
    }
   ],
   "source": [
    "20/100*75 #exercise"
   ]
  },
  {
   "cell_type": "code",
   "execution_count": 66,
   "id": "aa35c43b-5de3-421f-ab59-85089e48058f",
   "metadata": {},
   "outputs": [
    {
     "data": {
      "text/plain": [
       "60"
      ]
     },
     "execution_count": 66,
     "metadata": {},
     "output_type": "execute_result"
    }
   ],
   "source": [
    "75-15"
   ]
  },
  {
   "cell_type": "code",
   "execution_count": 67,
   "id": "16ee2c03-9827-457a-a7ef-535f7cd795f5",
   "metadata": {},
   "outputs": [
    {
     "data": {
      "text/plain": [
       "-26.25"
      ]
     },
     "execution_count": 67,
     "metadata": {},
     "output_type": "execute_result"
    }
   ],
   "source": [
    "23.75-50 # exercise"
   ]
  },
  {
   "cell_type": "code",
   "execution_count": 68,
   "id": "40f8d404-a69b-4d0c-ab13-30232120028b",
   "metadata": {},
   "outputs": [
    {
     "data": {
      "text/plain": [
       "150"
      ]
     },
     "execution_count": 68,
     "metadata": {},
     "output_type": "execute_result"
    }
   ],
   "source": [
    "10*15 # exercise area= lenght* widht"
   ]
  },
  {
   "cell_type": "code",
   "execution_count": 69,
   "id": "1b325020-019d-4fe6-871b-b0ba55a081b2",
   "metadata": {},
   "outputs": [
    {
     "data": {
      "text/plain": [
       "5"
      ]
     },
     "execution_count": 69,
     "metadata": {},
     "output_type": "execute_result"
    }
   ],
   "source": [
    "30-25 #exercise "
   ]
  },
  {
   "cell_type": "code",
   "execution_count": 70,
   "id": "faefc80f-c633-417b-9569-337261ec0921",
   "metadata": {},
   "outputs": [],
   "source": [
    "alice_age = 25 #exercise\n",
    "bob_age = 30\n"
   ]
  },
  {
   "cell_type": "code",
   "execution_count": 71,
   "id": "45ae8068-fd5b-4400-ab2f-26940ec66234",
   "metadata": {},
   "outputs": [],
   "source": [
    "age_difference = abs(alice_age - bob_age)\n"
   ]
  },
  {
   "cell_type": "code",
   "execution_count": 72,
   "id": "fd85d17f-41fa-40e2-828a-1d834268fac4",
   "metadata": {},
   "outputs": [
    {
     "name": "stdout",
     "output_type": "stream",
     "text": [
      "age difference is 5 years\n"
     ]
    }
   ],
   "source": [
    "print(f\"age difference is {age_difference} years\")"
   ]
  },
  {
   "cell_type": "code",
   "execution_count": 73,
   "id": "5095ac2c-4204-466f-8939-9ec28c410bd2",
   "metadata": {},
   "outputs": [],
   "source": [
    "cost_price = 120 # exercise \n",
    "selling_price = 180\n"
   ]
  },
  {
   "cell_type": "code",
   "execution_count": 74,
   "id": "6b8f198a-99a7-4bd8-a6d0-15883727fb98",
   "metadata": {},
   "outputs": [],
   "source": [
    "profit = selling_price - cost_price"
   ]
  },
  {
   "cell_type": "code",
   "execution_count": 75,
   "id": "1ed39459-6fe4-4ef7-be9b-ca70b13d4064",
   "metadata": {},
   "outputs": [],
   "source": [
    "profit_per = profit * 100 / cost_price"
   ]
  },
  {
   "cell_type": "code",
   "execution_count": 76,
   "id": "2a7a2945-8114-4068-9335-d1c48305beb8",
   "metadata": {},
   "outputs": [
    {
     "name": "stdout",
     "output_type": "stream",
     "text": [
      "Profit made from the sale: 50.0\n"
     ]
    }
   ],
   "source": [
    "print(\"Profit made from the sale:\", profit_per)"
   ]
  },
  {
   "cell_type": "code",
   "execution_count": null,
   "id": "1fd6abe5-773e-4441-a67c-661115ea0f69",
   "metadata": {},
   "outputs": [],
   "source": []
  }
 ],
 "metadata": {
  "kernelspec": {
   "display_name": "Python 3 (ipykernel)",
   "language": "python",
   "name": "python3"
  },
  "language_info": {
   "codemirror_mode": {
    "name": "ipython",
    "version": 3
   },
   "file_extension": ".py",
   "mimetype": "text/x-python",
   "name": "python",
   "nbconvert_exporter": "python",
   "pygments_lexer": "ipython3",
   "version": "3.12.7"
  }
 },
 "nbformat": 4,
 "nbformat_minor": 5
}
