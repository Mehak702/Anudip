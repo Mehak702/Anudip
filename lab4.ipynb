{
 "cells": [
  {
   "cell_type": "code",
   "execution_count": 3,
   "id": "c72fa25c-d826-4b22-b0d3-cc42227a7f71",
   "metadata": {},
   "outputs": [
    {
     "name": "stdout",
     "output_type": "stream",
     "text": [
      "Division: 5.0\n"
     ]
    }
   ],
   "source": [
    "# . Declare a div() function with two parameters. Then call the function and pass two numbers and display their division.\n",
    "def div(a, b):\n",
    "    if b != 0:\n",
    "        print(\"Division:\", a / b)\n",
    "    else:\n",
    "        print(\"Cannot divide by zero\")\n",
    "div(10, 2)\n"
   ]
  },
  {
   "cell_type": "code",
   "execution_count": 7,
   "id": "44e5b521-5c9e-48b3-bdb2-844afe538053",
   "metadata": {},
   "outputs": [
    {
     "name": "stdout",
     "output_type": "stream",
     "text": [
      "Square: 25\n"
     ]
    }
   ],
   "source": [
    "# Declare a square() function with one parameter. Then call the function and pass one number and display the square of that number.\n",
    "def square(num):\n",
    "    print(\"Square:\", num ** 2)\n",
    "square(5)\n"
   ]
  },
  {
   "cell_type": "code",
   "execution_count": 9,
   "id": "ebe00b2e-0e06-4413-945f-c777c5d7b65f",
   "metadata": {},
   "outputs": [
    {
     "name": "stdout",
     "output_type": "stream",
     "text": [
      "Random Numbers: [94, 7, 60, 75, 30]\n",
      "Maximum: 94\n",
      "Minimum: 7\n"
     ]
    }
   ],
   "source": [
    "# Using max() and min() functions display the maximum and minimum of 5 random numbers.\n",
    "import random\n",
    "numbers = [random.randint(1, 100) for _ in range(5)]\n",
    "print(\"Random Numbers:\", numbers)\n",
    "print(\"Maximum:\", max(numbers))\n",
    "print(\"Minimum:\", min(numbers))\n"
   ]
  },
  {
   "cell_type": "code",
   "execution_count": 11,
   "id": "0c16f1f2-bf8a-44ac-ae07-0951aade1f08",
   "metadata": {},
   "outputs": [
    {
     "name": "stdin",
     "output_type": "stream",
     "text": [
      "Enter your name:  mehak\n"
     ]
    },
    {
     "name": "stdout",
     "output_type": "stream",
     "text": [
      "Lowercase name: mehak\n"
     ]
    }
   ],
   "source": [
    "# Accept a name from the user and display that in lowercase using lower() function.\n",
    "name = input(\"Enter your name: \")\n",
    "print(\"Lowercase name:\", name.lower())\n"
   ]
  },
  {
   "cell_type": "code",
   "execution_count": null,
   "id": "e1f4fe7d-c54e-47d6-9760-e105b9991053",
   "metadata": {},
   "outputs": [],
   "source": []
  }
 ],
 "metadata": {
  "kernelspec": {
   "display_name": "Python [conda env:base] *",
   "language": "python",
   "name": "conda-base-py"
  },
  "language_info": {
   "codemirror_mode": {
    "name": "ipython",
    "version": 3
   },
   "file_extension": ".py",
   "mimetype": "text/x-python",
   "name": "python",
   "nbconvert_exporter": "python",
   "pygments_lexer": "ipython3",
   "version": "3.12.7"
  }
 },
 "nbformat": 4,
 "nbformat_minor": 5
}
