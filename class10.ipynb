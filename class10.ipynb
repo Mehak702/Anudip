{
 "cells": [
  {
   "cell_type": "code",
   "execution_count": 1,
   "id": "e280a8f7-9d8d-462b-87d6-8e18bb3f851d",
   "metadata": {},
   "outputs": [
    {
     "data": {
      "text/plain": [
       "['apple', 'banana', 'orange']"
      ]
     },
     "execution_count": 1,
     "metadata": {},
     "output_type": "execute_result"
    }
   ],
   "source": [
    "#list methods\n",
    "#append(item)\n",
    "fruits = [ 'apple', 'banana']\n",
    "fruits.append(\"orange\")\n",
    "fruits"
   ]
  },
  {
   "cell_type": "code",
   "execution_count": 3,
   "id": "68ed3726-8454-4684-9d62-4eeb5c3723fc",
   "metadata": {},
   "outputs": [
    {
     "data": {
      "text/plain": [
       "['apple', 'banana', 'orange', 1, 23, 56, 8, 9]"
      ]
     },
     "execution_count": 3,
     "metadata": {},
     "output_type": "execute_result"
    }
   ],
   "source": [
    "#extend\n",
    "fruits.extend([1,23,56,8,9])\n",
    "fruits"
   ]
  },
  {
   "cell_type": "code",
   "execution_count": 5,
   "id": "8b41ae39-bdb3-42fd-8a0e-74d5b31a8470",
   "metadata": {},
   "outputs": [
    {
     "data": {
      "text/plain": [
       "[1, 2, 3, 4, 5, 'please']"
      ]
     },
     "execution_count": 5,
     "metadata": {},
     "output_type": "execute_result"
    }
   ],
   "source": [
    "my_list = [ 1,2,3,4,5]\n",
    "my_list.append('please')\n",
    "my_list"
   ]
  },
  {
   "cell_type": "code",
   "execution_count": null,
   "id": "837a21c8-bcca-4f3e-ba15-8d9af968fd72",
   "metadata": {},
   "outputs": [],
   "source": [
    "# difference is in append n extend was we can't add multiple element\n"
   ]
  },
  {
   "cell_type": "code",
   "execution_count": 7,
   "id": "f5604da5-6a94-46a4-b566-657f86015450",
   "metadata": {},
   "outputs": [
    {
     "ename": "TypeError",
     "evalue": "list.append() takes exactly one argument (3 given)",
     "output_type": "error",
     "traceback": [
      "\u001b[1;31m---------------------------------------------------------------------------\u001b[0m",
      "\u001b[1;31mTypeError\u001b[0m                                 Traceback (most recent call last)",
      "Cell \u001b[1;32mIn[7], line 1\u001b[0m\n\u001b[1;32m----> 1\u001b[0m my_list\u001b[38;5;241m.\u001b[39mappend(\u001b[38;5;124m'\u001b[39m\u001b[38;5;124ma\u001b[39m\u001b[38;5;124m'\u001b[39m,\u001b[38;5;124m'\u001b[39m\u001b[38;5;124mb\u001b[39m\u001b[38;5;124m'\u001b[39m,\u001b[38;5;124m'\u001b[39m\u001b[38;5;124mc\u001b[39m\u001b[38;5;124m'\u001b[39m)\n",
      "\u001b[1;31mTypeError\u001b[0m: list.append() takes exactly one argument (3 given)"
     ]
    }
   ],
   "source": [
    "my_list.append('a','b','c')"
   ]
  },
  {
   "cell_type": "code",
   "execution_count": 9,
   "id": "cb7aa2f1-06a8-4a21-aaa0-addccda99bf8",
   "metadata": {},
   "outputs": [
    {
     "data": {
      "text/plain": [
       "['apple', 60, 'banana']"
      ]
     },
     "execution_count": 9,
     "metadata": {},
     "output_type": "execute_result"
    }
   ],
   "source": [
    "#insert\n",
    "fruits = ['apple','banana']\n",
    "fruits.insert(1,60)\n",
    "fruits"
   ]
  },
  {
   "cell_type": "code",
   "execution_count": 11,
   "id": "2f1c8503-fa29-414a-b513-8851d08613b2",
   "metadata": {},
   "outputs": [
    {
     "data": {
      "text/plain": [
       "['apple', 'banana']"
      ]
     },
     "execution_count": 11,
     "metadata": {},
     "output_type": "execute_result"
    }
   ],
   "source": [
    "#remove\n",
    "fruits = [ 'apple', 'banana' , 'cherry']\n",
    "fruits.remove('cherry')\n",
    "fruits"
   ]
  },
  {
   "cell_type": "code",
   "execution_count": 13,
   "id": "d58e790a-0bdf-40e8-b033-64ca1ae136c1",
   "metadata": {},
   "outputs": [
    {
     "data": {
      "text/plain": [
       "'cherry'"
      ]
     },
     "execution_count": 13,
     "metadata": {},
     "output_type": "execute_result"
    }
   ],
   "source": [
    "#pop\n",
    "fruits = ['apple', 'banana' , 'cherry']\n",
    "fruits.pop()"
   ]
  },
  {
   "cell_type": "code",
   "execution_count": 15,
   "id": "acfefff9-9cf0-4174-92ae-53281f1ce713",
   "metadata": {},
   "outputs": [
    {
     "data": {
      "text/plain": [
       "['apple', 'banana']"
      ]
     },
     "execution_count": 15,
     "metadata": {},
     "output_type": "execute_result"
    }
   ],
   "source": [
    "fruits"
   ]
  },
  {
   "cell_type": "code",
   "execution_count": 17,
   "id": "ae765d46-ef2f-4319-b88d-f993a928793d",
   "metadata": {},
   "outputs": [
    {
     "data": {
      "text/plain": [
       "'apple'"
      ]
     },
     "execution_count": 17,
     "metadata": {},
     "output_type": "execute_result"
    }
   ],
   "source": [
    "fruits.pop(0)"
   ]
  },
  {
   "cell_type": "code",
   "execution_count": 19,
   "id": "84abaffc-2f67-455a-9fa5-c56d30fb1cf3",
   "metadata": {},
   "outputs": [
    {
     "data": {
      "text/plain": [
       "['banana']"
      ]
     },
     "execution_count": 19,
     "metadata": {},
     "output_type": "execute_result"
    }
   ],
   "source": [
    "fruits"
   ]
  },
  {
   "cell_type": "code",
   "execution_count": 23,
   "id": "eada37e6-ccaa-4984-8f12-74b75ef69db1",
   "metadata": {},
   "outputs": [
    {
     "data": {
      "text/plain": [
       "[]"
      ]
     },
     "execution_count": 23,
     "metadata": {},
     "output_type": "execute_result"
    }
   ],
   "source": [
    "#clear\n",
    "fruits.clear()\n",
    "fruits"
   ]
  },
  {
   "cell_type": "code",
   "execution_count": 27,
   "id": "1cb53ac7-1f46-4799-b584-5478d8083f04",
   "metadata": {},
   "outputs": [
    {
     "data": {
      "text/plain": [
       "1"
      ]
     },
     "execution_count": 27,
     "metadata": {},
     "output_type": "execute_result"
    }
   ],
   "source": [
    "#index\n",
    "fruits = ['apple','cherry','banana','cherry','cherry']\n",
    "fruits.index('cherry')"
   ]
  },
  {
   "cell_type": "code",
   "execution_count": 32,
   "id": "0cbf7550-7ea1-4226-a46f-a1de9de9d629",
   "metadata": {},
   "outputs": [
    {
     "data": {
      "text/plain": [
       "3"
      ]
     },
     "execution_count": 32,
     "metadata": {},
     "output_type": "execute_result"
    }
   ],
   "source": [
    "#count imp as we use in future\n",
    "fruits = ['apple','cherry','banana','cherry','cherry']\n",
    "fruits.count(\"cherry\")"
   ]
  },
  {
   "cell_type": "code",
   "execution_count": 34,
   "id": "85ee5c1b-a8c3-486a-9c4f-3ca83ceeb5ff",
   "metadata": {},
   "outputs": [
    {
     "data": {
      "text/plain": [
       "[0, 1, 3, 4, 5, 7, 64, 69]"
      ]
     },
     "execution_count": 34,
     "metadata": {},
     "output_type": "execute_result"
    }
   ],
   "source": [
    "#sort(key=none, reverse=False)\n",
    "numbers = [3,1,4,5,69,64,7,0]\n",
    "numbers.sort()\n",
    "numbers"
   ]
  },
  {
   "cell_type": "code",
   "execution_count": 36,
   "id": "72a92edf-8c96-4a9c-bf9f-1e44e7d7944f",
   "metadata": {},
   "outputs": [],
   "source": [
    "numbers.sort(reverse= True)"
   ]
  },
  {
   "cell_type": "code",
   "execution_count": 38,
   "id": "b2bb5d66-0b45-444a-a52b-a8de0bf334d7",
   "metadata": {},
   "outputs": [
    {
     "data": {
      "text/plain": [
       "[69, 64, 7, 5, 4, 3, 1, 0]"
      ]
     },
     "execution_count": 38,
     "metadata": {},
     "output_type": "execute_result"
    }
   ],
   "source": [
    "numbers"
   ]
  },
  {
   "cell_type": "code",
   "execution_count": 42,
   "id": "d978043f-b399-4a1e-b9f6-bf9399b227b9",
   "metadata": {},
   "outputs": [
    {
     "data": {
      "text/plain": [
       "['banana', 'cherry', 'apple']"
      ]
     },
     "execution_count": 42,
     "metadata": {},
     "output_type": "execute_result"
    }
   ],
   "source": [
    "#reverse()\n",
    "fruits = ['apple','cherry','banana']\n",
    "fruits.reverse()\n",
    "fruits"
   ]
  },
  {
   "cell_type": "code",
   "execution_count": 44,
   "id": "4a0c3908-9daa-4a77-af64-efb2541cd9ea",
   "metadata": {},
   "outputs": [
    {
     "data": {
      "text/plain": [
       "'apple-cherry-banana'"
      ]
     },
     "execution_count": 44,
     "metadata": {},
     "output_type": "execute_result"
    }
   ],
   "source": [
    "#join()\n",
    "fruits = ['apple','cherry','banana']\n",
    "fruits_string = '-'.join(fruits)\n",
    "fruits_string"
   ]
  },
  {
   "cell_type": "code",
   "execution_count": 46,
   "id": "e13a161b-dc4a-4919-b714-6e844e0bfe89",
   "metadata": {},
   "outputs": [
    {
     "data": {
      "text/plain": [
       "8"
      ]
     },
     "execution_count": 46,
     "metadata": {},
     "output_type": "execute_result"
    }
   ],
   "source": [
    "#max() imp\n",
    "numbers = [2,3,4,5,8]\n",
    "max(numbers)"
   ]
  },
  {
   "cell_type": "code",
   "execution_count": 50,
   "id": "c824d456-1adf-4007-8fc7-96335aac50aa",
   "metadata": {},
   "outputs": [
    {
     "data": {
      "text/plain": [
       "2"
      ]
     },
     "execution_count": 50,
     "metadata": {},
     "output_type": "execute_result"
    }
   ],
   "source": [
    "#min() imp\n",
    "numbers = [2,3,4,5,8]\n",
    "min(numbers)"
   ]
  },
  {
   "cell_type": "code",
   "execution_count": 52,
   "id": "112fbac1-2a5f-4a51-8dd4-c152962fa4f3",
   "metadata": {},
   "outputs": [
    {
     "data": {
      "text/plain": [
       "104"
      ]
     },
     "execution_count": 52,
     "metadata": {},
     "output_type": "execute_result"
    }
   ],
   "source": [
    "#sum()\n",
    "numbers = [2,34,55,6,7]\n",
    "total = sum(numbers)\n",
    "total"
   ]
  },
  {
   "cell_type": "code",
   "execution_count": 58,
   "id": "4cac8cdc-1f52-4d68-86ca-f11cc9fbfc61",
   "metadata": {},
   "outputs": [
    {
     "data": {
      "text/plain": [
       "['apple', 'cherry', 'banana']"
      ]
     },
     "execution_count": 58,
     "metadata": {},
     "output_type": "execute_result"
    }
   ],
   "source": [
    "#len() imp\n",
    "fruits = ['apple','cherry','banana']\n",
    "num_fruits = len(fruits)\n",
    "fruits"
   ]
  },
  {
   "cell_type": "code",
   "execution_count": 60,
   "id": "f6452b8c-3f37-4bd0-beb3-684db7bb501c",
   "metadata": {},
   "outputs": [
    {
     "data": {
      "text/plain": [
       "3"
      ]
     },
     "execution_count": 60,
     "metadata": {},
     "output_type": "execute_result"
    }
   ],
   "source": [
    "num_fruits"
   ]
  },
  {
   "cell_type": "code",
   "execution_count": 62,
   "id": "bc6416cb-2425-4d09-b2d2-3197abcbf919",
   "metadata": {},
   "outputs": [
    {
     "data": {
      "text/plain": [
       "False"
      ]
     },
     "execution_count": 62,
     "metadata": {},
     "output_type": "execute_result"
    }
   ],
   "source": [
    "#all()\n",
    "bool_list = [True , True , False]\n",
    "all(bool_list)"
   ]
  },
  {
   "cell_type": "code",
   "execution_count": 64,
   "id": "1abf39a1-b9fa-446b-94c9-7b9e0b3aebeb",
   "metadata": {},
   "outputs": [
    {
     "data": {
      "text/plain": [
       "True"
      ]
     },
     "execution_count": 64,
     "metadata": {},
     "output_type": "execute_result"
    }
   ],
   "source": [
    "all(numbers)"
   ]
  },
  {
   "cell_type": "code",
   "execution_count": 68,
   "id": "3e6fc88f-466c-4950-9358-edadc96407ef",
   "metadata": {},
   "outputs": [
    {
     "data": {
      "text/plain": [
       "True"
      ]
     },
     "execution_count": 68,
     "metadata": {},
     "output_type": "execute_result"
    }
   ],
   "source": [
    "#any() returns true if any element in list is true \n",
    "bool_list= [False,False,True]\n",
    "any(bool_list)"
   ]
  },
  {
   "cell_type": "code",
   "execution_count": 1,
   "id": "b0a3f8a3-fe36-4846-be56-3ff02eb655c6",
   "metadata": {},
   "outputs": [
    {
     "name": "stdout",
     "output_type": "stream",
     "text": [
      "['banana']\n"
     ]
    }
   ],
   "source": [
    "#del statement it delete an element \n",
    "fruits = ['apple','banana']\n",
    "del fruits[0]\n",
    "print(fruits)"
   ]
  },
  {
   "cell_type": "code",
   "execution_count": 76,
   "id": "3a4ccebd-4797-4052-9b93-f2258d361d3f",
   "metadata": {},
   "outputs": [
    {
     "data": {
      "text/plain": [
       "[2, 3, 45, 9, 0]"
      ]
     },
     "execution_count": 76,
     "metadata": {},
     "output_type": "execute_result"
    }
   ],
   "source": [
    "#sorted(0\n",
    "numbers= [2,3,45,9,0]\n",
    "numbers"
   ]
  },
  {
   "cell_type": "code",
   "execution_count": 78,
   "id": "7a0265b3-1c14-4857-a7f8-5e4caf2eb439",
   "metadata": {},
   "outputs": [],
   "source": [
    "numbers.sort()"
   ]
  },
  {
   "cell_type": "code",
   "execution_count": 80,
   "id": "f8301e33-a2f9-4539-9adb-ef3b56a9ebf4",
   "metadata": {},
   "outputs": [
    {
     "data": {
      "text/plain": [
       "[0, 2, 3, 9, 45]"
      ]
     },
     "execution_count": 80,
     "metadata": {},
     "output_type": "execute_result"
    }
   ],
   "source": [
    "numbers"
   ]
  },
  {
   "cell_type": "code",
   "execution_count": 84,
   "id": "3b4b4e46-56c4-4d80-b5e6-1c8dcbc99848",
   "metadata": {},
   "outputs": [],
   "source": [
    "a = [9,9,5,0,2,9]"
   ]
  },
  {
   "cell_type": "code",
   "execution_count": 86,
   "id": "3e085ffc-fd40-48ae-9b86-629f279623da",
   "metadata": {},
   "outputs": [
    {
     "data": {
      "text/plain": [
       "[0, 2, 5, 9, 9, 9]"
      ]
     },
     "execution_count": 86,
     "metadata": {},
     "output_type": "execute_result"
    }
   ],
   "source": [
    "sorted(a)"
   ]
  },
  {
   "cell_type": "code",
   "execution_count": 88,
   "id": "61face1e-aa59-463c-9016-3623865c6c84",
   "metadata": {},
   "outputs": [
    {
     "data": {
      "text/plain": [
       "[9, 9, 5, 0, 2, 9]"
      ]
     },
     "execution_count": 88,
     "metadata": {},
     "output_type": "execute_result"
    }
   ],
   "source": [
    "a"
   ]
  },
  {
   "cell_type": "markdown",
   "id": "d1236de9-d2f9-4d73-9e7d-d71350ce4a6a",
   "metadata": {},
   "source": [
    "# list comprehension"
   ]
  },
  {
   "cell_type": "code",
   "execution_count": 117,
   "id": "7118361f-2467-4251-a2d8-df0f77656182",
   "metadata": {},
   "outputs": [
    {
     "data": {
      "text/plain": [
       "[3, 4]"
      ]
     },
     "execution_count": 117,
     "metadata": {},
     "output_type": "execute_result"
    }
   ],
   "source": [
    "#it is a concix=se way to create lists in python \n",
    "new_list = [j+2 for j in range(1,3)]\n",
    "new_list"
   ]
  },
  {
   "cell_type": "code",
   "execution_count": 97,
   "id": "8c92d90e-b98d-449e-9a86-0776e1b25b14",
   "metadata": {},
   "outputs": [],
   "source": [
    "squares = [ 4,8,9,4,9]"
   ]
  },
  {
   "cell_type": "code",
   "execution_count": null,
   "id": "52ee3e42-f954-4ed2-ba7b-8706babc94ac",
   "metadata": {},
   "outputs": [],
   "source": []
  },
  {
   "cell_type": "code",
   "execution_count": 111,
   "id": "56c14253-3666-4d95-b7d5-d8cbdead6233",
   "metadata": {},
   "outputs": [],
   "source": [
    "for i in range(1,7):\n",
    "    squares.append(i**2)"
   ]
  },
  {
   "cell_type": "code",
   "execution_count": null,
   "id": "3cb81fc9-5500-4e70-82ec-12bb6ae70d04",
   "metadata": {},
   "outputs": [],
   "source": []
  },
  {
   "cell_type": "code",
   "execution_count": 113,
   "id": "5582a048-6325-4567-a65e-9612a01b98de",
   "metadata": {},
   "outputs": [
    {
     "data": {
      "text/plain": [
       "[1, 4, 9, 16, 25]"
      ]
     },
     "execution_count": 113,
     "metadata": {},
     "output_type": "execute_result"
    }
   ],
   "source": [
    "squares = [i**2 for i in range(1,6)]\n",
    "squares"
   ]
  },
  {
   "cell_type": "code",
   "execution_count": null,
   "id": "5c3c6113-5254-4c25-af00-41f83d953cbc",
   "metadata": {},
   "outputs": [],
   "source": []
  },
  {
   "cell_type": "code",
   "execution_count": 119,
   "id": "edf0c7a1-7164-4cd0-a7e5-2dc55845967c",
   "metadata": {},
   "outputs": [],
   "source": [
    "# using for loop with an if statement\n",
    "\n",
    "even_squares = []\n",
    "for i in range(1,11):\n",
    "    if i % 2 == 0:\n",
    "        even_squares.append(i**2)"
   ]
  },
  {
   "cell_type": "code",
   "execution_count": 121,
   "id": "0fcb792f-8aad-4a9f-8040-022ed0b456f0",
   "metadata": {},
   "outputs": [
    {
     "data": {
      "text/plain": [
       "[4, 16, 36, 64, 100]"
      ]
     },
     "execution_count": 121,
     "metadata": {},
     "output_type": "execute_result"
    }
   ],
   "source": [
    "even_squares"
   ]
  },
  {
   "cell_type": "code",
   "execution_count": 128,
   "id": "a7436a4c-59a1-4fcc-b9f2-cee8135fb366",
   "metadata": {},
   "outputs": [],
   "source": [
    "#using list comprehension with condition\n",
    "\n",
    "even_squares = [i**2 for i in range(1,11) if i % 2 == 0]\n"
   ]
  },
  {
   "cell_type": "code",
   "execution_count": 130,
   "id": "e8540856-8006-47be-885e-b655cc556132",
   "metadata": {},
   "outputs": [
    {
     "data": {
      "text/plain": [
       "[4, 16, 36, 64, 100]"
      ]
     },
     "execution_count": 130,
     "metadata": {},
     "output_type": "execute_result"
    }
   ],
   "source": [
    "even_squares"
   ]
  },
  {
   "cell_type": "code",
   "execution_count": 3,
   "id": "cbf89fce-cd0a-40b3-8840-28c593210f0c",
   "metadata": {},
   "outputs": [
    {
     "name": "stdout",
     "output_type": "stream",
     "text": [
      "[('apple', 'red'), ('banana', 'yellow'), ('cherry', 'dark red')]\n",
      "apple is red\n",
      "banana is yellow\n",
      "cherry is dark red\n"
     ]
    }
   ],
   "source": [
    "#zip()\n",
    "\n",
    "fruits = ['apple', 'banana', 'cherry']\n",
    "colors = ['red', 'yellow', 'dark red']\n",
    "\n",
    "\n",
    "fruit_colors = zip(fruits, colors)\n",
    "\n",
    "\n",
    "print(list(fruit_colors))  \n",
    "\n",
    "\n",
    "for fruit, color in zip(fruits, colors):\n",
    "    print(f\"{fruit} is {color}\")"
   ]
  },
  {
   "cell_type": "code",
   "execution_count": 17,
   "id": "927f1baa-5f59-42ab-a4d5-a59d7970fd1b",
   "metadata": {},
   "outputs": [],
   "source": [
    "#using nested for loop:( nested list comprehension)\n",
    "matrix = []\n",
    "for i in range(3):\n",
    "    row = []\n",
    "    for j in range(3):\n",
    "        row.append(i * j)\n",
    "    matrix.append(row)"
   ]
  },
  {
   "cell_type": "code",
   "execution_count": 11,
   "id": "8e261588-b7a6-46c7-8921-6fb8140880ec",
   "metadata": {},
   "outputs": [
    {
     "name": "stdout",
     "output_type": "stream",
     "text": [
      "[[0, 0, 0], [0, 1, 2], [0, 2, 4]]\n"
     ]
    }
   ],
   "source": [
    "print(matrix)"
   ]
  },
  {
   "cell_type": "code",
   "execution_count": 13,
   "id": "b18b3ef9-afed-4128-bd7f-1c80347cbeb3",
   "metadata": {},
   "outputs": [],
   "source": [
    "# using nested list comprehension\n",
    "\n",
    "matrix = [[ i*j for j in range(3)] for i in range(3)]"
   ]
  },
  {
   "cell_type": "code",
   "execution_count": 15,
   "id": "27e6830e-141e-4d65-80c2-c934ff5f4cdf",
   "metadata": {},
   "outputs": [
    {
     "name": "stdout",
     "output_type": "stream",
     "text": [
      "[[0, 0, 0], [0, 1, 2], [0, 2, 4]]\n"
     ]
    }
   ],
   "source": [
    "print(matrix)"
   ]
  },
  {
   "cell_type": "code",
   "execution_count": 21,
   "id": "2bed0942-924a-4d17-81dd-8f2894a84643",
   "metadata": {},
   "outputs": [
    {
     "name": "stdout",
     "output_type": "stream",
     "text": [
      "['Wake up', 'Brush teeth', 'Have breakfast', 'Go for a run', 'Start working']\n"
     ]
    }
   ],
   "source": [
    "## You have a list representing your daily to-do tasks: \n",
    "# tasks = [\"Wake up\", \"Brush teeth\", \"Go for a run\", \"Start working\"]. \n",
    "# You realize you forgot to add \"Have breakfast\" between \"Brush teeth\" and \"Go for a run.\" \n",
    "# How would you insert this task in the correct position?\n",
    "\n",
    "tasks = [\"Wake up\", \"Brush teeth\", \"Go for a run\", \"Start working\"]\n",
    "tasks.insert(2, \"Have breakfast\")\n",
    "\n",
    "print(tasks)"
   ]
  },
  {
   "cell_type": "code",
   "execution_count": null,
   "id": "ae9f4c29-9685-4a4e-b22d-63b6464d4c6a",
   "metadata": {},
   "outputs": [],
   "source": []
  }
 ],
 "metadata": {
  "kernelspec": {
   "display_name": "Python [conda env:base] *",
   "language": "python",
   "name": "conda-base-py"
  },
  "language_info": {
   "codemirror_mode": {
    "name": "ipython",
    "version": 3
   },
   "file_extension": ".py",
   "mimetype": "text/x-python",
   "name": "python",
   "nbconvert_exporter": "python",
   "pygments_lexer": "ipython3",
   "version": "3.12.7"
  }
 },
 "nbformat": 4,
 "nbformat_minor": 5
}
