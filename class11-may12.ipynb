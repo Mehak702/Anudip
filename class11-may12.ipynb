{
 "cells": [
  {
   "cell_type": "markdown",
   "id": "fcc79a0e-2d9c-4d49-a01f-2a026d19a76c",
   "metadata": {},
   "source": [
    "# Tuple "
   ]
  },
  {
   "cell_type": "code",
   "execution_count": 5,
   "id": "877677f1-47f4-42c4-892f-d45590502a4b",
   "metadata": {},
   "outputs": [
    {
     "ename": "TypeError",
     "evalue": "'tuple' object does not support item assignment",
     "output_type": "error",
     "traceback": [
      "\u001b[1;31m---------------------------------------------------------------------------\u001b[0m",
      "\u001b[1;31mTypeError\u001b[0m                                 Traceback (most recent call last)",
      "Cell \u001b[1;32mIn[5], line 4\u001b[0m\n\u001b[0;32m      1\u001b[0m \u001b[38;5;66;03m# 1. orderd\u001b[39;00m\n\u001b[0;32m      2\u001b[0m \u001b[38;5;66;03m# 2. immutable\u001b[39;00m\n\u001b[0;32m      3\u001b[0m my_tuple \u001b[38;5;241m=\u001b[39m (\u001b[38;5;241m1\u001b[39m,\u001b[38;5;241m2\u001b[39m,\u001b[38;5;241m3\u001b[39m) \u001b[38;5;66;03m#here once value is assigned it cannot be changed thats y error\u001b[39;00m\n\u001b[1;32m----> 4\u001b[0m my_tuple[\u001b[38;5;241m0\u001b[39m] \u001b[38;5;241m=\u001b[39m \u001b[38;5;241m225\u001b[39m\n",
      "\u001b[1;31mTypeError\u001b[0m: 'tuple' object does not support item assignment"
     ]
    }
   ],
   "source": [
    "# 1. orderd\n",
    "# 2. immutable\n",
    "my_tuple = (1,2,3) #here once value is assigned it cannot be changed thats y error\n",
    "my_tuple[0] = 225"
   ]
  },
  {
   "cell_type": "code",
   "execution_count": 7,
   "id": "a5b066da-840e-43db-a524-fcf53d2cd3b7",
   "metadata": {},
   "outputs": [
    {
     "data": {
      "text/plain": [
       "(1, 'hello', 3.14)"
      ]
     },
     "execution_count": 7,
     "metadata": {},
     "output_type": "execute_result"
    }
   ],
   "source": [
    "# 3. heterogeneous it can have diff data types\n",
    "tup = (1,\"hello\",3.14)\n",
    "tup"
   ]
  },
  {
   "cell_type": "code",
   "execution_count": 9,
   "id": "b9f39124-95f4-4fdc-bded-469f8a0f06a2",
   "metadata": {},
   "outputs": [
    {
     "name": "stdout",
     "output_type": "stream",
     "text": [
      "30\n",
      "(20, 30, 40)\n"
     ]
    }
   ],
   "source": [
    "# 4. indexing and slicing\n",
    "\n",
    "my_tuple = (10,20,30,40)\n",
    "print(my_tuple[2]) # accesed by index\n",
    "print(my_tuple[1:4]) # here part is sliced"
   ]
  },
  {
   "cell_type": "code",
   "execution_count": 11,
   "id": "53c8fafa-2500-4df5-8eeb-f1fbf016f2c7",
   "metadata": {},
   "outputs": [
    {
     "data": {
      "text/plain": [
       "tuple"
      ]
     },
     "execution_count": 11,
     "metadata": {},
     "output_type": "execute_result"
    }
   ],
   "source": [
    "# 5. packing and unpacking\n",
    "\n",
    "#packing\n",
    "my_tuple = 1,2,3 # here (,) is defined as tuple\n",
    "type(my_tuple)"
   ]
  },
  {
   "cell_type": "code",
   "execution_count": 13,
   "id": "fca1cf3e-0a4f-4583-a127-78c49275eb3f",
   "metadata": {},
   "outputs": [
    {
     "name": "stdout",
     "output_type": "stream",
     "text": [
      "1 2 3\n"
     ]
    }
   ],
   "source": [
    "# unpacking\n",
    "a,b,c = my_tuple\n",
    "print(a,b,c)\n"
   ]
  },
  {
   "cell_type": "code",
   "execution_count": 15,
   "id": "5cd37ef2-d816-4636-8328-df41d2a6d177",
   "metadata": {},
   "outputs": [
    {
     "data": {
      "text/plain": [
       "1"
      ]
     },
     "execution_count": 15,
     "metadata": {},
     "output_type": "execute_result"
    }
   ],
   "source": [
    "a"
   ]
  },
  {
   "cell_type": "code",
   "execution_count": 17,
   "id": "549ba69e-347e-44c1-826e-d584f7ef74c7",
   "metadata": {},
   "outputs": [
    {
     "data": {
      "text/plain": [
       "2"
      ]
     },
     "execution_count": 17,
     "metadata": {},
     "output_type": "execute_result"
    }
   ],
   "source": [
    "b"
   ]
  },
  {
   "cell_type": "code",
   "execution_count": 19,
   "id": "c714632e-c0ee-4e34-a87b-ed975265aa11",
   "metadata": {},
   "outputs": [
    {
     "data": {
      "text/plain": [
       "3"
      ]
     },
     "execution_count": 19,
     "metadata": {},
     "output_type": "execute_result"
    }
   ],
   "source": [
    "c"
   ]
  },
  {
   "cell_type": "code",
   "execution_count": 21,
   "id": "fa0d8003-9575-4a93-a7e1-ca4003911fa0",
   "metadata": {},
   "outputs": [
    {
     "name": "stdout",
     "output_type": "stream",
     "text": [
      "mehak\n",
      "20\n",
      "bca\n"
     ]
    }
   ],
   "source": [
    "## when can we use tuple : if we dont want to modify the data then we use tupple\n",
    "person = (\"mehak\",20,\"bca\")\n",
    "print(person[0])\n",
    "print(person[1])\n",
    "print(person[2])"
   ]
  },
  {
   "cell_type": "code",
   "execution_count": 23,
   "id": "926bb52a-426b-4b9d-819e-781079716750",
   "metadata": {},
   "outputs": [
    {
     "name": "stdout",
     "output_type": "stream",
     "text": [
      "10 20 30\n"
     ]
    }
   ],
   "source": [
    "coordinates = (10,20,30)\n",
    "x = coordinates[0]\n",
    "y = coordinates[1]\n",
    "z = coordinates[2]\n",
    "print(x,y,z)"
   ]
  },
  {
   "cell_type": "code",
   "execution_count": 25,
   "id": "6e1ea290-5151-47b1-b737-dec84e27a7af",
   "metadata": {},
   "outputs": [
    {
     "data": {
      "text/plain": [
       "1"
      ]
     },
     "execution_count": 25,
     "metadata": {},
     "output_type": "execute_result"
    }
   ],
   "source": [
    "value = [[1,2,3,4],[5,6,7,8,[11,12,13]]]\n",
    "value[0][0]"
   ]
  },
  {
   "cell_type": "code",
   "execution_count": 27,
   "id": "a58ebd4d-5b63-460a-b751-54cef27dc0f6",
   "metadata": {},
   "outputs": [
    {
     "data": {
      "text/plain": [
       "6"
      ]
     },
     "execution_count": 27,
     "metadata": {},
     "output_type": "execute_result"
    }
   ],
   "source": [
    "value [1][1]"
   ]
  },
  {
   "cell_type": "code",
   "execution_count": 29,
   "id": "c0a0e465-07c5-4b56-a35d-589ed116f6ae",
   "metadata": {},
   "outputs": [
    {
     "data": {
      "text/plain": [
       "5"
      ]
     },
     "execution_count": 29,
     "metadata": {},
     "output_type": "execute_result"
    }
   ],
   "source": [
    "value [1][0]"
   ]
  },
  {
   "cell_type": "code",
   "execution_count": 31,
   "id": "eb38a712-1911-4c90-adfd-abb0f0a387e9",
   "metadata": {},
   "outputs": [],
   "source": [
    "# slicing in tuple\n",
    "my_tuple = (1,2,3,4,5,6,7,8,9)"
   ]
  },
  {
   "cell_type": "code",
   "execution_count": 33,
   "id": "a20371a6-6d31-491b-8065-8000346d0ffc",
   "metadata": {},
   "outputs": [
    {
     "name": "stdout",
     "output_type": "stream",
     "text": [
      "(1, 2, 3)\n",
      "(4, 5, 6, 7, 8, 9)\n"
     ]
    }
   ],
   "source": [
    "slice_1 = my_tuple[0:3]\n",
    "print(slice_1)\n",
    "slice_2 = my_tuple[3:]\n",
    "print(slice_2)"
   ]
  },
  {
   "cell_type": "code",
   "execution_count": 35,
   "id": "526d2878-d1e3-4b80-8027-c53c808fef92",
   "metadata": {},
   "outputs": [
    {
     "name": "stdout",
     "output_type": "stream",
     "text": [
      "cherry\n"
     ]
    }
   ],
   "source": [
    "# scenario\n",
    "fruits = (\"apple\",\"banana\",\"cherry\",\"date\",\"elderberry\")\n",
    "print(fruits[2])"
   ]
  },
  {
   "cell_type": "code",
   "execution_count": 37,
   "id": "707ebe83-9eb9-4fe5-8338-22b622d5394e",
   "metadata": {},
   "outputs": [
    {
     "name": "stdout",
     "output_type": "stream",
     "text": [
      "(10, 20, 30)\n"
     ]
    }
   ],
   "source": [
    "#scenario\n",
    "numbers = (10,20,30,40,50)\n",
    "new_tuple = numbers[:3]\n",
    "print(new_tuple)"
   ]
  },
  {
   "cell_type": "code",
   "execution_count": 39,
   "id": "683ad313-ae80-471e-8ec8-1d66bbe0644a",
   "metadata": {},
   "outputs": [
    {
     "data": {
      "text/plain": [
       "'purple'"
      ]
     },
     "execution_count": 39,
     "metadata": {},
     "output_type": "execute_result"
    }
   ],
   "source": [
    "#scenario\n",
    "colors = (\"red\",\"green\",\"blue\",\"yellow\",\"purple\")\n",
    "colors[-1]"
   ]
  },
  {
   "cell_type": "code",
   "execution_count": 41,
   "id": "2139e9f0-daa5-4e1a-a29c-04e76c0e5d14",
   "metadata": {},
   "outputs": [
    {
     "data": {
      "text/plain": [
       "5"
      ]
     },
     "execution_count": 41,
     "metadata": {},
     "output_type": "execute_result"
    }
   ],
   "source": [
    "#scenario\n",
    "nested_tuple = (1,(2,3),(4,(5,6),7),8)\n",
    "nested_tuple[2][1][0]"
   ]
  },
  {
   "cell_type": "code",
   "execution_count": 45,
   "id": "e623f286-31bf-4405-8885-14560c1bf403",
   "metadata": {},
   "outputs": [
    {
     "data": {
      "text/plain": [
       "('charlie', 'diana', 'even')"
      ]
     },
     "execution_count": 45,
     "metadata": {},
     "output_type": "execute_result"
    }
   ],
   "source": [
    "names = (\"alice\",\"bob\",\"charlie\",\"diana\",\"even\")\n",
    "last_three = names[-3:]\n",
    "last_three"
   ]
  },
  {
   "cell_type": "code",
   "execution_count": 47,
   "id": "0bb832d7-9f48-4fe0-b219-13584482c1c7",
   "metadata": {},
   "outputs": [
    {
     "data": {
      "text/plain": [
       "tuple"
      ]
     },
     "execution_count": 47,
     "metadata": {},
     "output_type": "execute_result"
    }
   ],
   "source": [
    "# covrt tuple to list , modify,and covert again\n",
    "#original tuple\n",
    "fruits = (\"apple\",\"banana\",\"cherry\")\n",
    "type(fruits)"
   ]
  },
  {
   "cell_type": "code",
   "execution_count": 49,
   "id": "1613ec6a-34ce-4962-8fb7-c9782d4f5463",
   "metadata": {},
   "outputs": [
    {
     "data": {
      "text/plain": [
       "list"
      ]
     },
     "execution_count": 49,
     "metadata": {},
     "output_type": "execute_result"
    }
   ],
   "source": [
    "a = list(fruits)\n",
    "type(a)"
   ]
  },
  {
   "cell_type": "code",
   "execution_count": 51,
   "id": "94dc0b33-428b-438c-8e82-f948790c17a6",
   "metadata": {},
   "outputs": [
    {
     "data": {
      "text/plain": [
       "['apple', 'banana', 'cherry', 'mango']"
      ]
     },
     "execution_count": 51,
     "metadata": {},
     "output_type": "execute_result"
    }
   ],
   "source": [
    "a.append(\"mango\")\n",
    "a"
   ]
  },
  {
   "cell_type": "code",
   "execution_count": 57,
   "id": "bd166e5a-456f-4c78-a459-1d6cbb4e18bc",
   "metadata": {},
   "outputs": [
    {
     "data": {
      "text/plain": [
       "tuple"
      ]
     },
     "execution_count": 57,
     "metadata": {},
     "output_type": "execute_result"
    }
   ],
   "source": [
    "b = tuple(a)\n",
    "type(b)\n"
   ]
  },
  {
   "cell_type": "code",
   "execution_count": 59,
   "id": "36c0ad77-f074-4426-9155-3ba4586621d1",
   "metadata": {},
   "outputs": [
    {
     "data": {
      "text/plain": [
       "('apple', 'banana', 'cherry', 'mango')"
      ]
     },
     "execution_count": 59,
     "metadata": {},
     "output_type": "execute_result"
    }
   ],
   "source": [
    "b"
   ]
  },
  {
   "cell_type": "code",
   "execution_count": 61,
   "id": "0755482a-266b-45ed-8bba-c835d9616e70",
   "metadata": {},
   "outputs": [
    {
     "name": "stdout",
     "output_type": "stream",
     "text": [
      "('apple', 'blueberry', 'cherry')\n"
     ]
    }
   ],
   "source": [
    "# concatenate slices of tuple\n",
    "fruits = (\"apple\",\"banana\",\"cherry\")\n",
    "fruits_new = fruits[:1] + (\"blueberry\",) + fruits[2:] #here , is important else error will be thrown\n",
    "print(fruits_new)"
   ]
  },
  {
   "cell_type": "code",
   "execution_count": 63,
   "id": "3301a3eb-6c69-44e5-960c-dd9a295d9db6",
   "metadata": {},
   "outputs": [
    {
     "name": "stdout",
     "output_type": "stream",
     "text": [
      "('apple', 'banana', 'cherry', 'date')\n"
     ]
    }
   ],
   "source": [
    "# using concatenationnn to add ele\n",
    "fruits = (\"apple\",\"banana\",\"cherry\")\n",
    "fruits1 = fruits + (\"date\",)\n",
    "print(fruits1)"
   ]
  },
  {
   "cell_type": "code",
   "execution_count": null,
   "id": "a302b3cc-80b0-4210-b370-a74c29e636c8",
   "metadata": {},
   "outputs": [],
   "source": [
    "#deleting a tuple we can delete entire tuple not an single element"
   ]
  },
  {
   "cell_type": "markdown",
   "id": "bca3af61-8d8d-4d74-9b88-f88f52054620",
   "metadata": {},
   "source": [
    "### Tuple arithmetic operation"
   ]
  },
  {
   "cell_type": "code",
   "execution_count": null,
   "id": "c184d483-2ba5-4d5d-9a35-417466629978",
   "metadata": {},
   "outputs": [],
   "source": [
    "*addition\n",
    "*multiplication\n",
    "(subtraction and division is not used in tuple)\n"
   ]
  },
  {
   "cell_type": "markdown",
   "id": "995fe39b-8dbd-42d5-b1e3-79169850cc9a",
   "metadata": {},
   "source": [
    "### Membership in tuple"
   ]
  },
  {
   "cell_type": "code",
   "execution_count": null,
   "id": "b1b44962-939d-45df-b73b-307686b1b12b",
   "metadata": {},
   "outputs": [],
   "source": [
    "*in operator\n",
    "* not in operator"
   ]
  },
  {
   "cell_type": "markdown",
   "id": "e874ae84-4f67-4c7c-a5f6-6ff2a5c43165",
   "metadata": {},
   "source": [
    "### Methods in tuple"
   ]
  },
  {
   "cell_type": "code",
   "execution_count": null,
   "id": "a0c3ea03-c4ff-46fb-872b-e82fdf37a8fa",
   "metadata": {},
   "outputs": [],
   "source": [
    "1.count()\n",
    "2.index()\n"
   ]
  },
  {
   "cell_type": "code",
   "execution_count": 84,
   "id": "d142159f-0197-49ac-a986-5c436ca5e3b7",
   "metadata": {},
   "outputs": [
    {
     "data": {
      "text/plain": [
       "3"
      ]
     },
     "execution_count": 84,
     "metadata": {},
     "output_type": "execute_result"
    }
   ],
   "source": [
    "name = (\"mehak\")\n",
    "name.index(\"a\")\n"
   ]
  },
  {
   "cell_type": "markdown",
   "id": "244ba2c2-4d02-4ca1-8c31-91d1fa87afc5",
   "metadata": {},
   "source": [
    "# Function on tuple"
   ]
  },
  {
   "cell_type": "code",
   "execution_count": 87,
   "id": "c08c749e-272e-41a8-a6f5-b5af35ac1924",
   "metadata": {},
   "outputs": [
    {
     "data": {
      "text/plain": [
       "5"
      ]
     },
     "execution_count": 87,
     "metadata": {},
     "output_type": "execute_result"
    }
   ],
   "source": [
    "# 1. len()\n",
    "name = (\"mehak\")\n",
    "len(name)"
   ]
  },
  {
   "cell_type": "code",
   "execution_count": 89,
   "id": "4a0e1e92-94a9-4bdc-a6be-8f6e4e6e2d3e",
   "metadata": {},
   "outputs": [
    {
     "data": {
      "text/plain": [
       "'t'"
      ]
     },
     "execution_count": 89,
     "metadata": {},
     "output_type": "execute_result"
    }
   ],
   "source": [
    "# 2.max()\n",
    "name = (\"mehak taj\")\n",
    "max(name)"
   ]
  },
  {
   "cell_type": "code",
   "execution_count": 91,
   "id": "ad6c8a14-704f-418f-acca-017ced2a5c7e",
   "metadata": {},
   "outputs": [
    {
     "data": {
      "text/plain": [
       "'a'"
      ]
     },
     "execution_count": 91,
     "metadata": {},
     "output_type": "execute_result"
    }
   ],
   "source": [
    "# 3.min()\n",
    "name = (\"mehaktaj\")\n",
    "min(name)"
   ]
  },
  {
   "cell_type": "code",
   "execution_count": 95,
   "id": "3fe63060-5e33-4d5a-8b99-2f3a91bbe530",
   "metadata": {},
   "outputs": [
    {
     "data": {
      "text/plain": [
       "45"
      ]
     },
     "execution_count": 95,
     "metadata": {},
     "output_type": "execute_result"
    }
   ],
   "source": [
    "# 4.sum()\n",
    "my_tuple = (1,2,3,4,5,6,7,8,9)\n",
    "sum(my_tuple)"
   ]
  },
  {
   "cell_type": "code",
   "execution_count": 97,
   "id": "d54e91d0-9996-470e-ac17-beda94d32531",
   "metadata": {},
   "outputs": [
    {
     "data": {
      "text/plain": [
       "False"
      ]
     },
     "execution_count": 97,
     "metadata": {},
     "output_type": "execute_result"
    }
   ],
   "source": [
    "# 5.sorted() here sort will not work because it is immutable\n",
    "# 6. any()\n",
    "tuple = (0,0,0)\n",
    "any(tuple)"
   ]
  },
  {
   "cell_type": "code",
   "execution_count": 103,
   "id": "eb046595-4c63-4fa7-9704-e0c5fd3784b6",
   "metadata": {},
   "outputs": [
    {
     "data": {
      "text/plain": [
       "True"
      ]
     },
     "execution_count": 103,
     "metadata": {},
     "output_type": "execute_result"
    }
   ],
   "source": [
    "# 7.all()\n",
    "tuple = (1,1,1)\n",
    "all(tuple)"
   ]
  },
  {
   "cell_type": "code",
   "execution_count": 105,
   "id": "b2a1e0a7-2a06-42b0-8ea0-1666857aa398",
   "metadata": {},
   "outputs": [
    {
     "name": "stdout",
     "output_type": "stream",
     "text": [
      "highest: 92\n"
     ]
    }
   ],
   "source": [
    "#scenario\n",
    "scores = (88,76,92,85,79)\n",
    "highest = max(scores)\n",
    "print(\"highest:\",highest)"
   ]
  },
  {
   "cell_type": "code",
   "execution_count": 107,
   "id": "d5f1b1ad-759b-4c20-9bf3-2e0abb41c849",
   "metadata": {},
   "outputs": [
    {
     "name": "stdout",
     "output_type": "stream",
     "text": [
      "lowest: 76\n"
     ]
    }
   ],
   "source": [
    "lowest = min(scores)\n",
    "print(\"lowest:\",lowest)"
   ]
  },
  {
   "cell_type": "code",
   "execution_count": 109,
   "id": "f5447ae8-eb2c-4cd6-ad24-a0daa26e4325",
   "metadata": {},
   "outputs": [
    {
     "name": "stdout",
     "output_type": "stream",
     "text": [
      "paris is located in cities :  True\n"
     ]
    }
   ],
   "source": [
    "#scenario\n",
    "cities = (\"new york\",\"los angeles\",\"paris\",\"london\",\"tokyo\")\n",
    "search_paris = \"paris\" in cities\n",
    "print(\"paris is located in cities : \",(search_paris))"
   ]
  },
  {
   "cell_type": "code",
   "execution_count": null,
   "id": "25c0972b-c803-4196-a744-b6b0e8132115",
   "metadata": {},
   "outputs": [],
   "source": []
  }
 ],
 "metadata": {
  "kernelspec": {
   "display_name": "Python [conda env:base] *",
   "language": "python",
   "name": "conda-base-py"
  },
  "language_info": {
   "codemirror_mode": {
    "name": "ipython",
    "version": 3
   },
   "file_extension": ".py",
   "mimetype": "text/x-python",
   "name": "python",
   "nbconvert_exporter": "python",
   "pygments_lexer": "ipython3",
   "version": "3.12.7"
  }
 },
 "nbformat": 4,
 "nbformat_minor": 5
}
