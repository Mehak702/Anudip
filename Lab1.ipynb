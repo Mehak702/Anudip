{
 "cells": [
  {
   "cell_type": "code",
   "execution_count": 3,
   "id": "39f17a93-8a9c-421c-b3e9-5d9c693b0fcc",
   "metadata": {},
   "outputs": [
    {
     "name": "stdin",
     "output_type": "stream",
     "text": [
      "Enter first number:  2\n",
      "Enter second number:  5\n"
     ]
    },
    {
     "name": "stdout",
     "output_type": "stream",
     "text": [
      "Sum: 7\n",
      "Multiplication: 10\n"
     ]
    }
   ],
   "source": [
    "# 1)multiplication andsum of two numbers\n",
    "\n",
    "a = int(input(\"Enter first number: \"))\n",
    "b = int(input(\"Enter second number: \"))\n",
    "sum = a + b\n",
    "product=a * b\n",
    "print(\"Sum:\", sum)\n",
    "print(\"Multiplication:\",product)"
   ]
  },
  {
   "cell_type": "code",
   "execution_count": 7,
   "id": "cd6d2ac7-943f-49f8-b512-3e132bfe8d87",
   "metadata": {},
   "outputs": [
    {
     "name": "stdin",
     "output_type": "stream",
     "text": [
      "Enter first number:  2\n",
      "Enter second number:  6\n"
     ]
    },
    {
     "name": "stdout",
     "output_type": "stream",
     "text": [
      "The largest number is: 6\n"
     ]
    }
   ],
   "source": [
    "#2) print the largest using ternary operator\n",
    "\n",
    "a = int(input(\"Enter first number: \"))\n",
    "b = int(input(\"Enter second number: \"))\n",
    "largest=a if a > b else b\n",
    "print(\"The largest number is:\",largest)"
   ]
  },
  {
   "cell_type": "code",
   "execution_count": 9,
   "id": "ff7177cd-287d-4f13-b7d4-72f59f85580d",
   "metadata": {},
   "outputs": [
    {
     "name": "stdin",
     "output_type": "stream",
     "text": [
      "Enter your name:  mehak\n",
      "Enter your age:  18\n",
      "Enter your city:  bangalore\n"
     ]
    },
    {
     "name": "stdout",
     "output_type": "stream",
     "text": [
      "My name is mehak, I am 18 years old, and I live in bangalore.\n"
     ]
    }
   ],
   "source": [
    "#3) print in formatted string\n",
    "\n",
    "name = input(\"Enter your name: \")\n",
    "age = input(\"Enter your age: \")\n",
    "city = input(\"Enter your city: \")\n",
    "print(f\"My name is {name}, I am {age} years old, and I live in {city}.\")"
   ]
  },
  {
   "cell_type": "code",
   "execution_count": 13,
   "id": "3f02d871-581a-4489-a006-57f991c93f49",
   "metadata": {},
   "outputs": [
    {
     "name": "stdin",
     "output_type": "stream",
     "text": [
      "Enter side a:  6\n",
      "Enter side b:  7\n",
      "Enter side c:  9\n"
     ]
    },
    {
     "name": "stdout",
     "output_type": "stream",
     "text": [
      "The area of the triangle is: 20.97617696340303\n"
     ]
    }
   ],
   "source": [
    "#4) find area of triangle \n",
    "\n",
    "import math\n",
    "a = float(input(\"Enter side a: \"))\n",
    "b = float(input(\"Enter side b: \"))\n",
    "c = float(input(\"Enter side c: \"))\n",
    "s = (a + b + c) / 2\n",
    "area=math.sqrt(s * (s - a) * (s - b) * (s - c))\n",
    "print(\"The area of the triangle is:\",area)"
   ]
  },
  {
   "cell_type": "code",
   "execution_count": null,
   "id": "478ca8c8-7da3-42aa-957b-d3e0253025fd",
   "metadata": {},
   "outputs": [],
   "source": []
  }
 ],
 "metadata": {
  "kernelspec": {
   "display_name": "Python [conda env:base] *",
   "language": "python",
   "name": "conda-base-py"
  },
  "language_info": {
   "codemirror_mode": {
    "name": "ipython",
    "version": 3
   },
   "file_extension": ".py",
   "mimetype": "text/x-python",
   "name": "python",
   "nbconvert_exporter": "python",
   "pygments_lexer": "ipython3",
   "version": "3.12.7"
  }
 },
 "nbformat": 4,
 "nbformat_minor": 5
}
