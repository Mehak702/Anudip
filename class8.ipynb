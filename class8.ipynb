{
 "cells": [
  {
   "cell_type": "markdown",
   "id": "f907635a-9175-4b61-b2bc-9d32df2ac17b",
   "metadata": {},
   "source": [
    "# for loop"
   ]
  },
  {
   "cell_type": "code",
   "execution_count": 2,
   "id": "d6391d41-bf61-4d28-90b1-3912b7031615",
   "metadata": {},
   "outputs": [
    {
     "name": "stdout",
     "output_type": "stream",
     "text": [
      "p\n",
      "y\n",
      "t\n",
      "h\n",
      "o\n",
      "n\n"
     ]
    }
   ],
   "source": [
    "text = \"python\";\n",
    "for char in text:\n",
    "    print(char)\n"
   ]
  },
  {
   "cell_type": "code",
   "execution_count": 4,
   "id": "c2b7ac12-830e-46a1-8921-e206c606a94f",
   "metadata": {},
   "outputs": [],
   "source": [
    "# new string in upper case"
   ]
  },
  {
   "cell_type": "code",
   "execution_count": null,
   "id": "07e7f404-fc30-4eb6-9f6d-20d53b3506c7",
   "metadata": {},
   "outputs": [],
   "source": []
  },
  {
   "cell_type": "code",
   "execution_count": 8,
   "id": "41cd3f71-e521-41d2-a57c-59482b4b00ac",
   "metadata": {},
   "outputs": [
    {
     "data": {
      "text/plain": [
       "True"
      ]
     },
     "execution_count": 8,
     "metadata": {},
     "output_type": "execute_result"
    }
   ],
   "source": [
    "# in operator \n",
    "# it checks if substring exists within a string and returns true if it's present \n",
    "\n",
    "text = \"hello, world!\"\n",
    "\"w\" in text"
   ]
  },
  {
   "cell_type": "code",
   "execution_count": 10,
   "id": "6b2ad76d-5dcc-4693-a1c7-825546eb06f5",
   "metadata": {},
   "outputs": [
    {
     "data": {
      "text/plain": [
       "False"
      ]
     },
     "execution_count": 10,
     "metadata": {},
     "output_type": "execute_result"
    }
   ],
   "source": [
    "# not in operator \n",
    "# it checks if a substring does not exist within a string \n",
    "\n",
    "text = \"hello, world!\"\n",
    "\"hello\" not in text\n"
   ]
  },
  {
   "cell_type": "code",
   "execution_count": 12,
   "id": "a53430e6-ae38-4efa-aedf-251f8f9c45df",
   "metadata": {},
   "outputs": [],
   "source": [
    "text = \"hello world\"\n",
    "result = \"hello\" not in text"
   ]
  },
  {
   "cell_type": "code",
   "execution_count": 16,
   "id": "ac6ec2ae-cd9a-4a88-928f-55b213ce9b72",
   "metadata": {},
   "outputs": [
    {
     "data": {
      "text/plain": [
       "False"
      ]
     },
     "execution_count": 16,
     "metadata": {},
     "output_type": "execute_result"
    }
   ],
   "source": [
    "\"ordered\" in text"
   ]
  },
  {
   "cell_type": "code",
   "execution_count": null,
   "id": "0d5465ab-9d88-4b5c-91f9-79e034364756",
   "metadata": {},
   "outputs": [],
   "source": [
    "#methods in string \n",
    "#upper lower "
   ]
  },
  {
   "cell_type": "code",
   "execution_count": 18,
   "id": "d288fd4d-8fc4-4148-8798-4c2ae05eb70f",
   "metadata": {},
   "outputs": [
    {
     "name": "stdout",
     "output_type": "stream",
     "text": [
      "HELLO WORLD\n"
     ]
    }
   ],
   "source": [
    "# start with a string , access the method , invoke inovatoion \n",
    "\n",
    "text = \"hello world\"\n",
    "upercase_text = text.upper()\n",
    "print(upercase_text)"
   ]
  },
  {
   "cell_type": "code",
   "execution_count": 22,
   "id": "bf24c8f9-2904-48cf-834f-e057563888b5",
   "metadata": {},
   "outputs": [
    {
     "data": {
      "text/plain": [
       "'Hello World'"
      ]
     },
     "execution_count": 22,
     "metadata": {},
     "output_type": "execute_result"
    }
   ],
   "source": [
    "#str.title()\n",
    "\n",
    "text = \"hello world\"\n",
    "text.title()"
   ]
  },
  {
   "cell_type": "code",
   "execution_count": 24,
   "id": "2b308e95-28fb-4ca3-bdc7-47ad9b9a041c",
   "metadata": {},
   "outputs": [
    {
     "data": {
      "text/plain": [
       "'hello, world!'"
      ]
     },
     "execution_count": 24,
     "metadata": {},
     "output_type": "execute_result"
    }
   ],
   "source": [
    "#str.strip()\n",
    "\n",
    "text = \"  hello, world!  \" \n",
    "text.strip()"
   ]
  },
  {
   "cell_type": "code",
   "execution_count": 58,
   "id": "e32b330b-7fb0-4052-8b69-47322b6f4422",
   "metadata": {},
   "outputs": [
    {
     "name": "stdout",
     "output_type": "stream",
     "text": [
      "mehak world\n"
     ]
    }
   ],
   "source": [
    "text = \"hello world\"\n",
    "text = text.replace(\"hello\", \"mehak\")\n",
    "print(text)\n"
   ]
  },
  {
   "cell_type": "code",
   "execution_count": 34,
   "id": "abf739cf-fc57-412a-ade4-8dec9d15295b",
   "metadata": {},
   "outputs": [],
   "source": [
    "#str.split(separator)\n",
    "\n",
    "text = \"hello world!\"\n",
    "split_text = text.split(\", \")\n"
   ]
  },
  {
   "cell_type": "code",
   "execution_count": 36,
   "id": "7c4ee644-9265-43c4-b464-abf0bf71a186",
   "metadata": {},
   "outputs": [
    {
     "data": {
      "text/plain": [
       "['hello,', 'world!', 'this', 'is', 'asplit', 'method']"
      ]
     },
     "execution_count": 36,
     "metadata": {},
     "output_type": "execute_result"
    }
   ],
   "source": [
    "text = \"hello, world! this is asplit method\"\n",
    "text.split(\" \")"
   ]
  },
  {
   "cell_type": "code",
   "execution_count": 38,
   "id": "1165c165-6e16-44ba-9b47-26ab609b3759",
   "metadata": {},
   "outputs": [
    {
     "data": {
      "text/plain": [
       "['hello world!']"
      ]
     },
     "execution_count": 38,
     "metadata": {},
     "output_type": "execute_result"
    }
   ],
   "source": [
    "split_text"
   ]
  },
  {
   "cell_type": "code",
   "execution_count": 42,
   "id": "686cb0f0-5c35-4a13-97ed-36ebdc1f243c",
   "metadata": {},
   "outputs": [
    {
     "data": {
      "text/plain": [
       "['hello, world! ', ' is asplit method']"
      ]
     },
     "execution_count": 42,
     "metadata": {},
     "output_type": "execute_result"
    }
   ],
   "source": [
    "text = \"hello, world! this is asplit method\"\n",
    "text.split(\"this\")"
   ]
  },
  {
   "cell_type": "code",
   "execution_count": 44,
   "id": "09480958-395b-4628-88b9-0c0bfd4c86c2",
   "metadata": {},
   "outputs": [
    {
     "data": {
      "text/plain": [
       "['hello world!']"
      ]
     },
     "execution_count": 44,
     "metadata": {},
     "output_type": "execute_result"
    }
   ],
   "source": [
    "split_text"
   ]
  },
  {
   "cell_type": "code",
   "execution_count": 46,
   "id": "9ae6bf3b-3bc6-45da-9bd5-975119e71dbc",
   "metadata": {},
   "outputs": [
    {
     "data": {
      "text/plain": [
       "['hello', 'world', 'this', 'is']"
      ]
     },
     "execution_count": 46,
     "metadata": {},
     "output_type": "execute_result"
    }
   ],
   "source": [
    "#str.join(iterable)\n",
    "words = ['hello', 'world', \"this\" , \"is\"]\n",
    "words"
   ]
  },
  {
   "cell_type": "code",
   "execution_count": 50,
   "id": "f8052522-bb6e-4d44-932a-ca049566d297",
   "metadata": {},
   "outputs": [],
   "source": [
    "joined_text='-'.join(words)"
   ]
  },
  {
   "cell_type": "code",
   "execution_count": 52,
   "id": "4984c930-1042-4163-a1fe-9c7eb8389d18",
   "metadata": {},
   "outputs": [
    {
     "data": {
      "text/plain": [
       "'hello-world-this-is'"
      ]
     },
     "execution_count": 52,
     "metadata": {},
     "output_type": "execute_result"
    }
   ],
   "source": [
    "joined_text"
   ]
  },
  {
   "cell_type": "code",
   "execution_count": 54,
   "id": "f56ae200-d89d-412b-90ff-8c090a64bc9a",
   "metadata": {},
   "outputs": [],
   "source": [
    "#str.finnd(substring)\n",
    "text = \"hello, world!\"\n",
    "index = text.find(\"world\")"
   ]
  },
  {
   "cell_type": "code",
   "execution_count": 56,
   "id": "c5fea848-46be-4cff-ab59-476224454e88",
   "metadata": {},
   "outputs": [
    {
     "data": {
      "text/plain": [
       "7"
      ]
     },
     "execution_count": 56,
     "metadata": {},
     "output_type": "execute_result"
    }
   ],
   "source": [
    "index"
   ]
  },
  {
   "cell_type": "code",
   "execution_count": 60,
   "id": "5f6042ab-9c98-4b80-b10c-cad68545d833",
   "metadata": {},
   "outputs": [],
   "source": [
    "#str.count(substring)\n",
    "text = \"Hello, Hello, Hello world\"\n",
    "count = text.count(\"Hello\")\n",
    "\n"
   ]
  },
  {
   "cell_type": "code",
   "execution_count": 64,
   "id": "cf81c15b-362d-4650-8df2-0942b75c6670",
   "metadata": {},
   "outputs": [
    {
     "data": {
      "text/plain": [
       "3"
      ]
     },
     "execution_count": 64,
     "metadata": {},
     "output_type": "execute_result"
    }
   ],
   "source": [
    "count"
   ]
  },
  {
   "cell_type": "code",
   "execution_count": 66,
   "id": "d3e377c3-6f8a-4f46-97b9-de4bca32fa1e",
   "metadata": {},
   "outputs": [
    {
     "data": {
      "text/plain": [
       "False"
      ]
     },
     "execution_count": 66,
     "metadata": {},
     "output_type": "execute_result"
    }
   ],
   "source": [
    "#str.startwith(prefix)\n",
    "text = \"hello, world\"\n",
    "text.startswith(\"world\")"
   ]
  },
  {
   "cell_type": "code",
   "execution_count": 68,
   "id": "c007a540-088c-49c6-ab67-dd913262f375",
   "metadata": {},
   "outputs": [
    {
     "data": {
      "text/plain": [
       "True"
      ]
     },
     "execution_count": 68,
     "metadata": {},
     "output_type": "execute_result"
    }
   ],
   "source": [
    "#str.startwith(prefix)\n",
    "text = \"hello, world\"\n",
    "text.startswith(\"hello\")"
   ]
  },
  {
   "cell_type": "code",
   "execution_count": 70,
   "id": "54f36d59-b6f3-4a52-a5b0-657b116fda5f",
   "metadata": {},
   "outputs": [
    {
     "data": {
      "text/plain": [
       "True"
      ]
     },
     "execution_count": 70,
     "metadata": {},
     "output_type": "execute_result"
    }
   ],
   "source": [
    "#str.endswith(suffix)\n",
    "\n",
    "text = \"hello, world!\"\n",
    "text.endswith(\"!\")"
   ]
  },
  {
   "cell_type": "code",
   "execution_count": 72,
   "id": "0482143e-b63c-4d41-9d6e-8867babf9b2b",
   "metadata": {},
   "outputs": [
    {
     "data": {
      "text/plain": [
       "True"
      ]
     },
     "execution_count": 72,
     "metadata": {},
     "output_type": "execute_result"
    }
   ],
   "source": [
    "#str.isdigit()\n",
    "text = \"12345\"\n",
    "text.isdigit()"
   ]
  },
  {
   "cell_type": "code",
   "execution_count": 76,
   "id": "097aa6e5-dee5-44b5-81bd-97538285f2a4",
   "metadata": {},
   "outputs": [
    {
     "data": {
      "text/plain": [
       "True"
      ]
     },
     "execution_count": 76,
     "metadata": {},
     "output_type": "execute_result"
    }
   ],
   "source": [
    "#str.isalpha()\n",
    "text = \"hello\"\n",
    "text.isalpha()"
   ]
  },
  {
   "cell_type": "code",
   "execution_count": 78,
   "id": "0b144d69-a737-4854-86e9-8bf6e74fc524",
   "metadata": {},
   "outputs": [
    {
     "data": {
      "text/plain": [
       "True"
      ]
     },
     "execution_count": 78,
     "metadata": {},
     "output_type": "execute_result"
    }
   ],
   "source": [
    "#str.islower\n",
    "text=\"hello\"\n",
    "text.islower()"
   ]
  },
  {
   "cell_type": "code",
   "execution_count": 80,
   "id": "0c2d8a80-4d5f-4bce-96b9-04237a4e5d13",
   "metadata": {},
   "outputs": [
    {
     "data": {
      "text/plain": [
       "False"
      ]
     },
     "execution_count": 80,
     "metadata": {},
     "output_type": "execute_result"
    }
   ],
   "source": [
    "#str.isupper()\n",
    "text=\"hello\"\n",
    "text.isupper()"
   ]
  },
  {
   "cell_type": "code",
   "execution_count": 84,
   "id": "7d681939-3aad-469b-8566-e8c38f5838ed",
   "metadata": {},
   "outputs": [],
   "source": [
    "#str.zfill(width)\n",
    "text = \"42\"\n",
    "padded_text= text.zfill(5)"
   ]
  },
  {
   "cell_type": "code",
   "execution_count": 86,
   "id": "c16d569e-517c-40aa-a55a-b036668d147c",
   "metadata": {},
   "outputs": [
    {
     "data": {
      "text/plain": [
       "'00042'"
      ]
     },
     "execution_count": 86,
     "metadata": {},
     "output_type": "execute_result"
    }
   ],
   "source": [
    "padded_text"
   ]
  },
  {
   "cell_type": "code",
   "execution_count": 88,
   "id": "1ed8a075-ed29-403f-b8bd-f542d5c7639f",
   "metadata": {},
   "outputs": [
    {
     "data": {
      "text/plain": [
       "13"
      ]
     },
     "execution_count": 88,
     "metadata": {},
     "output_type": "execute_result"
    }
   ],
   "source": [
    "#str.rfind(substring)\n",
    "text = \"hello, hello world \"\n",
    "text.rfind(\"world\")"
   ]
  },
  {
   "cell_type": "markdown",
   "id": "4bc11a86-d1fd-43a2-9f3e-ccd4c79b4337",
   "metadata": {},
   "source": [
    "# ASCCII"
   ]
  },
  {
   "cell_type": "code",
   "execution_count": null,
   "id": "7470a712-0895-4581-9d7f-dc6b9de1183f",
   "metadata": {},
   "outputs": [],
   "source": [
    "#american standard code for information interchange\n"
   ]
  },
  {
   "cell_type": "code",
   "execution_count": 91,
   "id": "a55d96bd-eca2-4fb5-b526-aae1cca2686a",
   "metadata": {},
   "outputs": [],
   "source": [
    "#common functions \n",
    "#functions like min() and max()\n",
    "#min() returns smallest item \n",
    "words = ['apple','bannana','cherry']"
   ]
  },
  {
   "cell_type": "code",
   "execution_count": 93,
   "id": "a13f39a1-3395-4738-979d-dd5194bfdab8",
   "metadata": {},
   "outputs": [
    {
     "data": {
      "text/plain": [
       "'apple'"
      ]
     },
     "execution_count": 93,
     "metadata": {},
     "output_type": "execute_result"
    }
   ],
   "source": [
    "min(words)"
   ]
  },
  {
   "cell_type": "code",
   "execution_count": 95,
   "id": "9e2763f9-88a6-4ff9-bc48-0bf22d9d4646",
   "metadata": {},
   "outputs": [
    {
     "data": {
      "text/plain": [
       "'cherry'"
      ]
     },
     "execution_count": 95,
     "metadata": {},
     "output_type": "execute_result"
    }
   ],
   "source": [
    "max(words)"
   ]
  },
  {
   "cell_type": "code",
   "execution_count": 97,
   "id": "4f240324-05bd-4837-a3a6-f161ce4f4ceb",
   "metadata": {},
   "outputs": [
    {
     "data": {
      "text/plain": [
       "3"
      ]
     },
     "execution_count": 97,
     "metadata": {},
     "output_type": "execute_result"
    }
   ],
   "source": [
    "len(words)"
   ]
  },
  {
   "cell_type": "code",
   "execution_count": 99,
   "id": "b613f3fb-ddbe-4ace-9307-535b268209d5",
   "metadata": {},
   "outputs": [
    {
     "data": {
      "text/plain": [
       "['apple', 'bannana', 'cherry']"
      ]
     },
     "execution_count": 99,
     "metadata": {},
     "output_type": "execute_result"
    }
   ],
   "source": [
    "sorted(words)"
   ]
  },
  {
   "cell_type": "code",
   "execution_count": 101,
   "id": "b2984635-4f5a-4e04-9fe2-a5bf9bd33c80",
   "metadata": {},
   "outputs": [
    {
     "data": {
      "text/plain": [
       "['a', 'a', 'a', 'b', 'n', 'n']"
      ]
     },
     "execution_count": 101,
     "metadata": {},
     "output_type": "execute_result"
    }
   ],
   "source": [
    "text =\"banana\"\n",
    "sorted(text)"
   ]
  },
  {
   "cell_type": "code",
   "execution_count": 107,
   "id": "bc75641d-d2e3-47a6-86e6-172d421b33ee",
   "metadata": {},
   "outputs": [
    {
     "data": {
      "text/plain": [
       "'ananab'"
      ]
     },
     "execution_count": 107,
     "metadata": {},
     "output_type": "execute_result"
    }
   ],
   "source": [
    "''.join(reversed(text)) # u can't directly write reversed(text)"
   ]
  },
  {
   "cell_type": "code",
   "execution_count": 111,
   "id": "d1fcdded-f0d6-415f-84ad-ee296f34b99f",
   "metadata": {},
   "outputs": [
    {
     "data": {
      "text/plain": [
       "True"
      ]
     },
     "execution_count": 111,
     "metadata": {},
     "output_type": "execute_result"
    }
   ],
   "source": [
    "text='12345'\n",
    "all_digits = all(char.isdigit() for char in text) #it returns true \n",
    "all_digits"
   ]
  },
  {
   "cell_type": "code",
   "execution_count": 115,
   "id": "8c0b600a-186c-4760-a89f-2c49a0925ab3",
   "metadata": {},
   "outputs": [
    {
     "data": {
      "text/plain": [
       "True"
      ]
     },
     "execution_count": 115,
     "metadata": {},
     "output_type": "execute_result"
    }
   ],
   "source": [
    "text='12345'\n",
    "any_digits = any(char.isdigit() for char in text) #it returns true \n",
    "any_digits"
   ]
  },
  {
   "cell_type": "code",
   "execution_count": 117,
   "id": "d44e51c4-7073-4d8d-933e-7f481955b706",
   "metadata": {},
   "outputs": [],
   "source": [
    "#sum()\n",
    "number = [1,2,3,4]\n",
    "total =sum(number)"
   ]
  },
  {
   "cell_type": "code",
   "execution_count": 119,
   "id": "2a11b72c-0143-4fe8-88b0-554f56515013",
   "metadata": {},
   "outputs": [
    {
     "data": {
      "text/plain": [
       "10"
      ]
     },
     "execution_count": 119,
     "metadata": {},
     "output_type": "execute_result"
    }
   ],
   "source": [
    "total"
   ]
  },
  {
   "cell_type": "code",
   "execution_count": 129,
   "id": "052690e9-b3a6-4b59-b17a-397c84307e6f",
   "metadata": {},
   "outputs": [
    {
     "data": {
      "text/plain": [
       "'john doe'"
      ]
     },
     "execution_count": 129,
     "metadata": {},
     "output_type": "execute_result"
    }
   ],
   "source": [
    "#u hv 2 str , first_name =\"john\" and last=\"doe\" combine these 2 with spacee in between and store result in new variable full_name \n",
    "first_name =\"john\"\n",
    "last_name=\"doe\"\n",
    "full_name = first_name +\" \"+ last_name\n",
    "full_name"
   ]
  },
  {
   "cell_type": "code",
   "execution_count": null,
   "id": "29e034ac-8e97-4097-8549-a02c6f6c9f35",
   "metadata": {},
   "outputs": [],
   "source": []
  }
 ],
 "metadata": {
  "kernelspec": {
   "display_name": "Python [conda env:base] *",
   "language": "python",
   "name": "conda-base-py"
  },
  "language_info": {
   "codemirror_mode": {
    "name": "ipython",
    "version": 3
   },
   "file_extension": ".py",
   "mimetype": "text/x-python",
   "name": "python",
   "nbconvert_exporter": "python",
   "pygments_lexer": "ipython3",
   "version": "3.12.7"
  }
 },
 "nbformat": 4,
 "nbformat_minor": 5
}
