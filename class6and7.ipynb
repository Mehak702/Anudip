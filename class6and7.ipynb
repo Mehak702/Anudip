{
 "cells": [
  {
   "cell_type": "code",
   "execution_count": 1,
   "id": "69ef6e9b-2492-4dd8-b9ec-e9b8d8c123c4",
   "metadata": {},
   "outputs": [
    {
     "name": "stdout",
     "output_type": "stream",
     "text": [
      "12\n",
      "14\n",
      "16\n",
      "18\n",
      "20\n",
      "22\n",
      "24\n",
      "26\n",
      "28\n"
     ]
    }
   ],
   "source": [
    "#for a list of numbers print only the ones that are both even and greater than 10\n",
    "for i in range(30):\n",
    "    if i%2==0 and i>10:\n",
    "        print(i)\n",
    "\n",
    "\n",
    "     "
   ]
  },
  {
   "cell_type": "code",
   "execution_count": 3,
   "id": "dd07cba9-8344-4a16-993a-997bd0d66c9b",
   "metadata": {},
   "outputs": [
    {
     "name": "stdout",
     "output_type": "stream",
     "text": [
      "11 is a prime number\n",
      "13 is a prime number\n",
      "15 is a prime number\n",
      "17 is a prime number\n",
      "19 is a prime number\n",
      "21 is a prime number\n",
      "23 is a prime number\n",
      "25 is a prime number\n",
      "27 is a prime number\n",
      "29 is a prime number\n",
      "31 is a prime number\n",
      "33 is a prime number\n",
      "35 is a prime number\n",
      "37 is a prime number\n",
      "39 is a prime number\n",
      "41 is a prime number\n",
      "43 is a prime number\n",
      "45 is a prime number\n",
      "47 is a prime number\n",
      "49 is a prime number\n"
     ]
    }
   ],
   "source": [
    "for i in range(10,50):\n",
    "    if i%2!=0:\n",
    "        print(f'{i} is a prime number')\n"
   ]
  },
  {
   "cell_type": "code",
   "execution_count": 5,
   "id": "04b00773-6738-4ace-bb67-a8f26d098818",
   "metadata": {},
   "outputs": [
    {
     "name": "stdout",
     "output_type": "stream",
     "text": [
      "1\n",
      "2\n",
      "3\n"
     ]
    }
   ],
   "source": [
    "i = [1,2,3,4,5]\n",
    "for numbers in i:\n",
    "    if numbers == 4:\n",
    "        break\n",
    "    print(numbers)   \n"
   ]
  },
  {
   "cell_type": "code",
   "execution_count": 7,
   "id": "b80145a2-d90b-4e82-b7d0-376f2d112596",
   "metadata": {},
   "outputs": [
    {
     "name": "stdout",
     "output_type": "stream",
     "text": [
      "1\n",
      "2\n",
      "3\n",
      "4\n",
      "6\n",
      "7\n"
     ]
    }
   ],
   "source": [
    "i=[1,2,3,4,5,6,7]\n",
    "for numbers in i:\n",
    "    if numbers == 5:\n",
    "        continue\n",
    "    print(numbers)    \n",
    "\n"
   ]
  },
  {
   "cell_type": "code",
   "execution_count": 9,
   "id": "3b09511e-c461-48f8-93d4-e0b1eb12f125",
   "metadata": {},
   "outputs": [
    {
     "name": "stdout",
     "output_type": "stream",
     "text": [
      "current number is: 10\n",
      "current number is: 8\n",
      "current number is: 6\n",
      "current number is: 4\n",
      "current number is: 2\n"
     ]
    }
   ],
   "source": [
    "#while\n",
    "number = 10\n",
    "while number>0:\n",
    "    print(\"current number is:\",number)\n",
    "    number-=2\n"
   ]
  },
  {
   "cell_type": "code",
   "execution_count": 11,
   "id": "8ffbbecd-16f9-4289-8645-d3a87500573f",
   "metadata": {},
   "outputs": [
    {
     "name": "stdout",
     "output_type": "stream",
     "text": [
      "x is: 3\n",
      "x is: 2\n",
      "x is: 1\n",
      "loop has ended\n"
     ]
    }
   ],
   "source": [
    "x=3\n",
    "while x>0:\n",
    "    print(\"x is:\", x)\n",
    "    x-=1\n",
    "else:\n",
    "    print(\"loop has ended\")\n"
   ]
  },
  {
   "cell_type": "code",
   "execution_count": 13,
   "id": "88d2b5c8-5f54-499a-b883-70fade1867d9",
   "metadata": {},
   "outputs": [
    {
     "name": "stdout",
     "output_type": "stream",
     "text": [
      "x is: 3\n",
      "x is: 2\n",
      "x is: 1\n",
      "loop has ended\n"
     ]
    }
   ],
   "source": [
    "#infinite while loop \n",
    "#if the condition in a while loop never becomes false, the loop continues indefinitely\n",
    "x=3\n",
    "while x>0:\n",
    "    print(\"x is:\", x)\n",
    "    x-=1\n",
    "else:\n",
    "    print(\"loop has ended\")\n"
   ]
  },
  {
   "cell_type": "code",
   "execution_count": 17,
   "id": "c0c791a1-bf29-423d-8d36-123c1bfccdd5",
   "metadata": {},
   "outputs": [
    {
     "data": {
      "text/plain": [
       "str"
      ]
     },
     "execution_count": 17,
     "metadata": {},
     "output_type": "execute_result"
    }
   ],
   "source": [
    "str=\"Good Evening\"\n",
    "type(str)"
   ]
  },
  {
   "cell_type": "code",
   "execution_count": 19,
   "id": "1f25ef98-70bb-4ab2-b637-79b8a0e73d91",
   "metadata": {},
   "outputs": [
    {
     "data": {
      "text/plain": [
       "12"
      ]
     },
     "execution_count": 19,
     "metadata": {},
     "output_type": "execute_result"
    }
   ],
   "source": [
    "len(str)\n"
   ]
  },
  {
   "cell_type": "code",
   "execution_count": 21,
   "id": "7d2b64a9-a826-49a4-bbc9-df8945bcb49e",
   "metadata": {},
   "outputs": [
    {
     "data": {
      "text/plain": [
       "'v'"
      ]
     },
     "execution_count": 21,
     "metadata": {},
     "output_type": "execute_result"
    }
   ],
   "source": [
    "\n",
    "str[6]"
   ]
  },
  {
   "cell_type": "code",
   "execution_count": 23,
   "id": "d3ef8969-3d24-453e-8f17-130761d138ad",
   "metadata": {},
   "outputs": [
    {
     "data": {
      "text/plain": [
       "' '"
      ]
     },
     "execution_count": 23,
     "metadata": {},
     "output_type": "execute_result"
    }
   ],
   "source": [
    "str[4]\n"
   ]
  },
  {
   "cell_type": "code",
   "execution_count": 25,
   "id": "3bd29ebf-1fcb-4a0b-997c-1fec976390b5",
   "metadata": {},
   "outputs": [
    {
     "data": {
      "text/plain": [
       "'g'"
      ]
     },
     "execution_count": 25,
     "metadata": {},
     "output_type": "execute_result"
    }
   ],
   "source": [
    "str[11]\n"
   ]
  },
  {
   "cell_type": "code",
   "execution_count": 29,
   "id": "d051531a-4234-44a0-bd4d-3840487584bc",
   "metadata": {},
   "outputs": [
    {
     "data": {
      "text/plain": [
       "'pyth'"
      ]
     },
     "execution_count": 29,
     "metadata": {},
     "output_type": "execute_result"
    }
   ],
   "source": [
    "a=\"python programming\"\n",
    "a[0:4]"
   ]
  },
  {
   "cell_type": "code",
   "execution_count": 31,
   "id": "c66cf8bd-3f0e-4b67-a4ab-deea0a00597f",
   "metadata": {},
   "outputs": [
    {
     "data": {
      "text/plain": [
       "'g'"
      ]
     },
     "execution_count": 31,
     "metadata": {},
     "output_type": "execute_result"
    }
   ],
   "source": [
    "\n",
    "a[-1]"
   ]
  },
  {
   "cell_type": "code",
   "execution_count": 33,
   "id": "480f28ae-a078-4c7d-b5ca-4e77e75149fc",
   "metadata": {},
   "outputs": [
    {
     "data": {
      "text/plain": [
       "'n progr'"
      ]
     },
     "execution_count": 33,
     "metadata": {},
     "output_type": "execute_result"
    }
   ],
   "source": [
    "\n",
    "a[5:12]"
   ]
  },
  {
   "cell_type": "code",
   "execution_count": 35,
   "id": "d7e10803-baee-4c65-8049-fff403fd513c",
   "metadata": {},
   "outputs": [
    {
     "data": {
      "text/plain": [
       "'pto r'"
      ]
     },
     "execution_count": 35,
     "metadata": {},
     "output_type": "execute_result"
    }
   ],
   "source": [
    "a[0:10:2]"
   ]
  },
  {
   "cell_type": "code",
   "execution_count": 37,
   "id": "ca222947-c9c1-4d93-8074-da8aaa64bae6",
   "metadata": {},
   "outputs": [
    {
     "data": {
      "text/plain": [
       "'python '"
      ]
     },
     "execution_count": 37,
     "metadata": {},
     "output_type": "execute_result"
    }
   ],
   "source": [
    "a[:7]"
   ]
  },
  {
   "cell_type": "code",
   "execution_count": 39,
   "id": "01ecf3f8-b916-419e-9811-150e802b910f",
   "metadata": {},
   "outputs": [
    {
     "data": {
      "text/plain": [
       "' programming'"
      ]
     },
     "execution_count": 39,
     "metadata": {},
     "output_type": "execute_result"
    }
   ],
   "source": [
    "\n",
    "a[6:]"
   ]
  },
  {
   "cell_type": "code",
   "execution_count": 41,
   "id": "f2d2cbcc-c68d-44b1-addd-5b02934eeebd",
   "metadata": {},
   "outputs": [
    {
     "data": {
      "text/plain": [
       "'ammin'"
      ]
     },
     "execution_count": 41,
     "metadata": {},
     "output_type": "execute_result"
    }
   ],
   "source": [
    "\n",
    "a[-6:-1]"
   ]
  },
  {
   "cell_type": "code",
   "execution_count": 43,
   "id": "c81e6679-3903-4a54-afdd-db410301c008",
   "metadata": {},
   "outputs": [
    {
     "data": {
      "text/plain": [
       "'p'"
      ]
     },
     "execution_count": 43,
     "metadata": {},
     "output_type": "execute_result"
    }
   ],
   "source": [
    "\n",
    "a[-11]"
   ]
  },
  {
   "cell_type": "code",
   "execution_count": 45,
   "id": "9f5f49c3-3121-4e42-ae3b-3571acf75ed3",
   "metadata": {},
   "outputs": [
    {
     "name": "stdout",
     "output_type": "stream",
     "text": [
      "python programming\n"
     ]
    }
   ],
   "source": [
    "print(a)\n"
   ]
  },
  {
   "cell_type": "code",
   "execution_count": 47,
   "id": "26f865f9-2aa0-426c-a594-d7ea3cc53288",
   "metadata": {},
   "outputs": [
    {
     "name": "stdout",
     "output_type": "stream",
     "text": [
      "gnimmargorp nohtyp\n"
     ]
    }
   ],
   "source": [
    "reversed_a=a[::-1]\n",
    "print(reversed_a)\n"
   ]
  },
  {
   "cell_type": "code",
   "execution_count": 49,
   "id": "58d735ce-5cdc-4bda-a584-6d1ede0542f5",
   "metadata": {},
   "outputs": [
    {
     "name": "stdout",
     "output_type": "stream",
     "text": [
      "programming\n"
     ]
    }
   ],
   "source": [
    "substring=a[7:]\n",
    "print(substring)\n",
    "\n"
   ]
  },
  {
   "cell_type": "code",
   "execution_count": 51,
   "id": "2b9152ba-59c7-4012-b26d-4cb2db7fd2ec",
   "metadata": {},
   "outputs": [],
   "source": [
    "original_str='hello there'"
   ]
  },
  {
   "cell_type": "code",
   "execution_count": 55,
   "id": "b6a1ece3-4aff-4579-a5cd-971fc2ce6e29",
   "metadata": {},
   "outputs": [],
   "source": [
    "new_str=original_str.replace('there','rani')\n"
   ]
  },
  {
   "cell_type": "code",
   "execution_count": 57,
   "id": "2b11f2ad-d49a-47ce-b425-63617a7f2ab4",
   "metadata": {},
   "outputs": [
    {
     "data": {
      "text/plain": [
       "'hello rani'"
      ]
     },
     "execution_count": 57,
     "metadata": {},
     "output_type": "execute_result"
    }
   ],
   "source": [
    "new_str"
   ]
  },
  {
   "cell_type": "code",
   "execution_count": 59,
   "id": "3fc43d64-6303-4abb-a3b6-6cb30d608216",
   "metadata": {},
   "outputs": [
    {
     "data": {
      "text/plain": [
       "'hello there'"
      ]
     },
     "execution_count": 59,
     "metadata": {},
     "output_type": "execute_result"
    }
   ],
   "source": [
    "original_str"
   ]
  },
  {
   "cell_type": "code",
   "execution_count": 61,
   "id": "1b1f08af-e915-4be8-98c8-c61bb1ae69c3",
   "metadata": {},
   "outputs": [],
   "source": [
    "name='Myself Name'\n"
   ]
  },
  {
   "cell_type": "code",
   "execution_count": 65,
   "id": "1a5d1cb3-cc52-4717-be5e-56d4e2c7373c",
   "metadata": {},
   "outputs": [],
   "source": [
    "your_name=name.replace('Name','rani')\n"
   ]
  },
  {
   "cell_type": "code",
   "execution_count": 67,
   "id": "93c782bb-7537-4b96-83da-8ad4843f09e1",
   "metadata": {},
   "outputs": [
    {
     "data": {
      "text/plain": [
       "'Myself rani'"
      ]
     },
     "execution_count": 67,
     "metadata": {},
     "output_type": "execute_result"
    }
   ],
   "source": [
    "\n",
    "your_name"
   ]
  },
  {
   "cell_type": "code",
   "execution_count": 69,
   "id": "2e716d78-fff8-424d-b395-96f718f3a6ad",
   "metadata": {},
   "outputs": [],
   "source": [
    "x='hello'\n",
    "y='there'\n",
    "combined_string=x +\" \" + y\n",
    "\n"
   ]
  },
  {
   "cell_type": "code",
   "execution_count": 71,
   "id": "7f470eda-0f90-4ab6-99b5-fbbaecbb3f9f",
   "metadata": {},
   "outputs": [
    {
     "data": {
      "text/plain": [
       "'hello there'"
      ]
     },
     "execution_count": 71,
     "metadata": {},
     "output_type": "execute_result"
    }
   ],
   "source": [
    "\n",
    "combined_string"
   ]
  },
  {
   "cell_type": "code",
   "execution_count": 79,
   "id": "358435c8-9a9c-43a6-95b1-72f1228a96a4",
   "metadata": {},
   "outputs": [],
   "source": [
    "name='rani'\n",
    "age=18\n",
    "\n"
   ]
  },
  {
   "cell_type": "code",
   "execution_count": 81,
   "id": "727a29f6-a81f-45f4-857b-16a3033d8a85",
   "metadata": {},
   "outputs": [
    {
     "name": "stdout",
     "output_type": "stream",
     "text": [
      "My name is rani  and im 18  years old \n"
     ]
    }
   ],
   "source": [
    "print(f\"My name is\",name,\" and im\" ,age, \" years old \" )\n"
   ]
  },
  {
   "cell_type": "code",
   "execution_count": 83,
   "id": "74cc0df8-816e-4b04-b86b-d4e1fafec49d",
   "metadata": {},
   "outputs": [],
   "source": [
    "my_str='hello world'"
   ]
  },
  {
   "cell_type": "code",
   "execution_count": 85,
   "id": "bb7eefeb-5359-40cb-b078-d6d3c4a4e5e4",
   "metadata": {},
   "outputs": [
    {
     "data": {
      "text/plain": [
       "'hello world'"
      ]
     },
     "execution_count": 85,
     "metadata": {},
     "output_type": "execute_result"
    }
   ],
   "source": [
    "\n",
    "my_str"
   ]
  },
  {
   "cell_type": "code",
   "execution_count": 87,
   "id": "a513c6a7-6af0-4896-aeec-6b7c4c7ae715",
   "metadata": {},
   "outputs": [],
   "source": [
    "del my_str"
   ]
  },
  {
   "cell_type": "code",
   "execution_count": 91,
   "id": "e2503338-ee43-46ee-8551-d4d455db5ab4",
   "metadata": {},
   "outputs": [],
   "source": [
    "num='123'\n",
    "num1='546'\n",
    "concatination=num +\" \"+ num1\n"
   ]
  },
  {
   "cell_type": "code",
   "execution_count": 93,
   "id": "22f25f76-7f8d-480e-b38f-741cd8020fc7",
   "metadata": {},
   "outputs": [
    {
     "data": {
      "text/plain": [
       "'123 546'"
      ]
     },
     "execution_count": 93,
     "metadata": {},
     "output_type": "execute_result"
    }
   ],
   "source": [
    "concatination\n"
   ]
  },
  {
   "cell_type": "code",
   "execution_count": 95,
   "id": "1d7f2d2b-bd49-4cc5-8864-7961242d72c0",
   "metadata": {},
   "outputs": [
    {
     "name": "stdout",
     "output_type": "stream",
     "text": [
      "Concatenated_str: hello world\n"
     ]
    }
   ],
   "source": [
    "str1='hello'\n",
    "str2='world'\n",
    "concatenated_str=str1+' '+str2\n",
    "print('Concatenated_str:', concatenated_str)\n",
    "\n"
   ]
  },
  {
   "cell_type": "code",
   "execution_count": 97,
   "id": "9b6b71bc-0567-4334-a793-6a8ce7676c1a",
   "metadata": {},
   "outputs": [
    {
     "name": "stdout",
     "output_type": "stream",
     "text": [
      "repeated string: hihihihihihihihi\n"
     ]
    }
   ],
   "source": [
    "string = \"hi\"\n",
    "repeated_string = string*8\n",
    "print('repeated string:', repeated_string)\n"
   ]
  },
  {
   "cell_type": "code",
   "execution_count": 99,
   "id": "80fb2152-9b43-4fbd-aa91-029a8566174c",
   "metadata": {},
   "outputs": [
    {
     "name": "stdout",
     "output_type": "stream",
     "text": [
      "p\n",
      "y\n",
      "t\n",
      "h\n",
      "o\n",
      "n\n"
     ]
    }
   ],
   "source": [
    "text='python'\n",
    "for char in text:\n",
    "    print(char)\n",
    "\n",
    "\n",
    "     "
   ]
  },
  {
   "cell_type": "code",
   "execution_count": 101,
   "id": "c4537118-f600-4f2b-b8d5-6c880d7fe772",
   "metadata": {},
   "outputs": [
    {
     "name": "stdout",
     "output_type": "stream",
     "text": [
      "Number of vowels: 3\n"
     ]
    }
   ],
   "source": [
    "text='programming'\n",
    "vowels='aeiou'\n",
    "count=0\n",
    "\n",
    "for char in text:\n",
    "    if char in vowels:\n",
    "        count +=1\n",
    "print('Number of vowels:',count)        \n"
   ]
  },
  {
   "cell_type": "code",
   "execution_count": null,
   "id": "0b6a2ee1-ab84-4d10-9196-b022a6fc8f96",
   "metadata": {},
   "outputs": [],
   "source": []
  }
 ],
 "metadata": {
  "kernelspec": {
   "display_name": "Python [conda env:base] *",
   "language": "python",
   "name": "conda-base-py"
  },
  "language_info": {
   "codemirror_mode": {
    "name": "ipython",
    "version": 3
   },
   "file_extension": ".py",
   "mimetype": "text/x-python",
   "name": "python",
   "nbconvert_exporter": "python",
   "pygments_lexer": "ipython3",
   "version": "3.12.7"
  }
 },
 "nbformat": 4,
 "nbformat_minor": 5
}
