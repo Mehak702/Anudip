{
 "cells": [
  {
   "cell_type": "code",
   "execution_count": 1,
   "id": "c16f0d7c-03de-426f-a002-1cb69bcd0dcb",
   "metadata": {},
   "outputs": [
    {
     "name": "stdout",
     "output_type": "stream",
     "text": [
      "{1: 'mehak', 2: 'sania', 3: 'muskan'}\n"
     ]
    }
   ],
   "source": [
    "std={1:\"mehak\",2:\"sania\",3:\"muskan\"}\n",
    "print(std)"
   ]
  },
  {
   "cell_type": "code",
   "execution_count": 2,
   "id": "901c24ab-a88a-47fe-add1-e08dabf02860",
   "metadata": {},
   "outputs": [
    {
     "name": "stdout",
     "output_type": "stream",
     "text": [
      "{1: 'mumbai', 2: 'mysore'}\n"
     ]
    }
   ],
   "source": [
    "places={1:\"mumbai\",2:\"mysore\"}\n",
    "print(places)"
   ]
  },
  {
   "cell_type": "code",
   "execution_count": 4,
   "id": "d5e0163b-7256-4129-b52c-d1390d612b21",
   "metadata": {},
   "outputs": [],
   "source": [
    "_a=15"
   ]
  },
  {
   "cell_type": "code",
   "execution_count": 5,
   "id": "2f0311c4-2a5a-426a-b020-3caccad6d4a9",
   "metadata": {},
   "outputs": [
    {
     "data": {
      "text/plain": [
       "15"
      ]
     },
     "execution_count": 5,
     "metadata": {},
     "output_type": "execute_result"
    }
   ],
   "source": [
    "_a"
   ]
  },
  {
   "cell_type": "code",
   "execution_count": 6,
   "id": "3be763be-e781-4ed5-8c1a-e47113c7319a",
   "metadata": {},
   "outputs": [],
   "source": [
    "myVariable=20"
   ]
  },
  {
   "cell_type": "code",
   "execution_count": 7,
   "id": "96bb4a42-9f34-4edf-aadc-f1a70b417423",
   "metadata": {},
   "outputs": [
    {
     "data": {
      "text/plain": [
       "20"
      ]
     },
     "execution_count": 7,
     "metadata": {},
     "output_type": "execute_result"
    }
   ],
   "source": [
    "myVariable"
   ]
  },
  {
   "cell_type": "code",
   "execution_count": 8,
   "id": "58c5b28d-d21f-4d20-aee9-99a912c9dbd2",
   "metadata": {},
   "outputs": [
    {
     "ename": "SyntaxError",
     "evalue": "invalid syntax (975334565.py, line 1)",
     "output_type": "error",
     "traceback": [
      "\u001b[1;36m  Cell \u001b[1;32mIn[8], line 1\u001b[1;36m\u001b[0m\n\u001b[1;33m    for=5\u001b[0m\n\u001b[1;37m       ^\u001b[0m\n\u001b[1;31mSyntaxError\u001b[0m\u001b[1;31m:\u001b[0m invalid syntax\n"
     ]
    }
   ],
   "source": [
    "for=5"
   ]
  },
  {
   "cell_type": "code",
   "execution_count": 9,
   "id": "92c3eecc-0989-49d2-8864-42505d0d62b9",
   "metadata": {},
   "outputs": [],
   "source": [
    "for_2=9"
   ]
  },
  {
   "cell_type": "code",
   "execution_count": 10,
   "id": "464ea811-1b78-40c1-b618-4be61642f787",
   "metadata": {},
   "outputs": [
    {
     "data": {
      "text/plain": [
       "9"
      ]
     },
     "execution_count": 10,
     "metadata": {},
     "output_type": "execute_result"
    }
   ],
   "source": [
    "for_2"
   ]
  },
  {
   "cell_type": "code",
   "execution_count": 11,
   "id": "cd9106f0-6e5d-4090-a7b2-7a2a62515f06",
   "metadata": {},
   "outputs": [],
   "source": [
    "roll_number=55"
   ]
  },
  {
   "cell_type": "code",
   "execution_count": 12,
   "id": "d4172113-e5a6-42d6-859c-34448234c565",
   "metadata": {},
   "outputs": [
    {
     "data": {
      "text/plain": [
       "55"
      ]
     },
     "execution_count": 12,
     "metadata": {},
     "output_type": "execute_result"
    }
   ],
   "source": [
    "roll_number"
   ]
  },
  {
   "cell_type": "code",
   "execution_count": 14,
   "id": "29a7f350-aa78-4176-a442-e2728e14cd04",
   "metadata": {},
   "outputs": [],
   "source": [
    "list=10"
   ]
  },
  {
   "cell_type": "code",
   "execution_count": 15,
   "id": "eb73c3c8-79f1-4e49-96c5-f80291c97563",
   "metadata": {},
   "outputs": [
    {
     "data": {
      "text/plain": [
       "10"
      ]
     },
     "execution_count": 15,
     "metadata": {},
     "output_type": "execute_result"
    }
   ],
   "source": [
    "list"
   ]
  },
  {
   "cell_type": "code",
   "execution_count": 16,
   "id": "e60d0d00-56e7-496b-a323-8f2537901b6d",
   "metadata": {},
   "outputs": [],
   "source": [
    "tuple=90"
   ]
  },
  {
   "cell_type": "code",
   "execution_count": 17,
   "id": "e3c4cb36-d694-44e5-8d75-a8137457f2f3",
   "metadata": {},
   "outputs": [
    {
     "data": {
      "text/plain": [
       "90"
      ]
     },
     "execution_count": 17,
     "metadata": {},
     "output_type": "execute_result"
    }
   ],
   "source": [
    "tuple"
   ]
  },
  {
   "cell_type": "code",
   "execution_count": 18,
   "id": "35c81aa5-6477-4e39-bfd0-a3d666f49804",
   "metadata": {},
   "outputs": [],
   "source": [
    "# age of hezlin\n",
    "hezlin=4"
   ]
  },
  {
   "cell_type": "code",
   "execution_count": 19,
   "id": "87122a21-381b-4603-a16f-65935e818681",
   "metadata": {},
   "outputs": [
    {
     "data": {
      "text/plain": [
       "'i am mehak '"
      ]
     },
     "execution_count": 19,
     "metadata": {},
     "output_type": "execute_result"
    }
   ],
   "source": [
    "\"\"\"i am mehak \"\"\""
   ]
  },
  {
   "cell_type": "code",
   "execution_count": 20,
   "id": "186362e5-eba6-4e51-941c-ee9eb8e1e466",
   "metadata": {},
   "outputs": [
    {
     "data": {
      "text/plain": [
       "'I am Sanam Anudip trainee'"
      ]
     },
     "execution_count": 20,
     "metadata": {},
     "output_type": "execute_result"
    }
   ],
   "source": [
    "\"\"\"I am Sanam Anudip trainee\"\"\""
   ]
  },
  {
   "cell_type": "code",
   "execution_count": 23,
   "id": "f6d58abb-3043-4629-8492-bae09be8a074",
   "metadata": {},
   "outputs": [
    {
     "name": "stdout",
     "output_type": "stream",
     "text": [
      "this is keyword\n"
     ]
    }
   ],
   "source": [
    "if True:\n",
    "    print(\"this is keyword\")"
   ]
  },
  {
   "cell_type": "code",
   "execution_count": 24,
   "id": "1e61ae1d-3d6b-4e30-9f91-8b6f912d19ce",
   "metadata": {},
   "outputs": [
    {
     "name": "stdin",
     "output_type": "stream",
     "text": [
      " mehak\n"
     ]
    }
   ],
   "source": [
    "name=input()"
   ]
  },
  {
   "cell_type": "code",
   "execution_count": 25,
   "id": "68a3e3db-ac45-407f-9d1a-f1f478f27cdf",
   "metadata": {},
   "outputs": [
    {
     "data": {
      "text/plain": [
       "str"
      ]
     },
     "execution_count": 25,
     "metadata": {},
     "output_type": "execute_result"
    }
   ],
   "source": [
    "type(name)"
   ]
  },
  {
   "cell_type": "code",
   "execution_count": 26,
   "id": "74fcbde8-94b3-4ce4-bd14-bc22f336af03",
   "metadata": {},
   "outputs": [
    {
     "name": "stdin",
     "output_type": "stream",
     "text": [
      "enter the name mehak\n"
     ]
    }
   ],
   "source": [
    "name=input(\"enter the name\")"
   ]
  },
  {
   "cell_type": "code",
   "execution_count": 27,
   "id": "b3d777ec-897d-4ac4-ae2d-9a4c6c7750ee",
   "metadata": {},
   "outputs": [
    {
     "data": {
      "text/plain": [
       "'mehak'"
      ]
     },
     "execution_count": 27,
     "metadata": {},
     "output_type": "execute_result"
    }
   ],
   "source": [
    "name"
   ]
  },
  {
   "cell_type": "code",
   "execution_count": 28,
   "id": "ce9da061-d99e-40c6-a7f6-85711d2adcc3",
   "metadata": {},
   "outputs": [
    {
     "name": "stdin",
     "output_type": "stream",
     "text": [
      " mehak\n"
     ]
    }
   ],
   "source": [
    "python=input()"
   ]
  },
  {
   "cell_type": "code",
   "execution_count": 29,
   "id": "6ca7a3d0-607f-42c2-89b9-4a10f050ea2b",
   "metadata": {},
   "outputs": [
    {
     "name": "stdin",
     "output_type": "stream",
     "text": [
      " mehak\n",
      " 1234567\n"
     ]
    }
   ],
   "source": [
    "username=input()\n",
    "password=input()\n"
   ]
  },
  {
   "cell_type": "code",
   "execution_count": 30,
   "id": "11f5dc0c-122d-4034-85c9-4a2a5cb31e7f",
   "metadata": {},
   "outputs": [
    {
     "name": "stdin",
     "output_type": "stream",
     "text": [
      "enter the 1st number 1\n"
     ]
    }
   ],
   "source": [
    "num1=int(input(\"enter the 1st number\"))"
   ]
  },
  {
   "cell_type": "code",
   "execution_count": 31,
   "id": "5d89b852-7c69-4464-8d0f-dcce156d0a41",
   "metadata": {},
   "outputs": [
    {
     "name": "stdin",
     "output_type": "stream",
     "text": [
      "enter the 2nd number 7\n"
     ]
    }
   ],
   "source": [
    "num2=int(input(\"enter the 2nd number\"))\n"
   ]
  },
  {
   "cell_type": "code",
   "execution_count": 32,
   "id": "517b5945-17aa-4ced-9d0c-dd4ad7ca52ed",
   "metadata": {},
   "outputs": [
    {
     "data": {
      "text/plain": [
       "8"
      ]
     },
     "execution_count": 32,
     "metadata": {},
     "output_type": "execute_result"
    }
   ],
   "source": [
    "num1+num2"
   ]
  },
  {
   "cell_type": "code",
   "execution_count": 33,
   "id": "82a20fb5-9371-491b-a8ec-faea0b28a45e",
   "metadata": {},
   "outputs": [
    {
     "name": "stdin",
     "output_type": "stream",
     "text": [
      "enter the 1st number 5\n",
      "enter the 2nd number 7\n"
     ]
    },
    {
     "data": {
      "text/plain": [
       "12"
      ]
     },
     "execution_count": 33,
     "metadata": {},
     "output_type": "execute_result"
    }
   ],
   "source": [
    "num1=int(input(\"enter the 1st number\"))\n",
    "num2=int(input(\"enter the 2nd number\"))\n",
    "num1+num2"
   ]
  },
  {
   "cell_type": "code",
   "execution_count": 34,
   "id": "7b900e86-8022-4e4e-b8bf-9dd6019ae26b",
   "metadata": {},
   "outputs": [
    {
     "name": "stdin",
     "output_type": "stream",
     "text": [
      "enter the 1st number 7\n",
      "enter the 2nd number 8\n",
      "enter the 3rd number 9\n"
     ]
    }
   ],
   "source": [
    "num1=int(input(\"enter the 1st number\"))\n",
    "num2=int(input(\"enter the 2nd number\"))\n",
    "num3=int(input(\"enter the 3rd number\"))"
   ]
  },
  {
   "cell_type": "code",
   "execution_count": 35,
   "id": "4d856bed-2968-4c36-9b17-aad86f7e0113",
   "metadata": {},
   "outputs": [
    {
     "data": {
      "text/plain": [
       "24"
      ]
     },
     "execution_count": 35,
     "metadata": {},
     "output_type": "execute_result"
    }
   ],
   "source": [
    "num1+num2+num3"
   ]
  },
  {
   "cell_type": "code",
   "execution_count": 36,
   "id": "c3e90309-b042-42a6-9461-a389b575a94b",
   "metadata": {},
   "outputs": [
    {
     "data": {
      "text/plain": [
       "-10"
      ]
     },
     "execution_count": 36,
     "metadata": {},
     "output_type": "execute_result"
    }
   ],
   "source": [
    "num1-num2-num3"
   ]
  },
  {
   "cell_type": "code",
   "execution_count": 37,
   "id": "3e6e68f6-f0ac-40d5-a9bf-1082f39b12cd",
   "metadata": {},
   "outputs": [
    {
     "data": {
      "text/plain": [
       "504"
      ]
     },
     "execution_count": 37,
     "metadata": {},
     "output_type": "execute_result"
    }
   ],
   "source": [
    "num1*num2*num3"
   ]
  },
  {
   "cell_type": "code",
   "execution_count": 38,
   "id": "df062f65-1643-42fa-bf92-f73ca2254e22",
   "metadata": {},
   "outputs": [
    {
     "data": {
      "text/plain": [
       "0.09722222222222222"
      ]
     },
     "execution_count": 38,
     "metadata": {},
     "output_type": "execute_result"
    }
   ],
   "source": [
    "num1/num2/num3"
   ]
  },
  {
   "cell_type": "code",
   "execution_count": null,
   "id": "bfb4a7d1-b735-4c02-9160-b3768eb13bd1",
   "metadata": {},
   "outputs": [],
   "source": []
  }
 ],
 "metadata": {
  "kernelspec": {
   "display_name": "Python 3 (ipykernel)",
   "language": "python",
   "name": "python3"
  },
  "language_info": {
   "codemirror_mode": {
    "name": "ipython",
    "version": 3
   },
   "file_extension": ".py",
   "mimetype": "text/x-python",
   "name": "python",
   "nbconvert_exporter": "python",
   "pygments_lexer": "ipython3",
   "version": "3.12.7"
  }
 },
 "nbformat": 4,
 "nbformat_minor": 5
}
