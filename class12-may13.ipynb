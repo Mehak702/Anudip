{
 "cells": [
  {
   "cell_type": "markdown",
   "id": "90e7fc37-3107-4251-927e-ba6ec939c315",
   "metadata": {},
   "source": [
    "# Sets in python"
   ]
  },
  {
   "cell_type": "code",
   "execution_count": 2,
   "id": "541bf78c-7fff-46f1-9c74-a09ffa906acf",
   "metadata": {},
   "outputs": [
    {
     "data": {
      "text/plain": [
       "{1, 2, 3, 4, 5, 6, 7, 9, 10}"
      ]
     },
     "execution_count": 2,
     "metadata": {},
     "output_type": "execute_result"
    }
   ],
   "source": [
    "set = {1,2,3,4,5,6,7,4,3,2,9,10} # num are not repeated\n",
    "set"
   ]
  },
  {
   "cell_type": "code",
   "execution_count": 4,
   "id": "1aae1582-2375-42c5-aa5e-fe8a11e7760e",
   "metadata": {},
   "outputs": [
    {
     "data": {
      "text/plain": [
       "{1, 2, 3, 8}"
      ]
     },
     "execution_count": 4,
     "metadata": {},
     "output_type": "execute_result"
    }
   ],
   "source": [
    "#mutable\n",
    "my_set = {1,2,3}\n",
    "my_set.add(8)\n",
    "my_set"
   ]
  },
  {
   "cell_type": "code",
   "execution_count": 6,
   "id": "35f30fd8-f59c-4e9b-ae11-48e903527436",
   "metadata": {},
   "outputs": [
    {
     "name": "stdout",
     "output_type": "stream",
     "text": [
      "1\n",
      "2\n",
      "3\n"
     ]
    }
   ],
   "source": [
    "#no indexing\n",
    "my_set = {1,2,3}\n",
    "for item in my_set:\n",
    "    print(item)\n"
   ]
  },
  {
   "cell_type": "code",
   "execution_count": null,
   "id": "f728498d-5b88-4c0d-b412-137327bc2e4b",
   "metadata": {},
   "outputs": [],
   "source": [
    "# set itself is mutable it cannot hold mutable data types"
   ]
  },
  {
   "cell_type": "markdown",
   "id": "3e83a5e5-f54b-46b6-b1cf-c0a772ae1e91",
   "metadata": {},
   "source": [
    "### Set methods"
   ]
  },
  {
   "cell_type": "code",
   "execution_count": 10,
   "id": "d2debe0c-d5fa-4b2d-b87e-86631d0dba4f",
   "metadata": {},
   "outputs": [
    {
     "data": {
      "text/plain": [
       "{1, 2, 3, 6, 55}"
      ]
     },
     "execution_count": 10,
     "metadata": {},
     "output_type": "execute_result"
    }
   ],
   "source": [
    "# 1.add()\n",
    "my_set = {1,2,3}\n",
    "my_set.add(55) # only 1 value is added at once\n",
    "my_set.add(6)\n",
    "my_set"
   ]
  },
  {
   "cell_type": "code",
   "execution_count": 12,
   "id": "cfb79649-26d2-4217-9ff6-9a937da52fef",
   "metadata": {},
   "outputs": [
    {
     "data": {
      "text/plain": [
       "{1, 2, 3, 4, 5, 6, 7}"
      ]
     },
     "execution_count": 12,
     "metadata": {},
     "output_type": "execute_result"
    }
   ],
   "source": [
    "# 2.update() used to add multiple values\n",
    "my_set = {1,2,3}\n",
    "my_set.update([4,5,6,7]) #here square braket is important or else error is shown\n",
    "my_set"
   ]
  },
  {
   "cell_type": "code",
   "execution_count": 14,
   "id": "92bb87f8-e255-4a5c-8d6a-aecb834eb325",
   "metadata": {},
   "outputs": [
    {
     "data": {
      "text/plain": [
       "{2, 3}"
      ]
     },
     "execution_count": 14,
     "metadata": {},
     "output_type": "execute_result"
    }
   ],
   "source": [
    "# 3.remove()\n",
    "my_set = {1,2,3}\n",
    "my_set.remove(1) #here only on argumet\n",
    "my_set"
   ]
  },
  {
   "cell_type": "code",
   "execution_count": 16,
   "id": "dd06b1d7-d20e-45d9-9ddb-df11f3d25725",
   "metadata": {},
   "outputs": [
    {
     "data": {
      "text/plain": [
       "{1, 2, 3}"
      ]
     },
     "execution_count": 16,
     "metadata": {},
     "output_type": "execute_result"
    }
   ],
   "source": [
    "# 4.discard()\n",
    "my_set = {1,2,3}\n",
    "my_set.discard(20) #it shows no error even if  the ele is not present\n",
    "my_set"
   ]
  },
  {
   "cell_type": "code",
   "execution_count": 18,
   "id": "483b413a-25e7-4331-8e06-9ecda17e37f1",
   "metadata": {},
   "outputs": [
    {
     "data": {
      "text/plain": [
       "{2, 3}"
      ]
     },
     "execution_count": 18,
     "metadata": {},
     "output_type": "execute_result"
    }
   ],
   "source": [
    "#5.pop()\n",
    "my_set = {1,2,3}\n",
    "my_set.pop() #remove the random elment\n",
    "my_set"
   ]
  },
  {
   "cell_type": "code",
   "execution_count": 20,
   "id": "7df3d237-6f16-41a6-96b8-5036f2513845",
   "metadata": {},
   "outputs": [
    {
     "data": {
      "text/plain": [
       "2"
      ]
     },
     "execution_count": 20,
     "metadata": {},
     "output_type": "execute_result"
    }
   ],
   "source": [
    "my_set.pop()\n"
   ]
  },
  {
   "cell_type": "code",
   "execution_count": 22,
   "id": "b22902e9-9fed-4703-bbeb-7d948832667c",
   "metadata": {},
   "outputs": [
    {
     "data": {
      "text/plain": [
       "{3}"
      ]
     },
     "execution_count": 22,
     "metadata": {},
     "output_type": "execute_result"
    }
   ],
   "source": [
    "my_set"
   ]
  },
  {
   "cell_type": "code",
   "execution_count": 24,
   "id": "85d63aa2-c36f-4d6f-8ecd-7c582b2cd89b",
   "metadata": {},
   "outputs": [
    {
     "data": {
      "text/plain": [
       "set()"
      ]
     },
     "execution_count": 24,
     "metadata": {},
     "output_type": "execute_result"
    }
   ],
   "source": [
    "# 6.clear()\n",
    "my_set = {1,2,3}\n",
    "my_set.clear()\n",
    "my_set"
   ]
  },
  {
   "cell_type": "code",
   "execution_count": 26,
   "id": "b3ea5b8a-b855-4cdd-ba42-1b2aa2a2de2d",
   "metadata": {},
   "outputs": [
    {
     "data": {
      "text/plain": [
       "{1, 2, 3, 4, 5, 6, 7, 8}"
      ]
     },
     "execution_count": 26,
     "metadata": {},
     "output_type": "execute_result"
    }
   ],
   "source": [
    "#7.union()\n",
    "set1 = {1,2,3,4}\n",
    "set2 = {5,6,7,8} #it joins to set\n",
    "set1.union(set2)\n"
   ]
  },
  {
   "cell_type": "code",
   "execution_count": 28,
   "id": "af7e16ef-4b65-46f2-ace5-041798cbd16f",
   "metadata": {},
   "outputs": [
    {
     "data": {
      "text/plain": [
       "{1, 2, 4}"
      ]
     },
     "execution_count": 28,
     "metadata": {},
     "output_type": "execute_result"
    }
   ],
   "source": [
    "#8.intersection()\n",
    "set1 = {1,2,3,4}\n",
    "set2 = {1,4,2} \n",
    "set1.intersection(set2) # repeated ele are printed"
   ]
  },
  {
   "cell_type": "code",
   "execution_count": 30,
   "id": "c25b0d60-148c-4f00-b17f-38867122420e",
   "metadata": {},
   "outputs": [
    {
     "data": {
      "text/plain": [
       "{3, 5}"
      ]
     },
     "execution_count": 30,
     "metadata": {},
     "output_type": "execute_result"
    }
   ],
   "source": [
    "#9.difference()\n",
    "set1 = {1,2,3,4,5}\n",
    "set2 = {1,4,2} \n",
    "set1.difference(set2) #here ele which is not present in set 2 that is printed"
   ]
  },
  {
   "cell_type": "code",
   "execution_count": 32,
   "id": "741346d4-b8f3-4cc7-8f88-6e74ea734db6",
   "metadata": {},
   "outputs": [
    {
     "data": {
      "text/plain": [
       "{3, 5, 6}"
      ]
     },
     "execution_count": 32,
     "metadata": {},
     "output_type": "execute_result"
    }
   ],
   "source": [
    "#10.symmetric difference()\n",
    "set1 = {1,2,3,4,5}\n",
    "set2 = {1,4,2,6} \n",
    "set1.symmetric_difference(set2) # here which ele is not common that r printed"
   ]
  },
  {
   "cell_type": "code",
   "execution_count": 34,
   "id": "7a993b50-df53-41a2-9892-389882253925",
   "metadata": {},
   "outputs": [
    {
     "data": {
      "text/plain": [
       "False"
      ]
     },
     "execution_count": 34,
     "metadata": {},
     "output_type": "execute_result"
    }
   ],
   "source": [
    "#11.issubset()\n",
    "set1 = {1,2,3,4,5}\n",
    "set2 = {1,4,2,6} # if in both set ele are not equalit will print false\n",
    "set1.issubset(set2)"
   ]
  },
  {
   "cell_type": "code",
   "execution_count": 36,
   "id": "b128c87f-4eb7-4836-aaca-42bdf3076ff2",
   "metadata": {},
   "outputs": [
    {
     "data": {
      "text/plain": [
       "True"
      ]
     },
     "execution_count": 36,
     "metadata": {},
     "output_type": "execute_result"
    }
   ],
   "source": [
    "set1 = {1,2,3,4,5}\n",
    "set2 = {1,2,3,4,5} # if in both set ele are not equalit will print false\n",
    "set1.issubset(set2) "
   ]
  },
  {
   "cell_type": "code",
   "execution_count": 38,
   "id": "f6cfe2fc-d35b-4ac1-acd9-545aacfc4af0",
   "metadata": {},
   "outputs": [
    {
     "data": {
      "text/plain": [
       "True"
      ]
     },
     "execution_count": 38,
     "metadata": {},
     "output_type": "execute_result"
    }
   ],
   "source": [
    "#12.issuperset()\n",
    "set1 ={1,2,3}\n",
    "set2 ={1,2,3} #here it checks if set1 has all the ele of set2 if not it gives false\n",
    "set1.issuperset(set2)"
   ]
  },
  {
   "cell_type": "code",
   "execution_count": 40,
   "id": "c17e430e-e515-4c4d-878e-85db38f46f25",
   "metadata": {},
   "outputs": [
    {
     "data": {
      "text/plain": [
       "False"
      ]
     },
     "execution_count": 40,
     "metadata": {},
     "output_type": "execute_result"
    }
   ],
   "source": [
    "#13.isdisjoint() returns true if the sets have no ele in common\n",
    "set1 ={1,2,3}\n",
    "set2 ={1,2,3} \n",
    "set1.isdisjoint(set2)"
   ]
  },
  {
   "cell_type": "code",
   "execution_count": 42,
   "id": "3841a817-f635-4fda-ae36-e6ad424f5527",
   "metadata": {},
   "outputs": [
    {
     "data": {
      "text/plain": [
       "True"
      ]
     },
     "execution_count": 42,
     "metadata": {},
     "output_type": "execute_result"
    }
   ],
   "source": [
    "set1 = {1,2,3,4}\n",
    "set2 = {5,6,7,8} #it joins to set\n",
    "set1.isdisjoint(set2)"
   ]
  },
  {
   "cell_type": "code",
   "execution_count": 44,
   "id": "a305fd73-9c3e-4030-b76a-c8d40ae3356c",
   "metadata": {},
   "outputs": [
    {
     "data": {
      "text/plain": [
       "{1, 2, 3, 4}"
      ]
     },
     "execution_count": 44,
     "metadata": {},
     "output_type": "execute_result"
    }
   ],
   "source": [
    "#14.copy() returns the copy of given set\n",
    "set1 = {1,2,3,4}\n",
    "set_copy = set1.copy()\n",
    "set_copy\n"
   ]
  },
  {
   "cell_type": "code",
   "execution_count": 46,
   "id": "78aec5b1-d580-45c1-b754-6f12e3d3b635",
   "metadata": {},
   "outputs": [
    {
     "data": {
      "text/plain": [
       "{1, 2, 3, 8}"
      ]
     },
     "execution_count": 46,
     "metadata": {},
     "output_type": "execute_result"
    }
   ],
   "source": [
    "# >>>frozenset() it converts mutable to immutable\n",
    "my_set = {1,2,3}\n",
    "my_set.add(8)\n",
    "my_set"
   ]
  },
  {
   "cell_type": "code",
   "execution_count": 48,
   "id": "ac0c169b-cd4f-456a-bf74-9a20d296dbd5",
   "metadata": {},
   "outputs": [],
   "source": [
    "a = frozenset(my_set)"
   ]
  },
  {
   "cell_type": "code",
   "execution_count": 50,
   "id": "bb41ea94-5f0f-47c1-bbf8-3146227e6b99",
   "metadata": {},
   "outputs": [
    {
     "data": {
      "text/plain": [
       "frozenset({1, 2, 3, 8})"
      ]
     },
     "execution_count": 50,
     "metadata": {},
     "output_type": "execute_result"
    }
   ],
   "source": [
    "a"
   ]
  },
  {
   "cell_type": "code",
   "execution_count": 52,
   "id": "dd46130c-6b75-4067-a612-d5803ebdf17e",
   "metadata": {},
   "outputs": [
    {
     "ename": "AttributeError",
     "evalue": "'frozenset' object has no attribute 'add'",
     "output_type": "error",
     "traceback": [
      "\u001b[1;31m---------------------------------------------------------------------------\u001b[0m",
      "\u001b[1;31mAttributeError\u001b[0m                            Traceback (most recent call last)",
      "Cell \u001b[1;32mIn[52], line 1\u001b[0m\n\u001b[1;32m----> 1\u001b[0m a\u001b[38;5;241m.\u001b[39madd(\u001b[38;5;241m9\u001b[39m)\n",
      "\u001b[1;31mAttributeError\u001b[0m: 'frozenset' object has no attribute 'add'"
     ]
    }
   ],
   "source": [
    "a.add(9) #once frozen set is created it cannot be changed"
   ]
  },
  {
   "cell_type": "markdown",
   "id": "b25e5f2f-295c-4fd4-b26c-f39e63971e0d",
   "metadata": {},
   "source": [
    "## PYTHON FUNCTION ON SET"
   ]
  },
  {
   "cell_type": "code",
   "execution_count": 55,
   "id": "7f469c67-b2e2-4648-b66e-acba2230803f",
   "metadata": {},
   "outputs": [
    {
     "data": {
      "text/plain": [
       "5"
      ]
     },
     "execution_count": 55,
     "metadata": {},
     "output_type": "execute_result"
    }
   ],
   "source": [
    "#1.len()\n",
    "set1 = {0,2,8,3,6,3}\n",
    "len(set1)"
   ]
  },
  {
   "cell_type": "code",
   "execution_count": 57,
   "id": "5a65b521-e6cb-41aa-9cfa-0c0a67871a55",
   "metadata": {},
   "outputs": [
    {
     "data": {
      "text/plain": [
       "7"
      ]
     },
     "execution_count": 57,
     "metadata": {},
     "output_type": "execute_result"
    }
   ],
   "source": [
    "#2.max()\n",
    "set1 = {1,2,3,7}\n",
    "max(set1)"
   ]
  },
  {
   "cell_type": "code",
   "execution_count": 59,
   "id": "476690d0-c985-43a9-b5ab-8c8eab2a5221",
   "metadata": {},
   "outputs": [
    {
     "data": {
      "text/plain": [
       "1"
      ]
     },
     "execution_count": 59,
     "metadata": {},
     "output_type": "execute_result"
    }
   ],
   "source": [
    "#3.min()\n",
    "set1 = {1,2,3,7}\n",
    "min(set1)"
   ]
  },
  {
   "cell_type": "code",
   "execution_count": 61,
   "id": "0d6c8f71-926f-41be-b202-c780269ca1e4",
   "metadata": {},
   "outputs": [
    {
     "data": {
      "text/plain": [
       "13"
      ]
     },
     "execution_count": 61,
     "metadata": {},
     "output_type": "execute_result"
    }
   ],
   "source": [
    "#4.sum()\n",
    "set1 = {1,2,3,7}\n",
    "sum(set1)"
   ]
  },
  {
   "cell_type": "code",
   "execution_count": 63,
   "id": "6cd11d62-0fc9-4310-b1b8-4d96ddd22e3b",
   "metadata": {},
   "outputs": [
    {
     "data": {
      "text/plain": [
       "[1, 2, 3, 5, 6, 7, 9, 10, 11]"
      ]
     },
     "execution_count": 63,
     "metadata": {},
     "output_type": "execute_result"
    }
   ],
   "source": [
    "#5.sorted()\n",
    "set1 = {1,2,3,3,9,7,5,2,10,11,6}\n",
    "sorted(set1)"
   ]
  },
  {
   "cell_type": "code",
   "execution_count": 65,
   "id": "295b4a23-29d6-409f-9bf5-c07cb84783c8",
   "metadata": {},
   "outputs": [
    {
     "data": {
      "text/plain": [
       "True"
      ]
     },
     "execution_count": 65,
     "metadata": {},
     "output_type": "execute_result"
    }
   ],
   "source": [
    "#6.any() returns true if any value in set i s true \n",
    "set1 = {1,2,3,3,9,7,5,2,10,11,6}\n",
    "any(set1)"
   ]
  },
  {
   "cell_type": "code",
   "execution_count": 67,
   "id": "fc0d2ae8-46b3-40cc-8c15-59311d313f72",
   "metadata": {},
   "outputs": [
    {
     "data": {
      "text/plain": [
       "False"
      ]
     },
     "execution_count": 67,
     "metadata": {},
     "output_type": "execute_result"
    }
   ],
   "source": [
    "#7.all() returns true if all the value in the set is true\n",
    "set1 = {1,2,3,3,9,7,5,2,10,-1,False}\n",
    "all(set1)"
   ]
  },
  {
   "cell_type": "code",
   "execution_count": 77,
   "id": "126e8986-06b3-4f82-8c03-9e19435b0a4a",
   "metadata": {},
   "outputs": [],
   "source": [
    "del set\n"
   ]
  },
  {
   "cell_type": "code",
   "execution_count": 81,
   "id": "0de94293-c90a-4570-9f2a-1787ec4c20d4",
   "metadata": {},
   "outputs": [
    {
     "name": "stdout",
     "output_type": "stream",
     "text": [
      "{1, 2, 3, 4, 5, 6, 7, 8, 9}\n"
     ]
    }
   ],
   "source": [
    "#8.set converts an iterable to a set removing duplicate\n",
    "my_list = [1, 2, 1, 2, 3, 4, 3, 5, 6, 5, 7, 9, 7, 8, 9]\n",
    "my_set = set(my_list)\n",
    "print(my_set) \n"
   ]
  },
  {
   "cell_type": "markdown",
   "id": "3a49903d-4b1e-4ef3-836c-cb11311cbf34",
   "metadata": {},
   "source": [
    "## basic set comprehension"
   ]
  },
  {
   "cell_type": "code",
   "execution_count": 84,
   "id": "1a0c598d-c1f3-4d66-be5a-3d60eb6cf8bf",
   "metadata": {},
   "outputs": [
    {
     "name": "stdout",
     "output_type": "stream",
     "text": [
      "{1, 4, 9, 16, 25}\n"
     ]
    }
   ],
   "source": [
    "num = [1,2,3,4,5]\n",
    "squares_set = {x**2 for x in num}\n",
    "print(squares_set)"
   ]
  },
  {
   "cell_type": "code",
   "execution_count": 86,
   "id": "dd4a27c0-58d7-4117-974b-b1a160941a11",
   "metadata": {},
   "outputs": [
    {
     "data": {
      "text/plain": [
       "{4, 16}"
      ]
     },
     "execution_count": 86,
     "metadata": {},
     "output_type": "execute_result"
    }
   ],
   "source": [
    "num = [1,2,3,4,5]\n",
    "even_squares_set = {x**2 for x in num if x%2 ==0}\n",
    "even_squares_set\n"
   ]
  },
  {
   "cell_type": "code",
   "execution_count": null,
   "id": "5e1aba24-79d3-472d-a8b4-37fe828c0c85",
   "metadata": {},
   "outputs": [],
   "source": []
  }
 ],
 "metadata": {
  "kernelspec": {
   "display_name": "Python [conda env:base] *",
   "language": "python",
   "name": "conda-base-py"
  },
  "language_info": {
   "codemirror_mode": {
    "name": "ipython",
    "version": 3
   },
   "file_extension": ".py",
   "mimetype": "text/x-python",
   "name": "python",
   "nbconvert_exporter": "python",
   "pygments_lexer": "ipython3",
   "version": "3.12.7"
  }
 },
 "nbformat": 4,
 "nbformat_minor": 5
}
