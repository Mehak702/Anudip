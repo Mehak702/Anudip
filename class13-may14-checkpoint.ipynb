{
 "cells": [
  {
   "cell_type": "markdown",
   "id": "4a34b6ec-c5fc-42e4-a7fd-12c6fab1ba14",
   "metadata": {},
   "source": [
    "# Dictionary"
   ]
  },
  {
   "cell_type": "code",
   "execution_count": 7,
   "id": "5246520f-2899-4c04-8f27-1c2b89ee3570",
   "metadata": {},
   "outputs": [],
   "source": [
    "dict = {\"row_id\":1,\"order_id\":2}"
   ]
  },
  {
   "cell_type": "code",
   "execution_count": 9,
   "id": "a13c8b15-ea82-436b-95ea-69c3aa438925",
   "metadata": {},
   "outputs": [
    {
     "data": {
      "text/plain": [
       "{'row_id': 1, 'order_id': 2}"
      ]
     },
     "execution_count": 9,
     "metadata": {},
     "output_type": "execute_result"
    }
   ],
   "source": [
    "dict"
   ]
  },
  {
   "cell_type": "code",
   "execution_count": 23,
   "id": "056667b5-c314-4b97-8825-371f8d846fc6",
   "metadata": {},
   "outputs": [
    {
     "data": {
      "text/plain": [
       "dict"
      ]
     },
     "execution_count": 23,
     "metadata": {},
     "output_type": "execute_result"
    }
   ],
   "source": [
    "data_set = {\"name\":\"mehak\",\"age\":21,\"sex\":\"f\",\"course\":\"BCA\"}\n",
    "type(data_set)"
   ]
  },
  {
   "cell_type": "code",
   "execution_count": 25,
   "id": "9b405330-7c21-4e39-a6ae-5426f88c37d9",
   "metadata": {},
   "outputs": [
    {
     "data": {
      "text/plain": [
       "{'name': 'mehak', 'age': 21, 'sex': 'f', 'course': 'BCA'}"
      ]
     },
     "execution_count": 25,
     "metadata": {},
     "output_type": "execute_result"
    }
   ],
   "source": [
    "data_set"
   ]
  },
  {
   "cell_type": "markdown",
   "id": "5898dc1c-fe78-4723-9854-80f83a3a6d89",
   "metadata": {},
   "source": [
    "# key character of dic"
   ]
  },
  {
   "cell_type": "code",
   "execution_count": null,
   "id": "b6e25009-37dd-40b1-bd55-00a361ddad25",
   "metadata": {},
   "outputs": [],
   "source": [
    "#  unordered do not maintain any order for their elements\n"
   ]
  },
  {
   "cell_type": "code",
   "execution_count": 27,
   "id": "2eb048d4-6f2c-4dc7-b33b-887fe7922ed9",
   "metadata": {},
   "outputs": [
    {
     "data": {
      "text/plain": [
       "{'name': 'mehak', 'age': 21, 'sex': 'f', 'course': 'BCA'}"
      ]
     },
     "execution_count": 27,
     "metadata": {},
     "output_type": "execute_result"
    }
   ],
   "source": [
    "data_set = {\"name\":\"mehak\",\"age\":21,\"sex\":\"f\",\"course\":\"BCA\"}\n",
    "data_set"
   ]
  },
  {
   "cell_type": "code",
   "execution_count": null,
   "id": "23a174bf-d7ec-41c9-b007-007f7c294f7d",
   "metadata": {},
   "outputs": [],
   "source": [
    "# mutable it can can be modified once creadted"
   ]
  },
  {
   "cell_type": "code",
   "execution_count": 29,
   "id": "5833214d-7357-418c-af86-522c78382859",
   "metadata": {},
   "outputs": [
    {
     "data": {
      "text/plain": [
       "{'name': 'mehak', 'age': 21, 'sex': 'f', 'course': 'BCA'}"
      ]
     },
     "execution_count": 29,
     "metadata": {},
     "output_type": "execute_result"
    }
   ],
   "source": [
    "data_set"
   ]
  },
  {
   "cell_type": "code",
   "execution_count": 21,
   "id": "5d86bd8a-6aa5-4f47-8753-3b2a2e99d2bb",
   "metadata": {},
   "outputs": [],
   "source": [
    "data_set[\"city\"] = \"bangalore\""
   ]
  },
  {
   "cell_type": "code",
   "execution_count": 31,
   "id": "6af928ec-6cdc-4b0a-83cf-7f6e67a74a04",
   "metadata": {},
   "outputs": [
    {
     "data": {
      "text/plain": [
       "{'name': 'mehak', 'age': 21, 'sex': 'f', 'course': 'BCA'}"
      ]
     },
     "execution_count": 31,
     "metadata": {},
     "output_type": "execute_result"
    }
   ],
   "source": [
    "data_set"
   ]
  },
  {
   "cell_type": "code",
   "execution_count": 33,
   "id": "7efdb55f-3a21-4907-b987-81fc35d4b853",
   "metadata": {},
   "outputs": [
    {
     "data": {
      "text/plain": [
       "{'name': 'mehak', 'age': 31}"
      ]
     },
     "execution_count": 33,
     "metadata": {},
     "output_type": "execute_result"
    }
   ],
   "source": [
    "# unique key if u use the same key again the previous value will be over written\n",
    "data_set = {\"name\":\"mehak\",\"age\":21,\"age\":25,\"age\":24,\"age\":31,}\n",
    "data_set #last added value is printed\n"
   ]
  },
  {
   "cell_type": "code",
   "execution_count": null,
   "id": "30a84ca5-dc09-4a3f-a28e-a8ae26aabec7",
   "metadata": {},
   "outputs": [],
   "source": [
    "# it is immutable\n",
    "# dynamic\n",
    ">>>values in dic\n",
    "*mutable and unmutable\n",
    "*key\n",
    "*values"
   ]
  },
  {
   "cell_type": "markdown",
   "id": "534098ef-9c10-4752-9d95-1b440466a936",
   "metadata": {},
   "source": [
    "## accessing values in dictionary"
   ]
  },
  {
   "cell_type": "code",
   "execution_count": 36,
   "id": "82553de8-c4f4-4f07-96e9-440ab8a71e4f",
   "metadata": {},
   "outputs": [
    {
     "data": {
      "text/plain": [
       "20"
      ]
     },
     "execution_count": 36,
     "metadata": {},
     "output_type": "execute_result"
    }
   ],
   "source": [
    "my_dict ={\n",
    "    \"name\":\"mehak\",\n",
    "    \"age\":20,\n",
    "    \"hobbies\":[\"drawing\",\"reading novels\",\"dancing\"],\n",
    "    \"education\":\"bca\"\n",
    "}\n",
    "my_dict[\"age\"]"
   ]
  },
  {
   "cell_type": "markdown",
   "id": "1be95c55-1019-421c-9412-331d314e2105",
   "metadata": {},
   "source": [
    "## using get () method"
   ]
  },
  {
   "cell_type": "code",
   "execution_count": 39,
   "id": "b1272501-0682-4dd7-9d2c-7099768d0f5d",
   "metadata": {},
   "outputs": [],
   "source": [
    "my_dict ={\n",
    "    \"name\":\"mehak\",\n",
    "    \"age\":20,\n",
    "    \"hobbies\":[\"drawing\",\"reading novels\",\"dancing\"],\n",
    "    \"education\":\"bca\"\n",
    "}"
   ]
  },
  {
   "cell_type": "code",
   "execution_count": 41,
   "id": "43d9403b-aaf5-4549-8035-86293ba1c4e3",
   "metadata": {},
   "outputs": [
    {
     "data": {
      "text/plain": [
       "['drawing', 'reading novels', 'dancing']"
      ]
     },
     "execution_count": 41,
     "metadata": {},
     "output_type": "execute_result"
    }
   ],
   "source": [
    "my_dict.get(\"hobbies\")"
   ]
  },
  {
   "cell_type": "markdown",
   "id": "5d91e39d-f2d6-4772-8f95-b12bae4ad044",
   "metadata": {},
   "source": [
    "## Accessing all keys"
   ]
  },
  {
   "cell_type": "code",
   "execution_count": 44,
   "id": "af4d04b0-3f0e-4494-8c26-10e7c6281898",
   "metadata": {},
   "outputs": [],
   "source": [
    "my_dict ={\n",
    "    \"name\":\"mehak\",\n",
    "    \"age\":20,\n",
    "    \"hobbies\":[\"drawing\",\"reading novels\",\"dancing\"],\n",
    "    \"education\":\"bca\"\n",
    "}"
   ]
  },
  {
   "cell_type": "code",
   "execution_count": 46,
   "id": "79de7164-5af6-43b7-95d7-2d575293bb20",
   "metadata": {},
   "outputs": [
    {
     "data": {
      "text/plain": [
       "dict_keys(['name', 'age', 'hobbies', 'education'])"
      ]
     },
     "execution_count": 46,
     "metadata": {},
     "output_type": "execute_result"
    }
   ],
   "source": [
    "my_dict.keys()"
   ]
  },
  {
   "cell_type": "markdown",
   "id": "dac04baa-23f9-424f-876a-9803b05be55d",
   "metadata": {},
   "source": [
    "## Accessing all values"
   ]
  },
  {
   "cell_type": "code",
   "execution_count": 50,
   "id": "4f818f56-36b3-4752-9181-4f8613d6a271",
   "metadata": {},
   "outputs": [
    {
     "data": {
      "text/plain": [
       "dict_values(['mehak', 20, ['drawing', 'reading novels', 'dancing'], 'bca'])"
      ]
     },
     "execution_count": 50,
     "metadata": {},
     "output_type": "execute_result"
    }
   ],
   "source": [
    "my_dict ={\n",
    "    \"name\":\"mehak\",\n",
    "    \"age\":20,\n",
    "    \"hobbies\":[\"drawing\",\"reading novels\",\"dancing\"],\n",
    "    \"education\":\"bca\"\n",
    "}\n",
    "my_dict.values()\n"
   ]
  },
  {
   "cell_type": "markdown",
   "id": "af6ae2bb-1af5-4bcc-b409-ddc5f5286458",
   "metadata": {},
   "source": [
    "## Accessing all key-value pairs:"
   ]
  },
  {
   "cell_type": "code",
   "execution_count": 53,
   "id": "18173aed-e952-44bd-a169-a0a2d890ca8b",
   "metadata": {},
   "outputs": [
    {
     "data": {
      "text/plain": [
       "dict_items([('name', 'mehak'), ('age', 20), ('hobbies', ['drawing', 'reading novels', 'dancing']), ('education', 'bca')])"
      ]
     },
     "execution_count": 53,
     "metadata": {},
     "output_type": "execute_result"
    }
   ],
   "source": [
    "my_dict ={\n",
    "    \"name\":\"mehak\",\n",
    "    \"age\":20,\n",
    "    \"hobbies\":[\"drawing\",\"reading novels\",\"dancing\"],\n",
    "    \"education\":\"bca\"\n",
    "}\n",
    "my_dict.items()"
   ]
  },
  {
   "cell_type": "markdown",
   "id": "5ef375ce-a083-4128-8801-d959aa246a9c",
   "metadata": {},
   "source": [
    "## Iterating over keys and values"
   ]
  },
  {
   "cell_type": "code",
   "execution_count": 56,
   "id": "573ae140-6cad-4706-81e2-b0b66d103052",
   "metadata": {},
   "outputs": [
    {
     "name": "stdout",
     "output_type": "stream",
     "text": [
      "name\n",
      "age\n",
      "hobbies\n",
      "education\n"
     ]
    }
   ],
   "source": [
    "my_dict ={\n",
    "    \"name\":\"mehak\",\n",
    "    \"age\":20,\n",
    "    \"hobbies\":[\"drawing\",\"reading novels\",\"dancing\"],\n",
    "    \"education\":\"bca\"\n",
    "}\n",
    "for i in my_dict:\n",
    "    print(i)"
   ]
  },
  {
   "cell_type": "markdown",
   "id": "dea23f07-08d0-4e38-8fc4-b6f99f2daaa3",
   "metadata": {},
   "source": [
    "##  iterating over value"
   ]
  },
  {
   "cell_type": "code",
   "execution_count": 59,
   "id": "18bd5b28-eace-46b1-824e-0a3829b6d899",
   "metadata": {},
   "outputs": [
    {
     "name": "stdout",
     "output_type": "stream",
     "text": [
      "mehak\n",
      "20\n",
      "['drawing', 'reading novels', 'dancing']\n",
      "bca\n"
     ]
    }
   ],
   "source": [
    "my_dict ={\n",
    "    \"name\":\"mehak\",\n",
    "    \"age\":20,\n",
    "    \"hobbies\":[\"drawing\",\"reading novels\",\"dancing\"],\n",
    "    \"education\":\"bca\"\n",
    "}\n",
    "for j in my_dict.values():\n",
    "    print(j)"
   ]
  },
  {
   "cell_type": "markdown",
   "id": "a5a100cf-d06a-48a5-baf4-b1f22ff430b1",
   "metadata": {},
   "source": [
    "## Iterating over key-vle pairs"
   ]
  },
  {
   "cell_type": "code",
   "execution_count": 62,
   "id": "52ccab12-e2f2-4a9b-bab0-c592c10040c1",
   "metadata": {},
   "outputs": [
    {
     "name": "stdout",
     "output_type": "stream",
     "text": [
      "name: mehak\n",
      "age: 20\n",
      "hobbies: ['drawing', 'reading novels', 'dancing']\n",
      "education: bca\n"
     ]
    }
   ],
   "source": [
    "my_dict ={\n",
    "    \"name\":\"mehak\",\n",
    "    \"age\":20,\n",
    "    \"hobbies\":[\"drawing\",\"reading novels\",\"dancing\"],\n",
    "    \"education\":\"bca\"\n",
    "}\n",
    "for i,j in my_dict.items():\n",
    "    print(f\"{i}: {j}\")\n"
   ]
  },
  {
   "cell_type": "markdown",
   "id": "507e2a95-84f8-41de-9bb9-e06210f10ab9",
   "metadata": {},
   "source": [
    "## Nested dic in python"
   ]
  },
  {
   "cell_type": "code",
   "execution_count": 65,
   "id": "68b3d73f-945c-4640-ba2a-5f8452457585",
   "metadata": {},
   "outputs": [
    {
     "data": {
      "text/plain": [
       "{'person1': {'name': 'mehak', 'age': 20, 'city': 'bangalore'},\n",
       " 'person2': {'name': 'sania', 'age': 20, 'city': 'bangalore'}}"
      ]
     },
     "execution_count": 65,
     "metadata": {},
     "output_type": "execute_result"
    }
   ],
   "source": [
    "dict_new = {\"person1\":{\n",
    "    \"name\":\"mehak\",\n",
    "    \"age\":20,\n",
    "    \"city\":\"bangalore\"\n",
    "},\n",
    "            \"person2\":{\n",
    "    \"name\":\"sania\",\n",
    "    \"age\":20,\n",
    "    \"city\":\"bangalore\"\n",
    "            }\n",
    "           }\n",
    "dict_new"
   ]
  },
  {
   "cell_type": "markdown",
   "id": "ba098dd4-1bc2-45fd-a2c2-fe9ebb786283",
   "metadata": {},
   "source": [
    "## Accessing elements in dictionary"
   ]
  },
  {
   "cell_type": "code",
   "execution_count": 68,
   "id": "5fb88a44-ef58-4788-9601-10632a416530",
   "metadata": {},
   "outputs": [
    {
     "data": {
      "text/plain": [
       "20"
      ]
     },
     "execution_count": 68,
     "metadata": {},
     "output_type": "execute_result"
    }
   ],
   "source": [
    "dict_new[\"person1\"][\"age\"]"
   ]
  },
  {
   "cell_type": "code",
   "execution_count": 72,
   "id": "7e96afca-7fcb-4e82-b5df-5c19142f0cca",
   "metadata": {},
   "outputs": [
    {
     "data": {
      "text/plain": [
       "'sania'"
      ]
     },
     "execution_count": 72,
     "metadata": {},
     "output_type": "execute_result"
    }
   ],
   "source": [
    "dict_new[\"person2\"][\"name\"]"
   ]
  },
  {
   "cell_type": "markdown",
   "id": "54fe90ef-43e2-43f6-af6c-a57c4d55700e",
   "metadata": {},
   "source": [
    "## modifying elements in dict"
   ]
  },
  {
   "cell_type": "code",
   "execution_count": 75,
   "id": "a6c085ac-b8da-4dd7-a9b3-5b997159b6b0",
   "metadata": {},
   "outputs": [],
   "source": [
    "dict_new[\"person2\"][\"name\"] = \"muskan\""
   ]
  },
  {
   "cell_type": "code",
   "execution_count": 77,
   "id": "7b8de740-6d91-4333-9395-d0e146396486",
   "metadata": {},
   "outputs": [
    {
     "data": {
      "text/plain": [
       "'muskan'"
      ]
     },
     "execution_count": 77,
     "metadata": {},
     "output_type": "execute_result"
    }
   ],
   "source": [
    "dict_new[\"person2\"][\"name\"]"
   ]
  },
  {
   "cell_type": "markdown",
   "id": "9ecf4471-0c3f-44bf-9cad-7fe164221f49",
   "metadata": {},
   "source": [
    "## Adding a new dic to nested dictionary"
   ]
  },
  {
   "cell_type": "code",
   "execution_count": 80,
   "id": "105f3ce2-6241-4fdf-b89d-71cf56b831cc",
   "metadata": {},
   "outputs": [
    {
     "data": {
      "text/plain": [
       "{'person1': {'name': 'mehak', 'age': 20, 'city': 'bangalore'},\n",
       " 'person2': {'name': 'muskan', 'age': 20, 'city': 'bangalore'},\n",
       " 'person3': {'name': 'sanam', 'age': 20, 'city': 'mumbai'}}"
      ]
     },
     "execution_count": 80,
     "metadata": {},
     "output_type": "execute_result"
    }
   ],
   "source": [
    "dict_new[\"person3\"] = {\n",
    "    \"name\":\"sanam\",\n",
    "    \"age\":20,\n",
    "    \"city\":\"mumbai\"\n",
    "            }\n",
    "dict_new"
   ]
  },
  {
   "cell_type": "markdown",
   "id": "7c01fde6-8187-4ef1-b3b7-a023ec80469b",
   "metadata": {},
   "source": [
    "## Usind del statement"
   ]
  },
  {
   "cell_type": "code",
   "execution_count": 83,
   "id": "99d249f7-5707-4b93-8831-46e640a0285f",
   "metadata": {},
   "outputs": [
    {
     "data": {
      "text/plain": [
       "{'name': 'mehak',\n",
       " 'hobbies': ['drawing', 'reading novels', 'dancing'],\n",
       " 'education': 'bca'}"
      ]
     },
     "execution_count": 83,
     "metadata": {},
     "output_type": "execute_result"
    }
   ],
   "source": [
    "my_dict ={\n",
    "    \"name\":\"mehak\",\n",
    "    \"age\":20,\n",
    "    \"hobbies\":[\"drawing\",\"reading novels\",\"dancing\"],\n",
    "    \"education\":\"bca\"\n",
    "}\n",
    "del my_dict[\"age\"]\n",
    "my_dict\n"
   ]
  },
  {
   "cell_type": "markdown",
   "id": "ff4597f1-dd65-4a95-8ed0-5fc86e507af9",
   "metadata": {},
   "source": [
    "## Membership operator on dictionary"
   ]
  },
  {
   "cell_type": "code",
   "execution_count": 88,
   "id": "871e29be-b065-4be6-841b-ee6a263c9b58",
   "metadata": {},
   "outputs": [
    {
     "data": {
      "text/plain": [
       "True"
      ]
     },
     "execution_count": 88,
     "metadata": {},
     "output_type": "execute_result"
    }
   ],
   "source": [
    "# *in operator\n",
    "# *not in oprator\n",
    "\n",
    "my_dict ={\n",
    "    \"name\":\"mehak\",\n",
    "    \"age\":20,\n",
    "    \"hobbies\":[\"drawing\",\"reading novels\",\"dancing\"],\n",
    "    \"education\":\"bca\"\n",
    "}\n",
    "\n",
    "\"age\" in my_dict"
   ]
  },
  {
   "cell_type": "code",
   "execution_count": 90,
   "id": "945550af-f366-4b98-be46-89cbcdfdc6a8",
   "metadata": {},
   "outputs": [
    {
     "data": {
      "text/plain": [
       "False"
      ]
     },
     "execution_count": 90,
     "metadata": {},
     "output_type": "execute_result"
    }
   ],
   "source": [
    "my_dict ={\n",
    "    \"name\":\"mehak\",\n",
    "    \"age\":20,\n",
    "    \"hobbies\":[\"drawing\",\"reading novels\",\"dancing\"],\n",
    "    \"education\":\"bca\"\n",
    "}\n",
    "\"age\" not in my_dict"
   ]
  },
  {
   "cell_type": "markdown",
   "id": "20498a1d-fc66-4dec-a838-b0b3c37bd892",
   "metadata": {},
   "source": [
    "## Dictionary comprehension"
   ]
  },
  {
   "cell_type": "code",
   "execution_count": 93,
   "id": "9f846b72-fe4f-4380-8b4c-d4d886b8722f",
   "metadata": {},
   "outputs": [
    {
     "data": {
      "text/plain": [
       "{1: 1, 2: 4, 3: 9, 4: 16, 5: 25}"
      ]
     },
     "execution_count": 93,
     "metadata": {},
     "output_type": "execute_result"
    }
   ],
   "source": [
    "#basic dictionary comprehension\n",
    "{i: i**2 for i in range(1,6)}"
   ]
  },
  {
   "cell_type": "code",
   "execution_count": 95,
   "id": "89d5f888-d432-40d1-8c74-8809f0434761",
   "metadata": {},
   "outputs": [
    {
     "name": "stdout",
     "output_type": "stream",
     "text": [
      "{1: 1, 2: 4, 3: 9, 4: 16, 5: 25}\n"
     ]
    }
   ],
   "source": [
    "squares = {i:i**2 for i in range(1,6)}\n",
    "print(squares)"
   ]
  },
  {
   "cell_type": "markdown",
   "id": "0d0985e1-023e-422d-8b57-cf0a11aee6a8",
   "metadata": {},
   "source": [
    "### Dictionary comprehension with codition"
   ]
  },
  {
   "cell_type": "code",
   "execution_count": 98,
   "id": "e94a05d9-20fa-460a-abfa-c2415b8f2405",
   "metadata": {},
   "outputs": [
    {
     "name": "stdout",
     "output_type": "stream",
     "text": [
      "{2: 8, 4: 64, 6: 216, 8: 512, 10: 1000}\n"
     ]
    }
   ],
   "source": [
    "cubes = {x: x**3 for x in range (1,11) if x%2 ==0}\n",
    "print(cubes)"
   ]
  },
  {
   "cell_type": "markdown",
   "id": "9382f360-eef6-4e19-a4a2-ed8876edf840",
   "metadata": {},
   "source": [
    "### Advantages of Dictionary"
   ]
  },
  {
   "cell_type": "code",
   "execution_count": null,
   "id": "aadfdf90-9347-447f-a1a1-10b28e5c2532",
   "metadata": {},
   "outputs": [],
   "source": [
    "*conciseness\n",
    "*readability\n",
    "*fficiency"
   ]
  }
 ],
 "metadata": {
  "kernelspec": {
   "display_name": "Python [conda env:base] *",
   "language": "python",
   "name": "conda-base-py"
  },
  "language_info": {
   "codemirror_mode": {
    "name": "ipython",
    "version": 3
   },
   "file_extension": ".py",
   "mimetype": "text/x-python",
   "name": "python",
   "nbconvert_exporter": "python",
   "pygments_lexer": "ipython3",
   "version": "3.12.7"
  }
 },
 "nbformat": 4,
 "nbformat_minor": 5
}
