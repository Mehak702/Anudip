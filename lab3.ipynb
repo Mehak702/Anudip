{
 "cells": [
  {
   "cell_type": "code",
   "execution_count": 1,
   "id": "cd690ad9-68ea-4dc8-8aa9-021b2ed18798",
   "metadata": {},
   "outputs": [
    {
     "name": "stdin",
     "output_type": "stream",
     "text": [
      "Enter a year:  2025\n"
     ]
    },
    {
     "name": "stdout",
     "output_type": "stream",
     "text": [
      "2025 is not a Leap Year\n"
     ]
    }
   ],
   "source": [
    "#  Python program to check leap year\n",
    "year = int(input(\"Enter a year: \"))\n",
    "if (year % 4 == 0 and year % 100 != 0) or (year % 400 == 0):\n",
    "    print(f\"{year} is a Leap Year\")\n",
    "else:\n",
    "    print(f\"{year} is not a Leap Year\")\n"
   ]
  },
  {
   "cell_type": "code",
   "execution_count": 3,
   "id": "ee2cae28-0235-44b6-a202-e6de5ec3e10e",
   "metadata": {},
   "outputs": [
    {
     "name": "stdin",
     "output_type": "stream",
     "text": [
      "E nter first number:  23\n",
      "Enter second number:  4\n",
      "Enter third number:  5\n"
     ]
    },
    {
     "name": "stdout",
     "output_type": "stream",
     "text": [
      "The largest number is: 23\n"
     ]
    }
   ],
   "source": [
    "#Python Program to Find the Largest Among Three Numbers\n",
    "a = int(input(\"Enter first number: \"))\n",
    "b = int(input(\"Enter second number: \"))\n",
    "c = int(input(\"Enter third number: \"))\n",
    "largest = a if a > b and a > c else b if b > c else c\n",
    "print(f\"The largest number is: {largest}\")\n"
   ]
  },
  {
   "cell_type": "code",
   "execution_count": 5,
   "id": "7711a071-f99f-4b7f-9bf7-166480451ba1",
   "metadata": {},
   "outputs": [
    {
     "name": "stdin",
     "output_type": "stream",
     "text": [
      "Enter a number:  2\n"
     ]
    },
    {
     "name": "stdout",
     "output_type": "stream",
     "text": [
      "Positive Number\n"
     ]
    }
   ],
   "source": [
    "#Python Program to Check if a Number is Positive, Negative or 0\n",
    "num = float(input(\"Enter a number: \"))\n",
    "if num > 0:\n",
    "    print(\"Positive Number\")\n",
    "elif num < 0:\n",
    "    print(\"Negative Number\")\n",
    "else:\n",
    "    print(\"Zero\")\n"
   ]
  },
  {
   "cell_type": "code",
   "execution_count": 7,
   "id": "b8d51d83-b7b7-491e-ac8e-0af1160e80a0",
   "metadata": {},
   "outputs": [
    {
     "name": "stdout",
     "output_type": "stream",
     "text": [
      "Toy Codes:\n",
      "1 - Battery Based\n",
      "2 - Key Based\n",
      "3 - Electrical Charging Based\n"
     ]
    },
    {
     "name": "stdin",
     "output_type": "stream",
     "text": [
      "Enter the toy product code (1, 2, or 3):  1\n",
      "Enter order value in Rs:  6\n"
     ]
    },
    {
     "name": "stdout",
     "output_type": "stream",
     "text": [
      "Discount given: Rs. 0\n",
      "Net amount to be paid: Rs. 6.0\n"
     ]
    }
   ],
   "source": [
    "# program\n",
    "print(\"Toy Codes:\\n1 - Battery Based\\n2 - Key Based\\n3 - Electrical Charging Based\")\n",
    "product_code = int(input(\"Enter the toy product code (1, 2, or 3): \"))\n",
    "order_value = float(input(\"Enter order value in Rs: \"))\n",
    "discount = 0\n",
    "if product_code == 1 and order_value > 1000:\n",
    "    discount = 0.05 * order_value\n",
    "elif product_code == 2 and order_value > 500:\n",
    "    discount = 0.10 * order_value\n",
    "elif product_code == 3 and order_value > 1500:\n",
    "    discount = 0.15 * order_value\n",
    "net_amount = order_value - discount\n",
    "print(f\"Discount given: Rs. {discount}\")\n",
    "print(f\"Net amount to be paid: Rs. {net_amount}\")\n"
   ]
  },
  {
   "cell_type": "code",
   "execution_count": null,
   "id": "4d9b6f53-592e-480a-93a9-aacb7912a8ea",
   "metadata": {},
   "outputs": [],
   "source": []
  }
 ],
 "metadata": {
  "kernelspec": {
   "display_name": "Python [conda env:base] *",
   "language": "python",
   "name": "conda-base-py"
  },
  "language_info": {
   "codemirror_mode": {
    "name": "ipython",
    "version": 3
   },
   "file_extension": ".py",
   "mimetype": "text/x-python",
   "name": "python",
   "nbconvert_exporter": "python",
   "pygments_lexer": "ipython3",
   "version": "3.12.7"
  }
 },
 "nbformat": 4,
 "nbformat_minor": 5
}
