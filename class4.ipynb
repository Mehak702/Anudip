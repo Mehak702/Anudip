{
 "cells": [
  {
   "cell_type": "code",
   "execution_count": 1,
   "id": "c293fa63-25e6-4250-b1fa-4e7c14607133",
   "metadata": {},
   "outputs": [
    {
     "name": "stdout",
     "output_type": "stream",
     "text": [
      "has the student passed? True\n"
     ]
    }
   ],
   "source": [
    "score = 75\n",
    "has_passed = (score>=60)\n",
    "print(\"has the student passed?\",has_passed)"
   ]
  },
  {
   "cell_type": "code",
   "execution_count": 2,
   "id": "c228ef12-f4e9-46bc-9e47-991e31543997",
   "metadata": {},
   "outputs": [
    {
     "data": {
      "text/plain": [
       "True"
      ]
     },
     "execution_count": 2,
     "metadata": {},
     "output_type": "execute_result"
    }
   ],
   "source": [
    "(score>=60)"
   ]
  },
  {
   "cell_type": "code",
   "execution_count": 3,
   "id": "bd69b1cf-9930-4202-810f-6aaad690fc31",
   "metadata": {},
   "outputs": [
    {
     "name": "stdout",
     "output_type": "stream",
     "text": [
      "True\n"
     ]
    }
   ],
   "source": [
    "#senario2 u have to item priced $40,$50 check if item 1 is less than item2\n",
    "first_item = 40\n",
    "second_item = 50\n",
    "check = (first_item<= second_item)\n",
    "print(check)"
   ]
  },
  {
   "cell_type": "markdown",
   "id": "c1ec2e6e-c6fe-418b-9bc8-5136440102a7",
   "metadata": {},
   "source": [
    "### logical operators"
   ]
  },
  {
   "cell_type": "code",
   "execution_count": 5,
   "id": "2ce3f873-cc8d-4deb-afbe-0c7913ff5efb",
   "metadata": {},
   "outputs": [
    {
     "data": {
      "text/plain": [
       "False"
      ]
     },
     "execution_count": 5,
     "metadata": {},
     "output_type": "execute_result"
    }
   ],
   "source": [
    "#* And operator\n",
    "#* or operatpor\n",
    "#* not operator\n",
    "\n",
    "#example\n",
    "3>2 and 3<2"
   ]
  },
  {
   "cell_type": "code",
   "execution_count": 6,
   "id": "d0110839-92fc-489d-82c2-8720534f8288",
   "metadata": {},
   "outputs": [
    {
     "data": {
      "text/plain": [
       "False"
      ]
     },
     "execution_count": 6,
     "metadata": {},
     "output_type": "execute_result"
    }
   ],
   "source": [
    "#ex\n",
    "3>2 and 4>5\n"
   ]
  },
  {
   "cell_type": "code",
   "execution_count": 7,
   "id": "784530e7-6882-46b9-bd7f-5ec109b40e28",
   "metadata": {},
   "outputs": [
    {
     "data": {
      "text/plain": [
       "False"
      ]
     },
     "execution_count": 7,
     "metadata": {},
     "output_type": "execute_result"
    }
   ],
   "source": [
    "2<2 and 3<3"
   ]
  },
  {
   "cell_type": "code",
   "execution_count": 8,
   "id": "2c10b4e1-bbfe-46e7-89fe-76bc1989b075",
   "metadata": {},
   "outputs": [
    {
     "data": {
      "text/plain": [
       "False"
      ]
     },
     "execution_count": 8,
     "metadata": {},
     "output_type": "execute_result"
    }
   ],
   "source": [
    "5>10 and 11<10\n",
    "True and False #it should be in cap"
   ]
  },
  {
   "cell_type": "markdown",
   "id": "bdeaf7dd-c9ec-4f38-a4e7-630439fdcf8f",
   "metadata": {},
   "source": [
    "### bitwise operator"
   ]
  },
  {
   "cell_type": "code",
   "execution_count": null,
   "id": "bc8a9395-2d9a-40df-a964-2e6c776095a0",
   "metadata": {},
   "outputs": [],
   "source": [
    "a computer converts into bits using binary encoding where each piece of data is represented as a combination of these two binary digits"
   ]
  },
  {
   "cell_type": "code",
   "execution_count": null,
   "id": "8fb25392-1710-492f-8d59-e60b6e7e1211",
   "metadata": {},
   "outputs": [],
   "source": [
    "ex: 1 = 1000"
   ]
  },
  {
   "cell_type": "code",
   "execution_count": null,
   "id": "fc56eefd-a38a-4631-96fe-5b57bd957fdb",
   "metadata": {},
   "outputs": [],
   "source": [
    "TYPES OF BITWISE OPERATOR\n",
    "> AND(&)"
   ]
  },
  {
   "cell_type": "code",
   "execution_count": 9,
   "id": "cb50bc6c-285b-4898-9f43-c2b4b2451e3f",
   "metadata": {},
   "outputs": [
    {
     "name": "stdout",
     "output_type": "stream",
     "text": [
      "1\n"
     ]
    }
   ],
   "source": [
    "# example\n",
    "a = 5 #binary: 0101\n",
    "b = 3 #binary:0011\n",
    "result = a &b\n",
    "print(result)"
   ]
  },
  {
   "cell_type": "code",
   "execution_count": null,
   "id": "3f42411c-39f1-4a5c-a67a-de9009737a82",
   "metadata": {},
   "outputs": [],
   "source": [
    ">or operator(|)"
   ]
  },
  {
   "cell_type": "code",
   "execution_count": null,
   "id": "517b8748-bb0c-42f6-be12-bd258af38eac",
   "metadata": {},
   "outputs": [],
   "source": [
    ">not operator(~)"
   ]
  },
  {
   "cell_type": "markdown",
   "id": "801c309b-50cd-48a9-a579-697abe3e4d4a",
   "metadata": {},
   "source": [
    "# membership operator"
   ]
  },
  {
   "cell_type": "code",
   "execution_count": null,
   "id": "b37d1e47-dbcd-423a-be75-51e3afd18d10",
   "metadata": {},
   "outputs": [],
   "source": [
    "are used to test whether a value or variable exists within a sequence or a variable"
   ]
  },
  {
   "cell_type": "code",
   "execution_count": null,
   "id": "0697bed6-5edd-4af7-8e9e-582c89960cba",
   "metadata": {},
   "outputs": [],
   "source": [
    "> in operator : check if specific value is  present in a sequence"
   ]
  },
  {
   "cell_type": "code",
   "execution_count": 10,
   "id": "c2fe7c7e-9d88-4ab2-b339-d87d05e41020",
   "metadata": {},
   "outputs": [
    {
     "name": "stdout",
     "output_type": "stream",
     "text": [
      "True\n"
     ]
    }
   ],
   "source": [
    "# example \n",
    "my_list = [1,2,3,4,5]\n",
    "print(3 in my_list)\n"
   ]
  },
  {
   "cell_type": "code",
   "execution_count": 11,
   "id": "dd73e5bb-4f0b-46c7-ada1-faffa460496d",
   "metadata": {},
   "outputs": [
    {
     "name": "stdout",
     "output_type": "stream",
     "text": [
      "False\n"
     ]
    }
   ],
   "source": [
    "print(6 in my_list)"
   ]
  },
  {
   "cell_type": "code",
   "execution_count": null,
   "id": "13b35650-b71e-4361-8a47-f471863eb8c7",
   "metadata": {},
   "outputs": [],
   "source": [
    ">not operator: check if specific value is not present in a sequence"
   ]
  },
  {
   "cell_type": "code",
   "execution_count": 12,
   "id": "13a4192b-c3a5-4d0a-a7d2-1673dfaad316",
   "metadata": {},
   "outputs": [
    {
     "name": "stdout",
     "output_type": "stream",
     "text": [
      "True\n"
     ]
    }
   ],
   "source": [
    "# example\n",
    "my_list = [1,2,3,4,5]\n",
    "print(10 not in my_list)"
   ]
  },
  {
   "cell_type": "code",
   "execution_count": 13,
   "id": "61311024-b0e7-410a-80de-e60770544e96",
   "metadata": {},
   "outputs": [
    {
     "name": "stdout",
     "output_type": "stream",
     "text": [
      "True\n"
     ]
    }
   ],
   "source": [
    "fruits= [\"apple\", \"mango\", \"grapes\"]\n",
    "print(\"apple\" in fruits) # use of in"
   ]
  },
  {
   "cell_type": "code",
   "execution_count": 14,
   "id": "fbc029f5-d419-4ba6-ac9c-c0178f484c8e",
   "metadata": {},
   "outputs": [
    {
     "name": "stdout",
     "output_type": "stream",
     "text": [
      "True\n"
     ]
    }
   ],
   "source": [
    "print(\"pinapple\" not in fruits) #use of not in"
   ]
  },
  {
   "cell_type": "code",
   "execution_count": 15,
   "id": "ad37173f-d687-4bdf-88db-cb947b5bf613",
   "metadata": {},
   "outputs": [
    {
     "name": "stdout",
     "output_type": "stream",
     "text": [
      "False\n"
     ]
    }
   ],
   "source": [
    "print(\"guava\" in fruits) # use of in"
   ]
  },
  {
   "cell_type": "code",
   "execution_count": 16,
   "id": "18079ee3-d13a-42ac-8a5a-4c6ab66fb8b9",
   "metadata": {},
   "outputs": [
    {
     "name": "stdout",
     "output_type": "stream",
     "text": [
      "False\n"
     ]
    }
   ],
   "source": [
    "print(\"apple\" not in fruits) #use of not in"
   ]
  },
  {
   "cell_type": "code",
   "execution_count": 17,
   "id": "0015d188-4052-40bd-b700-376ed624d5fb",
   "metadata": {},
   "outputs": [
    {
     "name": "stdout",
     "output_type": "stream",
     "text": [
      "True\n"
     ]
    }
   ],
   "source": [
    "#using string\n",
    "message = (\" i love programming language\")\n",
    "print(\"love\" in message)\n"
   ]
  },
  {
   "cell_type": "code",
   "execution_count": 18,
   "id": "77235d25-0820-45ca-9e5d-bfa12b1ff4bb",
   "metadata": {},
   "outputs": [
    {
     "name": "stdout",
     "output_type": "stream",
     "text": [
      "True\n"
     ]
    }
   ],
   "source": [
    "print(\"java\" not in message)"
   ]
  },
  {
   "cell_type": "code",
   "execution_count": 19,
   "id": "474612e2-c359-4085-a3ff-c4972da46b93",
   "metadata": {},
   "outputs": [
    {
     "name": "stdout",
     "output_type": "stream",
     "text": [
      "True\n"
     ]
    }
   ],
   "source": [
    "#using dictionary\n",
    "person = {\"name\": \"sania\" , \"age\":21, \"city\":\"bangalore\"}\n",
    "print(\"name\" in person)"
   ]
  },
  {
   "cell_type": "code",
   "execution_count": 20,
   "id": "7727c945-2f9f-4f30-a5ef-e35f504f4c2c",
   "metadata": {},
   "outputs": [
    {
     "name": "stdout",
     "output_type": "stream",
     "text": [
      "True\n"
     ]
    }
   ],
   "source": [
    "print(22 not in person)"
   ]
  },
  {
   "cell_type": "code",
   "execution_count": 21,
   "id": "222870ca-3e59-4512-8861-eef4611dcd8c",
   "metadata": {},
   "outputs": [
    {
     "name": "stdout",
     "output_type": "stream",
     "text": [
      "False\n"
     ]
    }
   ],
   "source": [
    "print(\"sania\" in person)"
   ]
  },
  {
   "cell_type": "code",
   "execution_count": null,
   "id": "9f8212f1-a1de-4695-a34d-6a0bf00a45ec",
   "metadata": {},
   "outputs": [],
   "source": [
    "> if condition"
   ]
  },
  {
   "cell_type": "code",
   "execution_count": 22,
   "id": "544b8010-d097-48dc-8b2c-a116c7f77282",
   "metadata": {},
   "outputs": [
    {
     "data": {
      "text/plain": [
       "True"
      ]
     },
     "execution_count": 22,
     "metadata": {},
     "output_type": "execute_result"
    }
   ],
   "source": [
    "# example\n",
    "a =[1,2,3]\n",
    "1 in a"
   ]
  },
  {
   "cell_type": "code",
   "execution_count": 23,
   "id": "dacc80b7-c98b-405a-ac9a-164e76788224",
   "metadata": {},
   "outputs": [
    {
     "name": "stdout",
     "output_type": "stream",
     "text": [
      " i  got it\n",
      "this will be printed\n"
     ]
    }
   ],
   "source": [
    "# ex\n",
    "if 1 in a:\n",
    "    print(\" i  got it\")\n",
    "print(\"this will be printed\")"
   ]
  },
  {
   "cell_type": "code",
   "execution_count": 24,
   "id": "0007793b-a1b6-4fb5-a7a4-efa98838b94a",
   "metadata": {},
   "outputs": [
    {
     "name": "stdout",
     "output_type": "stream",
     "text": [
      "this will be printed\n"
     ]
    }
   ],
   "source": [
    "# ex\n",
    "if 10 in a:\n",
    "    print(\" i  got it\")\n",
    "print(\"this will be printed\")\n"
   ]
  },
  {
   "cell_type": "code",
   "execution_count": 25,
   "id": "10524a07-f959-4331-ac16-5f01f8b87d44",
   "metadata": {},
   "outputs": [
    {
     "name": "stdout",
     "output_type": "stream",
     "text": [
      "ur eligible to vote\n",
      "this will be printed any how\n"
     ]
    }
   ],
   "source": [
    "# ex\n",
    "age = 20\n",
    "if age >= 19:\n",
    "    print(\"ur eligible to vote\")\n",
    "\n",
    "    print(\"this will be printed any how\")"
   ]
  },
  {
   "cell_type": "code",
   "execution_count": 26,
   "id": "7f95704e-84cc-418b-8a61-c934608f8a46",
   "metadata": {},
   "outputs": [
    {
     "name": "stdout",
     "output_type": "stream",
     "text": [
      "greater\n"
     ]
    }
   ],
   "source": [
    "# ex\n",
    "if 5>2:\n",
    "    print(\"greater\")"
   ]
  },
  {
   "cell_type": "code",
   "execution_count": 27,
   "id": "9ce9fd88-e24a-4d81-98be-992b93adea1b",
   "metadata": {},
   "outputs": [
    {
     "name": "stdout",
     "output_type": "stream",
     "text": [
      " smaller\n"
     ]
    }
   ],
   "source": [
    "if 5<2:\n",
    "    print(\"greater\")\n",
    "print(\" smaller\")"
   ]
  },
  {
   "cell_type": "code",
   "execution_count": 28,
   "id": "d8663e85-da28-4222-9e59-0a1c2e605db8",
   "metadata": {},
   "outputs": [],
   "source": [
    "if 5>2 and 7<3:\n",
    "    print(\"if statement with logical operator\")\n",
    "    print(\"statement 2\")"
   ]
  },
  {
   "cell_type": "code",
   "execution_count": null,
   "id": "6018ee78-fd50-4968-9b21-58f9a1d031b4",
   "metadata": {},
   "outputs": [],
   "source": [
    "> if else statement"
   ]
  },
  {
   "cell_type": "code",
   "execution_count": 29,
   "id": "383f3094-ab3b-4088-ba57-587c912ce0dd",
   "metadata": {},
   "outputs": [
    {
     "name": "stdout",
     "output_type": "stream",
     "text": [
      "it is normal temperature\n"
     ]
    }
   ],
   "source": [
    "temperature = 30\n",
    "if temperature > 30:\n",
    "    print(\"it is a hot day\")\n",
    "else:\n",
    "    print(\"it is normal temperature\")"
   ]
  },
  {
   "cell_type": "code",
   "execution_count": 30,
   "id": "3161bde5-4899-425a-88d2-24d511d2baca",
   "metadata": {},
   "outputs": [
    {
     "name": "stdout",
     "output_type": "stream",
     "text": [
      "it is odd\n"
     ]
    }
   ],
   "source": [
    "num = 22\n",
    "if num%2 == 0:\n",
    "    print(\"it is odd\")\n",
    "else:\n",
    "    print(\"it is even\")"
   ]
  },
  {
   "cell_type": "code",
   "execution_count": 31,
   "id": "57a53720-6805-4142-a81f-ccc2c9f3be33",
   "metadata": {},
   "outputs": [
    {
     "name": "stdout",
     "output_type": "stream",
     "text": [
      "it is even\n"
     ]
    }
   ],
   "source": [
    "num = 21\n",
    "if (num%2 == 0):\n",
    "    print(\"it is odd\")\n",
    "else:\n",
    "    print(\"it is even\")\n"
   ]
  },
  {
   "cell_type": "code",
   "execution_count": null,
   "id": "72af2a6b-0fe6-4777-a4b0-8d2751ed7a3c",
   "metadata": {},
   "outputs": [],
   "source": [
    ">elif statement : we can check multiple conditions"
   ]
  },
  {
   "cell_type": "code",
   "execution_count": 32,
   "id": "64887bea-356a-48ca-b741-b7a0b7e11d9e",
   "metadata": {},
   "outputs": [
    {
     "name": "stdout",
     "output_type": "stream",
     "text": [
      "grade : D\n"
     ]
    }
   ],
   "source": [
    "marks = 60\n",
    "if marks>=90:\n",
    "    print(\"grade: A\")\n",
    "elif marks>=80:\n",
    "    print(\"grade:b\")\n",
    "elif marks>=70:\n",
    "    print(\"grade:C\")\n",
    "elif marks>=60:\n",
    "    print(\"grade : D\")\n",
    "else:\n",
    "    print(\"grade : E\")\n"
   ]
  },
  {
   "cell_type": "markdown",
   "id": "d6899ea4-758c-4514-a7a9-f3e7fd3a6b81",
   "metadata": {},
   "source": [
    "> multiple if statements"
   ]
  },
  {
   "cell_type": "code",
   "execution_count": 33,
   "id": "cd09bd7d-fb2c-4c52-8e5a-e0cf74025f0b",
   "metadata": {},
   "outputs": [
    {
     "name": "stdout",
     "output_type": "stream",
     "text": [
      "grade : D\n"
     ]
    }
   ],
   "source": [
    "marks = 25\n",
    "\n",
    "if marks>=60:\n",
    "    print(\"grade: A\")\n",
    "if marks>=80:\n",
    "    print(\"grade:b\")\n",
    "if marks>=70:\n",
    "    print(\"grade:C\")\n",
    "else:\n",
    "    print(\"grade : D\")"
   ]
  },
  {
   "cell_type": "code",
   "execution_count": null,
   "id": "37caa1fd-b986-4e92-99fa-ecd780ba36e6",
   "metadata": {},
   "outputs": [],
   "source": [
    "> NESTED IF"
   ]
  },
  {
   "cell_type": "code",
   "execution_count": 34,
   "id": "ec1c5622-52dd-4246-a103-fb0e54cbc076",
   "metadata": {},
   "outputs": [
    {
     "name": "stdout",
     "output_type": "stream",
     "text": [
      "number is positive\n",
      "num is odd\n"
     ]
    }
   ],
   "source": [
    "num=1\n",
    "if num>0:\n",
    "    print(\"number is positive\")\n",
    "    if num%2==0:\n",
    "        print(\"num is even\")\n",
    "    else:\n",
    "        print(\"num is odd\")"
   ]
  },
  {
   "cell_type": "code",
   "execution_count": 36,
   "id": "c8a7c7e6-a05c-4287-a5d3-591c8c024ee1",
   "metadata": {},
   "outputs": [
    {
     "name": "stdout",
     "output_type": "stream",
     "text": [
      "number is positive\n",
      "num is even\n"
     ]
    }
   ],
   "source": [
    "num=12\n",
    "if num>0:\n",
    "    print(\"number is positive\")\n",
    "    if num%2==0:\n",
    "        print(\"num is even\")\n",
    "    else:\n",
    "        print(\"num is odd\")"
   ]
  },
  {
   "cell_type": "code",
   "execution_count": null,
   "id": "27c447a5-1ead-4453-b8ab-6d175f38d2c9",
   "metadata": {},
   "outputs": [],
   "source": []
  }
 ],
 "metadata": {
  "kernelspec": {
   "display_name": "Python 3 (ipykernel)",
   "language": "python",
   "name": "python3"
  },
  "language_info": {
   "codemirror_mode": {
    "name": "ipython",
    "version": 3
   },
   "file_extension": ".py",
   "mimetype": "text/x-python",
   "name": "python",
   "nbconvert_exporter": "python",
   "pygments_lexer": "ipython3",
   "version": "3.12.7"
  }
 },
 "nbformat": 4,
 "nbformat_minor": 5
}
