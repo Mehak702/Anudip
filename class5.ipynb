{
 "cells": [
  {
   "cell_type": "markdown",
   "id": "ab2d3066-997d-4a84-bb5c-906d0138b815",
   "metadata": {},
   "source": [
    "# foor loop\n"
   ]
  },
  {
   "cell_type": "code",
   "execution_count": null,
   "id": "6471f639-d16a-4543-aa23-a3d58c25b6a6",
   "metadata": {},
   "outputs": [],
   "source": [
    "# it is used for iterating over a sequence (list , tuple , string) it allows u to executed a block of code item in sequence "
   ]
  },
  {
   "cell_type": "markdown",
   "id": "2f2593cc-a267-4efc-91a6-8807838319d3",
   "metadata": {},
   "source": [
    "### syntax"
   ]
  },
  {
   "cell_type": "code",
   "execution_count": null,
   "id": "2123ddd7-f2c4-45ef-9689-9dc8171ed5cb",
   "metadata": {},
   "outputs": [],
   "source": [
    "for variable in sequence:\n",
    "    #code to be execute"
   ]
  },
  {
   "cell_type": "code",
   "execution_count": 12,
   "id": "779ba750-cabf-4a98-81e5-9657abbdd01f",
   "metadata": {},
   "outputs": [],
   "source": [
    "a=[1,2,3,4,5,6]"
   ]
  },
  {
   "cell_type": "code",
   "execution_count": 13,
   "id": "d29239ca-a1ff-4d82-81f3-b894c8b7284a",
   "metadata": {},
   "outputs": [
    {
     "name": "stdout",
     "output_type": "stream",
     "text": [
      "1\n",
      "2\n",
      "3\n",
      "4\n",
      "5\n",
      "6\n"
     ]
    }
   ],
   "source": [
    "for i in a:\n",
    "    print(i)"
   ]
  },
  {
   "cell_type": "markdown",
   "id": "40e6a710-2064-4c64-8ff9-0293554815ee",
   "metadata": {},
   "source": [
    "# sequence"
   ]
  },
  {
   "cell_type": "code",
   "execution_count": null,
   "id": "b92306c2-2051-4028-aa44-7c4fe8f5979e",
   "metadata": {},
   "outputs": [],
   "source": [
    "# it refer to an order collection of elements "
   ]
  },
  {
   "cell_type": "code",
   "execution_count": 1,
   "id": "8b95de85-ef90-4b0b-a733-e4b1668cedd0",
   "metadata": {},
   "outputs": [
    {
     "name": "stdout",
     "output_type": "stream",
     "text": [
      "apple\n",
      "banana\n",
      "cherry\n"
     ]
    }
   ],
   "source": [
    "fruits = ['apple', 'banana', 'cherry']\n",
    "\n",
    "for fruit in fruits:\n",
    "    print(fruit)"
   ]
  },
  {
   "cell_type": "code",
   "execution_count": 2,
   "id": "e496ce4d-89ff-4e3c-92b1-93d08073749d",
   "metadata": {},
   "outputs": [
    {
     "name": "stdout",
     "output_type": "stream",
     "text": [
      "h\n",
      "e\n",
      "l\n",
      "l\n",
      "o\n"
     ]
    }
   ],
   "source": [
    "#string\n",
    "word =\"hello\"\n",
    "\n",
    "#using a for loop to iterate our string\n",
    "for letter in  word:\n",
    "    print(letter)\n",
    "    "
   ]
  },
  {
   "cell_type": "code",
   "execution_count": 3,
   "id": "0c813940-04e9-4057-862a-6f4bacd72abc",
   "metadata": {},
   "outputs": [
    {
     "name": "stdout",
     "output_type": "stream",
     "text": [
      "0\n",
      "1\n",
      "2\n",
      "3\n",
      "4\n",
      "5\n",
      "6\n",
      "7\n",
      "8\n",
      "9\n"
     ]
    }
   ],
   "source": [
    "for i in range(0,10):\n",
    "    print(i)"
   ]
  },
  {
   "cell_type": "code",
   "execution_count": 6,
   "id": "51d32109-0646-402e-98d7-91420e4e9be2",
   "metadata": {},
   "outputs": [
    {
     "name": "stdout",
     "output_type": "stream",
     "text": [
      "1\n",
      "4\n",
      "7\n"
     ]
    }
   ],
   "source": [
    "for i in range(1,10,3):\n",
    "    print(i)"
   ]
  },
  {
   "cell_type": "code",
   "execution_count": null,
   "id": "a6877ee9-dd2c-474c-b89a-84d9d3ec12f3",
   "metadata": {},
   "outputs": [],
   "source": [
    "#start #stop #jump"
   ]
  },
  {
   "cell_type": "code",
   "execution_count": 9,
   "id": "d2faae38-633d-48d9-8aee-c2a6f8c1c436",
   "metadata": {},
   "outputs": [],
   "source": [
    "a=[]"
   ]
  },
  {
   "cell_type": "code",
   "execution_count": 10,
   "id": "c4bbccfd-8abe-4cd9-b6d7-cb556fac5f34",
   "metadata": {},
   "outputs": [
    {
     "name": "stdout",
     "output_type": "stream",
     "text": [
      "loop is finished\n"
     ]
    }
   ],
   "source": [
    "for i in a:\n",
    "    print(i)\n",
    "else:\n",
    "    print(\"loop is finished\")"
   ]
  },
  {
   "cell_type": "code",
   "execution_count": 11,
   "id": "9e9fb8dd-3e2d-4765-b9ad-651c99aa13d5",
   "metadata": {},
   "outputs": [
    {
     "name": "stdout",
     "output_type": "stream",
     "text": [
      "i=0, j=0\n",
      "i=0, j=1\n",
      "i=1, j=0\n",
      "i=1, j=1\n",
      "i=2, j=0\n",
      "i=2, j=1\n"
     ]
    }
   ],
   "source": [
    "for i in range(3):\n",
    "    for j in range(2):\n",
    "        print(f\"i={i}, j={j}\")\n",
    "        "
   ]
  },
  {
   "cell_type": "code",
   "execution_count": 14,
   "id": "c35fcd03-0fd1-481e-b91a-0cfc48ddb32d",
   "metadata": {},
   "outputs": [],
   "source": [
    "name ='raj'"
   ]
  },
  {
   "cell_type": "code",
   "execution_count": 15,
   "id": "7ea53bb6-a557-4642-97ba-f671dc976d6c",
   "metadata": {},
   "outputs": [
    {
     "name": "stdout",
     "output_type": "stream",
     "text": [
      "my nmae is raj\n"
     ]
    }
   ],
   "source": [
    "print(f'my nmae is {name}')"
   ]
  },
  {
   "cell_type": "code",
   "execution_count": 17,
   "id": "2084c920-38ae-46a8-8069-9b17512970a7",
   "metadata": {},
   "outputs": [
    {
     "name": "stdout",
     "output_type": "stream",
     "text": [
      "0\n",
      "this will be 1st\n",
      "this is second\n",
      "this is third\n",
      "1\n",
      "this will be 1st\n",
      "this is second\n",
      "this is third\n",
      "2\n",
      "this will be 1st\n",
      "this is second\n",
      "this is third\n"
     ]
    }
   ],
   "source": [
    "for i in range(3):\n",
    "    print(i)\n",
    "    print(\"this will be 1st\")\n",
    "    print(\"this is second\")\n",
    "    print(\"this is third\")"
   ]
  },
  {
   "cell_type": "code",
   "execution_count": 20,
   "id": "e2c442fb-bdc2-4696-8a59-c66d27585cbc",
   "metadata": {},
   "outputs": [
    {
     "name": "stdout",
     "output_type": "stream",
     "text": [
      "0 = h\n",
      "1 = e\n",
      "2 = l\n",
      "3 = l\n",
      "4 = o\n"
     ]
    }
   ],
   "source": [
    "st = \"hello\"\n",
    "n = len(st)\n",
    "for i in range (n):\n",
    "  print(i, \"=\",st[i])"
   ]
  },
  {
   "cell_type": "markdown",
   "id": "b25e2d26-ef57-44c2-a675-d557ad6e06bd",
   "metadata": {},
   "source": [
    "# break "
   ]
  },
  {
   "cell_type": "code",
   "execution_count": null,
   "id": "5d545b32-f7c9-42e4-baab-c518035c09f1",
   "metadata": {},
   "outputs": [],
   "source": [
    "# it is used to exit the loop "
   ]
  },
  {
   "cell_type": "code",
   "execution_count": 22,
   "id": "4b1ea1d9-6027-4f91-90e7-d1d66953fa0e",
   "metadata": {},
   "outputs": [
    {
     "name": "stdout",
     "output_type": "stream",
     "text": [
      "0\n",
      "1\n",
      "2\n",
      "3\n",
      "4\n",
      "for loop has been stopped\n"
     ]
    }
   ],
   "source": [
    "for number in range(10):\n",
    "    if number ==5:\n",
    "        break\n",
    "    print(number)\n",
    "\n",
    "print(\"for loop has been stopped\")"
   ]
  },
  {
   "cell_type": "markdown",
   "id": "3c9bacff-d69e-44b7-a637-a481ac30d1ef",
   "metadata": {},
   "source": [
    "### continue"
   ]
  },
  {
   "cell_type": "code",
   "execution_count": 23,
   "id": "a2b22d4f-b6ae-411f-a8c6-d931ac9cc510",
   "metadata": {},
   "outputs": [],
   "source": [
    "#it stops the perticular iteration it just skips and continue next one "
   ]
  },
  {
   "cell_type": "code",
   "execution_count": 25,
   "id": "75c629c1-f764-47ef-9ea4-2ac4eb95c733",
   "metadata": {},
   "outputs": [
    {
     "name": "stdout",
     "output_type": "stream",
     "text": [
      "0\n",
      "1\n",
      "3\n",
      "4\n"
     ]
    }
   ],
   "source": [
    "for number in range(5):\n",
    "    if number == 2:\n",
    "        continue\n",
    "    print(number)"
   ]
  },
  {
   "cell_type": "markdown",
   "id": "ac61e046-129e-4f9d-af1e-5a9fb6625b31",
   "metadata": {},
   "source": [
    "### pass"
   ]
  },
  {
   "cell_type": "code",
   "execution_count": 26,
   "id": "8a53df18-5ac2-413d-b483-196a25bdd3ce",
   "metadata": {},
   "outputs": [],
   "source": [
    "# it does nothing when executed "
   ]
  },
  {
   "cell_type": "code",
   "execution_count": 28,
   "id": "e92006e4-9b63-467e-8823-c59077694ff3",
   "metadata": {},
   "outputs": [
    {
     "name": "stdout",
     "output_type": "stream",
     "text": [
      "0\n",
      "1\n",
      "2\n",
      "4\n"
     ]
    }
   ],
   "source": [
    "for number in range(5):\n",
    "    if number == 3:\n",
    "        pass \n",
    "    else:\n",
    "        print(number)"
   ]
  },
  {
   "cell_type": "markdown",
   "id": "61cd9b57-2e1a-4348-85ab-a794b4bc1729",
   "metadata": {},
   "source": [
    "# exersise"
   ]
  },
  {
   "cell_type": "code",
   "execution_count": 46,
   "id": "bcf42374-95b2-49bf-89fb-678ba81928c0",
   "metadata": {},
   "outputs": [
    {
     "name": "stdout",
     "output_type": "stream",
     "text": [
      "Number 4 is found\n"
     ]
    }
   ],
   "source": [
    "# program that search specific number in list of integers\n",
    "\n",
    "numbers = [1, 2, 3, 4, 5]\n",
    "target = 4\n",
    "\n",
    "for number in numbers:\n",
    "    if number == target:\n",
    "        print(f\"Number {target} is found\")\n",
    "        break\n",
    "\n"
   ]
  },
  {
   "cell_type": "code",
   "execution_count": null,
   "id": "256153da-716d-4a6a-9a9a-4e6804265557",
   "metadata": {},
   "outputs": [],
   "source": []
  }
 ],
 "metadata": {
  "kernelspec": {
   "display_name": "Python 3 (ipykernel)",
   "language": "python",
   "name": "python3"
  },
  "language_info": {
   "codemirror_mode": {
    "name": "ipython",
    "version": 3
   },
   "file_extension": ".py",
   "mimetype": "text/x-python",
   "name": "python",
   "nbconvert_exporter": "python",
   "pygments_lexer": "ipython3",
   "version": "3.12.7"
  }
 },
 "nbformat": 4,
 "nbformat_minor": 5
}
