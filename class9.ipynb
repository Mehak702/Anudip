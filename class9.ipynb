{
 "cells": [
  {
   "cell_type": "code",
   "execution_count": null,
   "id": "e2ca1778-a793-4b4c-9a00-92be7ce709c4",
   "metadata": {},
   "outputs": [],
   "source": [
    "#list it is mutable data structure it uses [] angular blackets "
   ]
  },
  {
   "cell_type": "code",
   "execution_count": 1,
   "id": "71dabda9-3d67-466f-9175-1b5a8f39ce45",
   "metadata": {},
   "outputs": [
    {
     "name": "stdout",
     "output_type": "stream",
     "text": [
      "[1, 20, 3]\n"
     ]
    }
   ],
   "source": [
    "mutable_list =[1,2,3]\n",
    "mutable_list[1] = 20 \n",
    "print(mutable_list)"
   ]
  },
  {
   "cell_type": "code",
   "execution_count": 7,
   "id": "b9011667-3c5b-485c-b99d-7201c1d69836",
   "metadata": {},
   "outputs": [
    {
     "data": {
      "text/plain": [
       "[12, 'hello', 3.9, (1, 2, 3), 2]"
      ]
     },
     "execution_count": 7,
     "metadata": {},
     "output_type": "execute_result"
    }
   ],
   "source": [
    "#heterogenious list \n",
    "heterogenious_list = [12,'hello',3.9, (1,2,3),2]\n",
    "heterogenious_list                     "
   ]
  },
  {
   "cell_type": "code",
   "execution_count": 11,
   "id": "f1db403f-7bfd-47c8-82d6-371daa4389f8",
   "metadata": {},
   "outputs": [
    {
     "data": {
      "text/plain": [
       "'applle'"
      ]
     },
     "execution_count": 11,
     "metadata": {},
     "output_type": "execute_result"
    }
   ],
   "source": [
    "#indexable\n",
    "indexable_list =['applle','ball']\n",
    "indexable_list[0]"
   ]
  },
  {
   "cell_type": "code",
   "execution_count": 15,
   "id": "328015dc-deed-4686-8900-0f315322688e",
   "metadata": {},
   "outputs": [
    {
     "data": {
      "text/plain": [
       "array('i', [1, 2, 3])"
      ]
     },
     "execution_count": 15,
     "metadata": {},
     "output_type": "execute_result"
    }
   ],
   "source": [
    "#array\n",
    "import array\n",
    "numbers = array.array('i',[1,2,3])\n",
    "numbers"
   ]
  },
  {
   "cell_type": "code",
   "execution_count": 17,
   "id": "436edb11-c0cd-4fa5-b481-2ac5fdea2b22",
   "metadata": {},
   "outputs": [],
   "source": [
    "#array and list difference"
   ]
  },
  {
   "cell_type": "code",
   "execution_count": 19,
   "id": "fe349d85-8d27-4e21-98b0-c91cf6d7649b",
   "metadata": {},
   "outputs": [],
   "source": [
    "#refer the above examples|"
   ]
  },
  {
   "cell_type": "code",
   "execution_count": 21,
   "id": "7458734c-db72-4c91-b048-f93f116fdb06",
   "metadata": {},
   "outputs": [
    {
     "name": "stdout",
     "output_type": "stream",
     "text": [
      "apple\n"
     ]
    }
   ],
   "source": [
    "#indexing and slicing in list \n",
    "fruits = ['apple','banana','cherry']\n",
    "print(fruits[0])"
   ]
  },
  {
   "cell_type": "code",
   "execution_count": 23,
   "id": "2881f93f-5d97-4f4b-86ce-dbca843d2b5a",
   "metadata": {},
   "outputs": [
    {
     "name": "stdout",
     "output_type": "stream",
     "text": [
      "cherry\n"
     ]
    }
   ],
   "source": [
    "print(fruits[-1])"
   ]
  },
  {
   "cell_type": "code",
   "execution_count": 25,
   "id": "beda3c9a-255c-4c55-bfa6-b99325b45039",
   "metadata": {},
   "outputs": [
    {
     "data": {
      "text/plain": [
       "['apple']"
      ]
     },
     "execution_count": 25,
     "metadata": {},
     "output_type": "execute_result"
    }
   ],
   "source": [
    "#slicing \n",
    "fruits[0:1]"
   ]
  },
  {
   "cell_type": "code",
   "execution_count": 27,
   "id": "9675a045-fded-499b-bbba-ac4d65410eb8",
   "metadata": {},
   "outputs": [
    {
     "data": {
      "text/plain": [
       "[3]"
      ]
     },
     "execution_count": 27,
     "metadata": {},
     "output_type": "execute_result"
    }
   ],
   "source": [
    "numbers = [1,2,3,4,5,6,7,8]\n",
    "numbers[2:3]"
   ]
  },
  {
   "cell_type": "code",
   "execution_count": 35,
   "id": "ba275aec-417d-42ab-9d02-0ebce9345388",
   "metadata": {},
   "outputs": [
    {
     "data": {
      "text/plain": [
       "[7]"
      ]
     },
     "execution_count": 35,
     "metadata": {},
     "output_type": "execute_result"
    }
   ],
   "source": [
    "numbers[-2:-1]"
   ]
  },
  {
   "cell_type": "code",
   "execution_count": 33,
   "id": "9f2dc921-36d5-46b0-9461-af84c7bb5081",
   "metadata": {},
   "outputs": [
    {
     "data": {
      "text/plain": [
       "[2, 3]"
      ]
     },
     "execution_count": 33,
     "metadata": {},
     "output_type": "execute_result"
    }
   ],
   "source": [
    "numbers[1:3:1]"
   ]
  },
  {
   "cell_type": "code",
   "execution_count": 37,
   "id": "51b2d19e-6117-4e8e-9a53-bf9d3adddcee",
   "metadata": {},
   "outputs": [
    {
     "data": {
      "text/plain": [
       "[4, 5, 6, 7, 8]"
      ]
     },
     "execution_count": 37,
     "metadata": {},
     "output_type": "execute_result"
    }
   ],
   "source": [
    "numbers[3:]"
   ]
  },
  {
   "cell_type": "code",
   "execution_count": 39,
   "id": "ea88ace8-5237-4e5b-ab9a-7b162e028859",
   "metadata": {},
   "outputs": [
    {
     "data": {
      "text/plain": [
       "[1, 2, 3]"
      ]
     },
     "execution_count": 39,
     "metadata": {},
     "output_type": "execute_result"
    }
   ],
   "source": [
    "numbers[:3]"
   ]
  },
  {
   "cell_type": "code",
   "execution_count": 41,
   "id": "9d5afb47-1a63-4b2e-b131-b6bebd3dabf1",
   "metadata": {},
   "outputs": [
    {
     "data": {
      "text/plain": [
       "[1, 2, 3, 4, 5, 6, 7, 8]"
      ]
     },
     "execution_count": 41,
     "metadata": {},
     "output_type": "execute_result"
    }
   ],
   "source": [
    "numbers[:]"
   ]
  },
  {
   "cell_type": "code",
   "execution_count": 51,
   "id": "402a8196-5453-40c3-b86a-8d4a3aa81f7a",
   "metadata": {},
   "outputs": [],
   "source": [
    "slice_2=numbers[::-1]"
   ]
  },
  {
   "cell_type": "code",
   "execution_count": 53,
   "id": "b2a6cd0d-f034-434d-a862-206199bc9ae4",
   "metadata": {},
   "outputs": [],
   "source": [
    "number=[1,23,4,5,6,7,8,9]\n",
    "number[1:5]=[1]"
   ]
  },
  {
   "cell_type": "code",
   "execution_count": 55,
   "id": "e8f5a3dc-9614-4b53-bf3c-8c2f5443ecab",
   "metadata": {},
   "outputs": [
    {
     "data": {
      "text/plain": [
       "[1, 1, 7, 8, 9]"
      ]
     },
     "execution_count": 55,
     "metadata": {},
     "output_type": "execute_result"
    }
   ],
   "source": [
    "number"
   ]
  },
  {
   "cell_type": "code",
   "execution_count": 59,
   "id": "8a3d399e-3137-4ecc-8f42-b372d1e2def3",
   "metadata": {},
   "outputs": [
    {
     "data": {
      "text/plain": [
       "['red', 'green', 'pink', 'blue']"
      ]
     },
     "execution_count": 59,
     "metadata": {},
     "output_type": "execute_result"
    }
   ],
   "source": [
    "colors =['red','green','pink','blue']\n",
    "colors"
   ]
  },
  {
   "cell_type": "code",
   "execution_count": 1,
   "id": "e7175e5d-3b46-4020-a939-702a4c377de8",
   "metadata": {},
   "outputs": [
    {
     "data": {
      "text/plain": [
       "[10, 20, 30, 40, 50, 60, 70, 80, 90, 100]"
      ]
     },
     "execution_count": 1,
     "metadata": {},
     "output_type": "execute_result"
    }
   ],
   "source": [
    "numbers = [10, 20, 30, 40, 50, 60, 70, 80, 90, 100]\n",
    "numbers"
   ]
  },
  {
   "cell_type": "code",
   "execution_count": 5,
   "id": "8f6f0f36-e77a-4926-b92a-19028cd1161f",
   "metadata": {},
   "outputs": [
    {
     "data": {
      "text/plain": [
       "[30]"
      ]
     },
     "execution_count": 5,
     "metadata": {},
     "output_type": "execute_result"
    }
   ],
   "source": [
    "numbers[2:5:4]"
   ]
  },
  {
   "cell_type": "code",
   "execution_count": 7,
   "id": "ff011d05-3892-47d1-aac4-d19e100ca35b",
   "metadata": {},
   "outputs": [],
   "source": [
    "numbers[1:5] = [1,2,3,4,5]"
   ]
  },
  {
   "cell_type": "code",
   "execution_count": 9,
   "id": "f761681a-e6ce-4766-b468-b3ff592f01d9",
   "metadata": {},
   "outputs": [
    {
     "data": {
      "text/plain": [
       "[10, 1, 2, 3, 4, 5, 60, 70, 80, 90, 100]"
      ]
     },
     "execution_count": 9,
     "metadata": {},
     "output_type": "execute_result"
    }
   ],
   "source": [
    "numbers"
   ]
  },
  {
   "cell_type": "code",
   "execution_count": 11,
   "id": "5cd5e482-aff4-456b-893c-4cb8749c064e",
   "metadata": {},
   "outputs": [],
   "source": [
    "animals = [\"cat\", \"dog\", \"elephant\"]"
   ]
  },
  {
   "cell_type": "code",
   "execution_count": 13,
   "id": "4eea77c6-e431-45b2-a48a-214feae38f50",
   "metadata": {},
   "outputs": [],
   "source": [
    "animals[1:2] = [\"hamster\", \"rabbit\"]"
   ]
  },
  {
   "cell_type": "code",
   "execution_count": 15,
   "id": "c0969b10-4fff-4625-94bb-ea6727d0b32b",
   "metadata": {},
   "outputs": [
    {
     "data": {
      "text/plain": [
       "['cat', 'hamster', 'rabbit', 'elephant']"
      ]
     },
     "execution_count": 15,
     "metadata": {},
     "output_type": "execute_result"
    }
   ],
   "source": [
    "animals"
   ]
  },
  {
   "cell_type": "code",
   "execution_count": 17,
   "id": "1b8b30a7-711a-4603-9d3a-a4ae8387574e",
   "metadata": {},
   "outputs": [],
   "source": [
    "language = [\"Pythin\", \"Java\", \"C++\"]"
   ]
  },
  {
   "cell_type": "code",
   "execution_count": 19,
   "id": "5213725f-3341-4ddd-a7e7-eb238e56b1bd",
   "metadata": {},
   "outputs": [],
   "source": [
    "language.insert(1, \"javascript\")\n"
   ]
  },
  {
   "cell_type": "code",
   "execution_count": 21,
   "id": "2f0fc081-6f3a-4182-8ca5-573a2c2194de",
   "metadata": {},
   "outputs": [
    {
     "name": "stdout",
     "output_type": "stream",
     "text": [
      "['Pythin', 'javascript', 'Java', 'C++']\n"
     ]
    }
   ],
   "source": [
    "print(language)"
   ]
  },
  {
   "cell_type": "code",
   "execution_count": 23,
   "id": "9ce452f0-646b-4769-90f4-ab9d64f20b89",
   "metadata": {},
   "outputs": [],
   "source": [
    "list1 = [1, 2, 3]\n",
    "list2 = [4, 5, 6]"
   ]
  },
  {
   "cell_type": "code",
   "execution_count": 25,
   "id": "23d3ef43-3f60-4aa9-8330-c42726ebfbda",
   "metadata": {},
   "outputs": [],
   "source": [
    "result = list1 + list2\n"
   ]
  },
  {
   "cell_type": "code",
   "execution_count": 27,
   "id": "2d2623ca-8989-46b0-9374-f729f8f045f4",
   "metadata": {},
   "outputs": [
    {
     "data": {
      "text/plain": [
       "[1, 2, 3, 4, 5, 6]"
      ]
     },
     "execution_count": 27,
     "metadata": {},
     "output_type": "execute_result"
    }
   ],
   "source": [
    "result"
   ]
  },
  {
   "cell_type": "code",
   "execution_count": 29,
   "id": "ca9eb859-80f9-46a0-82e9-cb001f507a4c",
   "metadata": {},
   "outputs": [],
   "source": [
    "list1 = [1, 2, 3]"
   ]
  },
  {
   "cell_type": "code",
   "execution_count": 31,
   "id": "d26c17c2-520a-4fc5-b538-b24235b86daf",
   "metadata": {},
   "outputs": [],
   "source": [
    "result = list1 * 4"
   ]
  },
  {
   "cell_type": "code",
   "execution_count": 33,
   "id": "b5ab2a0c-257c-4779-9bf4-feca8961a17d",
   "metadata": {},
   "outputs": [
    {
     "data": {
      "text/plain": [
       "[1, 2, 3, 1, 2, 3, 1, 2, 3, 1, 2, 3]"
      ]
     },
     "execution_count": 33,
     "metadata": {},
     "output_type": "execute_result"
    }
   ],
   "source": [
    "result"
   ]
  },
  {
   "cell_type": "code",
   "execution_count": 35,
   "id": "8847f11f-b952-471b-8535-315a17d62f30",
   "metadata": {},
   "outputs": [],
   "source": [
    "my_list = ['apple', 'banana', 'cherry']"
   ]
  },
  {
   "cell_type": "code",
   "execution_count": 37,
   "id": "4fdee869-8e80-4131-aaa5-3a453dc59f4c",
   "metadata": {},
   "outputs": [
    {
     "data": {
      "text/plain": [
       "True"
      ]
     },
     "execution_count": 37,
     "metadata": {},
     "output_type": "execute_result"
    }
   ],
   "source": [
    "'banana' in my_list"
   ]
  },
  {
   "cell_type": "code",
   "execution_count": 39,
   "id": "9e6621e1-df8f-4d57-be58-69df6514f606",
   "metadata": {},
   "outputs": [],
   "source": [
    "my_list = ['apple', 'banana', 'cherry']"
   ]
  },
  {
   "cell_type": "code",
   "execution_count": 41,
   "id": "7c3ffde6-7485-483c-8715-388699236372",
   "metadata": {},
   "outputs": [
    {
     "data": {
      "text/plain": [
       "True"
      ]
     },
     "execution_count": 41,
     "metadata": {},
     "output_type": "execute_result"
    }
   ],
   "source": [
    "'orange' not in my_list"
   ]
  },
  {
   "cell_type": "code",
   "execution_count": 43,
   "id": "8200517a-a070-40c5-af0e-592d20806f10",
   "metadata": {},
   "outputs": [],
   "source": [
    "my_list = ['apple', 'banana', 'cherry']"
   ]
  },
  {
   "cell_type": "code",
   "execution_count": 45,
   "id": "c0102e2f-672c-465e-9093-0208141cddf1",
   "metadata": {},
   "outputs": [
    {
     "name": "stdout",
     "output_type": "stream",
     "text": [
      "apple\n",
      "banana\n",
      "cherry\n"
     ]
    }
   ],
   "source": [
    "for fruit in my_list:\n",
    "    print(fruit)"
   ]
  },
  {
   "cell_type": "code",
   "execution_count": 49,
   "id": "fde4d5bc-c890-4293-9041-b1442064166c",
   "metadata": {},
   "outputs": [
    {
     "name": "stdout",
     "output_type": "stream",
     "text": [
      "c\n",
      "h\n",
      "e\n"
     ]
    }
   ],
   "source": [
    "fruits = ['apple', 'banana', 'cherry']\n",
    "i = 0\n",
    "while i < len(fruits):\n",
    "    print(fruit[i])\n",
    "    i += 1"
   ]
  },
  {
   "cell_type": "code",
   "execution_count": 53,
   "id": "be7340a3-70f3-4d51-b73b-da1c6636223d",
   "metadata": {},
   "outputs": [
    {
     "name": "stdout",
     "output_type": "stream",
     "text": [
      "total_sum: 15\n"
     ]
    }
   ],
   "source": [
    "numbers=[1,2,3,4,5]\n",
    "total_sum=0\n",
    "for number in numbers:\n",
    "    total_sum=total_sum+number\n",
    "print('total_sum:',total_sum)    "
   ]
  },
  {
   "cell_type": "code",
   "execution_count": 51,
   "id": "66e47bef-904d-4d75-bf2f-b69b63b269ab",
   "metadata": {},
   "outputs": [
    {
     "name": "stdout",
     "output_type": "stream",
     "text": [
      "1 2 3 \n",
      "4 5 6 \n",
      "7 8 9 \n"
     ]
    }
   ],
   "source": [
    "matrix = [\n",
    "    [1, 2, 3],\n",
    "    [4, 5, 6],\n",
    "    [7, 8, 9]\n",
    "]\n",
    "for row in matrix:\n",
    "    for element in row:\n",
    "        print(element, end=\" \")\n",
    "    print()    "
   ]
  },
  {
   "cell_type": "code",
   "execution_count": null,
   "id": "41a5c588-2a78-4ca6-a951-d077899637be",
   "metadata": {},
   "outputs": [],
   "source": []
  }
 ],
 "metadata": {
  "kernelspec": {
   "display_name": "Python [conda env:base] *",
   "language": "python",
   "name": "conda-base-py"
  },
  "language_info": {
   "codemirror_mode": {
    "name": "ipython",
    "version": 3
   },
   "file_extension": ".py",
   "mimetype": "text/x-python",
   "name": "python",
   "nbconvert_exporter": "python",
   "pygments_lexer": "ipython3",
   "version": "3.12.7"
  }
 },
 "nbformat": 4,
 "nbformat_minor": 5
}
