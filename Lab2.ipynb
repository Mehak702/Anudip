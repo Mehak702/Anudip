{
 "cells": [
  {
   "cell_type": "code",
   "execution_count": 1,
   "id": "a337989a-8a24-4558-89fa-d85a28b1b3dc",
   "metadata": {},
   "outputs": [
    {
     "name": "stdin",
     "output_type": "stream",
     "text": [
      "Enter a number:  7\n"
     ]
    },
    {
     "name": "stdout",
     "output_type": "stream",
     "text": [
      "Odd\n"
     ]
    }
   ],
   "source": [
    "#Using input() function take one number from the user and using ternary operators, check whether the number is even or odd\n",
    "\n",
    "num = int(input(\"Enter a number: \"))\n",
    "print(\"Even\" if num % 2 == 0 else \"Odd\")\n"
   ]
  },
  {
   "cell_type": "code",
   "execution_count": 5,
   "id": "cde816ab-5630-48be-8fab-4ccad1bf02f1",
   "metadata": {},
   "outputs": [
    {
     "name": "stdin",
     "output_type": "stream",
     "text": [
      "Enter first number:  6\n",
      "Enter second number:  8\n"
     ]
    },
    {
     "name": "stdout",
     "output_type": "stream",
     "text": [
      "Before swapping: a = 6, b = 8\n",
      "After swapping: a = 8, b = 6\n"
     ]
    }
   ],
   "source": [
    "# Using input function take two numbers and then swap the number\n",
    "a = int(input(\"Enter first number: \"))\n",
    "b = int(input(\"Enter second number: \"))\n",
    "\n",
    "print(f\"Before swapping: a = {a}, b = {b}\")\n",
    "a, b = b, a\n",
    "print(f\"After swapping: a = {a}, b = {b}\")\n"
   ]
  },
  {
   "cell_type": "code",
   "execution_count": 7,
   "id": "5081df07-b451-4cd4-b304-102e44b11961",
   "metadata": {},
   "outputs": [
    {
     "name": "stdin",
     "output_type": "stream",
     "text": [
      "Enter distance in kilometers:  6\n"
     ]
    },
    {
     "name": "stdout",
     "output_type": "stream",
     "text": [
      "6.0 kilometers is equal to 3.7282260000000003 miles\n"
     ]
    }
   ],
   "source": [
    "# Write a Program to Convert Kilometers to Miles\n",
    "km = float(input(\"Enter distance in kilometers: \"))\n",
    "miles=km * 0.621371\n",
    "print(f\"{km} kilometers is equal to {miles} miles\")\n"
   ]
  },
  {
   "cell_type": "code",
   "execution_count": 9,
   "id": "69e1dc95-6a22-4fa6-8bbe-ea2075ba913c",
   "metadata": {},
   "outputs": [
    {
     "name": "stdout",
     "output_type": "stream",
     "text": [
      "Simple Interest is: Rs. 50.0\n"
     ]
    }
   ],
   "source": [
    "# Find the Simple Interest on Rs. 200 for 5 years at 5% per year.\n",
    "P = 200  \n",
    "R = 5    \n",
    "T = 5    \n",
    "SI = (P * R * T) / 100\n",
    "print(f\"Simple Interest is: Rs. {SI}\")\n"
   ]
  },
  {
   "cell_type": "code",
   "execution_count": null,
   "id": "21595117-a8df-49d4-81e6-087951d57068",
   "metadata": {},
   "outputs": [],
   "source": []
  }
 ],
 "metadata": {
  "kernelspec": {
   "display_name": "Python [conda env:base] *",
   "language": "python",
   "name": "conda-base-py"
  },
  "language_info": {
   "codemirror_mode": {
    "name": "ipython",
    "version": 3
   },
   "file_extension": ".py",
   "mimetype": "text/x-python",
   "name": "python",
   "nbconvert_exporter": "python",
   "pygments_lexer": "ipython3",
   "version": "3.12.7"
  }
 },
 "nbformat": 4,
 "nbformat_minor": 5
}
